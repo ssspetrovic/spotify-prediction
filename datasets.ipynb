{
 "cells": [
  {
   "cell_type": "markdown",
   "metadata": {},
   "source": [
    "# Creating the Dataset"
   ]
  },
  {
   "cell_type": "code",
   "execution_count": 1,
   "metadata": {},
   "outputs": [],
   "source": [
    "import pandas as pd\n",
    "import numpy as np\n",
    "import sklearn "
   ]
  },
  {
   "cell_type": "code",
   "execution_count": 6,
   "metadata": {},
   "outputs": [
    {
     "name": "stdout",
     "output_type": "stream",
     "text": [
      "Index(['track_id', 'track_name', 'track_artist', 'track_popularity',\n",
      "       'track_album_id', 'track_album_name', 'track_album_release_date',\n",
      "       'playlist_name', 'playlist_id', 'playlist_genre', 'playlist_subgenre',\n",
      "       'danceability', 'energy', 'key', 'loudness', 'mode', 'speechiness',\n",
      "       'acousticness', 'instrumentalness', 'liveness', 'valence', 'tempo',\n",
      "       'duration_ms'],\n",
      "      dtype='object')\n",
      "Index(['artists', 'acousticness', 'danceability', 'duration_ms', 'energy',\n",
      "       'instrumentalness', 'liveness', 'loudness', 'speechiness', 'tempo',\n",
      "       'valence', 'popularity', 'key', 'mode', 'count'],\n",
      "      dtype='object')\n",
      "Index(['genres', 'acousticness', 'danceability', 'duration_ms', 'energy',\n",
      "       'instrumentalness', 'liveness', 'loudness', 'speechiness', 'tempo',\n",
      "       'valence', 'popularity', 'key', 'mode'],\n",
      "      dtype='object')\n",
      "Index(['year', 'acousticness', 'danceability', 'duration_ms', 'energy',\n",
      "       'instrumentalness', 'liveness', 'loudness', 'speechiness', 'tempo',\n",
      "       'valence', 'popularity', 'key', 'mode'],\n",
      "      dtype='object')\n",
      "Index(['acousticness', 'artists', 'danceability', 'duration_ms', 'energy',\n",
      "       'explicit', 'id', 'instrumentalness', 'key', 'liveness', 'loudness',\n",
      "       'mode', 'name', 'popularity', 'release_date', 'speechiness', 'tempo',\n",
      "       'valence', 'year'],\n",
      "      dtype='object')\n"
     ]
    }
   ],
   "source": [
    "base_ds_path = 'Datasets/'\n",
    "ds_all = pd.read_csv(base_ds_path + 'spotify_songs.csv')\n",
    "ds_genres = pd.read_csv(base_ds_path + 'data_by_genres.csv')\n",
    "ds_year = pd.read_csv(base_ds_path + 'data_by_year.csv')\n",
    "ds_artist = pd.read_csv(base_ds_path + 'data_by_artist.csv')\n",
    "ds = pd.read_csv(base_ds_path + 'data.csv')\n",
    "\n",
    "datasets = [ds_all, ds_artist, ds_genres, ds_year, ds]\n",
    "\n",
    "for dataset in datasets:\n",
    "    print(dataset.columns)"
   ]
  }
 ],
 "metadata": {
  "kernelspec": {
   "display_name": "env",
   "language": "python",
   "name": "python3"
  },
  "language_info": {
   "codemirror_mode": {
    "name": "ipython",
    "version": 3
   },
   "file_extension": ".py",
   "mimetype": "text/x-python",
   "name": "python",
   "nbconvert_exporter": "python",
   "pygments_lexer": "ipython3",
   "version": "3.10.12"
  }
 },
 "nbformat": 4,
 "nbformat_minor": 2
}
