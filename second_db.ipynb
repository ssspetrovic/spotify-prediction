{
  "cells": [
    {
      "cell_type": "markdown",
      "metadata": {
        "id": "AO4EEekOs_ft"
      },
      "source": [
        "# Spotify Song Prediction"
      ]
    },
    {
      "cell_type": "code",
      "execution_count": 3,
      "metadata": {
        "colab": {
          "base_uri": "https://localhost:8080/"
        },
        "id": "g0K8XKGQvT28",
        "outputId": "38be5ebf-0fe1-450c-ac91-53d7f07ffc5b"
      },
      "outputs": [
        {
          "name": "stdout",
          "output_type": "stream",
          "text": [
            "Mounted at /content/drive\n"
          ]
        }
      ],
      "source": [
        "from google.colab import drive\n",
        "drive.mount('/content/drive')"
      ]
    },
    {
      "cell_type": "markdown",
      "metadata": {
        "id": "8KzF7TVWs_fw"
      },
      "source": [
        "##### Dependencies"
      ]
    },
    {
      "cell_type": "code",
      "execution_count": 4,
      "metadata": {
        "id": "QJTxEKbKs_fy"
      },
      "outputs": [],
      "source": [
        "# Ucitavanje biblioteka i funkcija\n",
        "import numpy as np\n",
        "import pandas as pd\n",
        "import seaborn as sns\n",
        "import matplotlib.pyplot as plt\n",
        "from sklearn.model_selection import train_test_split\n",
        "from sklearn.preprocessing import StandardScaler, PolynomialFeatures\n",
        "from sklearn.linear_model import LinearRegression, Ridge, Lasso\n",
        "from sklearn.model_selection import GridSearchCV, KFold\n",
        "from sklearn.feature_selection import RFE\n",
        "from sklearn.metrics import mean_squared_error, mean_absolute_error, r2_score\n",
        "from sklearn.model_selection import GridSearchCV\n",
        "from sklearn.decomposition import PCA"
      ]
    },
    {
      "cell_type": "markdown",
      "metadata": {
        "id": "6HDaXVuts_fy"
      },
      "source": [
        "##### Util classes"
      ]
    },
    {
      "cell_type": "code",
      "execution_count": 5,
      "metadata": {
        "id": "HXcqw69Bs_f0"
      },
      "outputs": [],
      "source": [
        "class ModelResultsLogger:\n",
        "    def __init__(self):\n",
        "        self.model_scores = {}\n",
        "\n",
        "    def log_score(self, model_name, dataset_name, r2_score):\n",
        "        if model_name not in self.model_scores:\n",
        "            self.model_scores[model_name] = {}\n",
        "        self.model_scores[model_name][dataset_name] = r2_score\n",
        "\n",
        "    def plot_results(self):\n",
        "        models = list(self.model_scores.keys())\n",
        "        datasets = list(next(iter(self.model_scores.values())).keys())\n",
        "\n",
        "        fig, ax = plt.subplots()\n",
        "        bar_width = 0.35\n",
        "        index = range(len(models))\n",
        "\n",
        "        for i, dataset_name in enumerate(datasets):\n",
        "            scores = [self.model_scores[model_name].get(dataset_name, None) for model_name in models]\n",
        "            ax.bar([x + i * bar_width for x in index], scores, bar_width, label=dataset_name)\n",
        "\n",
        "        ax.set_xlabel('Models')\n",
        "        ax.set_ylabel('R2 Score')\n",
        "        ax.set_title('Comparison of R2 Scores for Different Models and Datasets')\n",
        "        ax.set_xticks([x + bar_width / 2 for x in index])\n",
        "        ax.set_xticklabels(models)\n",
        "        ax.legend()\n",
        "\n",
        "        plt.show()\n",
        "\n",
        "logger = ModelResultsLogger()"
      ]
    },
    {
      "cell_type": "markdown",
      "metadata": {
        "id": "GhNlCrE_s_f1"
      },
      "source": [
        "##### Loading the dataset"
      ]
    },
    {
      "cell_type": "code",
      "execution_count": 1,
      "metadata": {
        "colab": {
          "base_uri": "https://localhost:8080/",
          "height": 265
        },
        "id": "oGNf24rns_f5",
        "outputId": "636807a7-8e95-40df-df71-2953be5373bd"
      },
      "outputs": [
        {
          "ename": "NameError",
          "evalue": "name 'pd' is not defined",
          "output_type": "error",
          "traceback": [
            "\u001b[0;31m---------------------------------------------------------------------------\u001b[0m",
            "\u001b[0;31mNameError\u001b[0m                                 Traceback (most recent call last)",
            "\u001b[0;32m<ipython-input-1-343a6c1f7d3a>\u001b[0m in \u001b[0;36m<cell line: 1>\u001b[0;34m()\u001b[0m\n\u001b[0;32m----> 1\u001b[0;31m \u001b[0mdf\u001b[0m \u001b[0;34m=\u001b[0m \u001b[0mpd\u001b[0m\u001b[0;34m.\u001b[0m\u001b[0mread_csv\u001b[0m\u001b[0;34m(\u001b[0m\u001b[0;34m'/content/drive/MyDrive/Datasets/spotify_songs.csv'\u001b[0m\u001b[0;34m)\u001b[0m\u001b[0;34m\u001b[0m\u001b[0;34m\u001b[0m\u001b[0m\n\u001b[0m\u001b[1;32m      2\u001b[0m \u001b[0mdf_two\u001b[0m \u001b[0;34m=\u001b[0m \u001b[0mpd\u001b[0m\u001b[0;34m.\u001b[0m\u001b[0mread_csv\u001b[0m\u001b[0;34m(\u001b[0m\u001b[0;34m'/content/drive/MyDrive/Datasets/data_merged.csv'\u001b[0m\u001b[0;34m)\u001b[0m\u001b[0;34m\u001b[0m\u001b[0;34m\u001b[0m\u001b[0m\n\u001b[1;32m      3\u001b[0m \u001b[0;34m\u001b[0m\u001b[0m\n\u001b[1;32m      4\u001b[0m \u001b[0mdf\u001b[0m\u001b[0;34m.\u001b[0m\u001b[0mhead\u001b[0m\u001b[0;34m(\u001b[0m\u001b[0;34m)\u001b[0m\u001b[0;34m\u001b[0m\u001b[0;34m\u001b[0m\u001b[0m\n",
            "\u001b[0;31mNameError\u001b[0m: name 'pd' is not defined"
          ]
        }
      ],
      "source": [
        "df = pd.read_csv('/content/drive/MyDrive/Datasets/spotify_songs.csv')\n",
        "df_two = pd.read_csv('/content/drive/MyDrive/Datasets/data_merged.csv')\n",
        "\n",
        "df.head()\n"
      ]
    },
    {
      "cell_type": "code",
      "execution_count": 7,
      "metadata": {
        "colab": {
          "base_uri": "https://localhost:8080/"
        },
        "id": "rgfCh7pes_f6",
        "outputId": "782cfbc0-f32a-4832-ab64-d83bbaa3dd83"
      },
      "outputs": [
        {
          "data": {
            "text/plain": [
              "Index(['acousticness', 'danceability', 'duration_ms', 'energy', 'explicit',\n",
              "       'instrumentalness', 'liveness', 'loudness', 'popularity', 'speechiness',\n",
              "       'tempo', 'valence', 'year', 'key_0', 'key_1', 'key_2', 'key_3', 'key_4',\n",
              "       'key_5', 'key_6', 'key_7', 'key_8', 'key_9', 'key_10', 'key_11',\n",
              "       'minor', 'major', 'acousticness_ar', 'danceability_ar',\n",
              "       'duration_ms_ar', 'energy_ar', 'instrumentalness_ar', 'liveness_ar',\n",
              "       'loudness_ar', 'speechiness_ar', 'tempo_ar', 'valence_ar',\n",
              "       'popularity_ar', 'count', 'key_0_ar', 'key_1_ar', 'key_2_ar',\n",
              "       'key_3_ar', 'key_4_ar', 'key_5_ar', 'key_6_ar', 'key_7_ar', 'key_8_ar',\n",
              "       'key_9_ar', 'key_10_ar', 'key_11_ar', 'minor_ar', 'major_ar',\n",
              "       'acousticness_yr', 'danceability_yr', 'duration_ms_yr', 'energy_yr',\n",
              "       'instrumentalness_yr', 'liveness_yr', 'loudness_yr', 'speechiness_yr',\n",
              "       'tempo_yr', 'valence_yr', 'popularity_yr', 'mode', 'key_0_yr',\n",
              "       'key_1_yr', 'key_2_yr', 'key_3_yr', 'key_4_yr', 'key_5_yr', 'key_6_yr'],\n",
              "      dtype='object')"
            ]
          },
          "execution_count": 7,
          "metadata": {},
          "output_type": "execute_result"
        }
      ],
      "source": [
        "df_two.columns"
      ]
    },
    {
      "cell_type": "markdown",
      "metadata": {
        "id": "_tpGreaQs_f8"
      },
      "source": [
        "##### Dropping invalid and missing values"
      ]
    },
    {
      "cell_type": "code",
      "execution_count": 8,
      "metadata": {
        "id": "ESyUTw9As_f9"
      },
      "outputs": [],
      "source": [
        "columns_to_drop = ['track_id', 'track_artist', 'track_name', 'track_album_id', 'track_album_name', 'playlist_name', 'playlist_id']\n",
        "df.drop(columns=columns_to_drop, inplace=True)\n",
        "df.dropna(axis=0, inplace=True)\n",
        "\n",
        "# df = df[df['track_popularity'] < 15]\n",
        "\n",
        "rows_to_drop = df.loc[df['duration_ms'] < 20000].index\n",
        "df.drop(rows_to_drop, inplace=True)\n",
        "\n",
        "new_df = df.copy()\n",
        "\n",
        "# Assuming 'date' is a string column in the format 'YYYY-MM-DD'\n",
        "new_df[['year', 'month', 'day']] = new_df['track_album_release_date'].str.split('-', expand=True)\n",
        "\n",
        "# Convert the columns to numeric (to handle missing values during median calculation)\n",
        "new_df['year'] = pd.to_numeric(new_df['year'], errors='coerce', downcast='integer')\n",
        "# new_df['month'] = pd.to_numeric(new_df['month'], errors='coerce', downcast='integer')\n",
        "# new_df['day'] = pd.to_numeric(new_df['day'], errors='coerce', downcast='integer')\n",
        "\n",
        "# Calculate median values for year, month, and day\n",
        "median_year = int(new_df['year'].median())\n",
        "# median_month = int(new_df['month'].median())\n",
        "# median_day = int(new_df['day'].median())\n",
        "\n",
        "# Fill missing values with median values\n",
        "new_df['year'] = new_df['year'].fillna(median_year).astype(int)\n",
        "# new_df['month'] = new_df['month'].fillna(median_month).astype(int)\n",
        "# new_df['day'] = new_df['day'].fillna(median_day).astype(int)\n",
        "\n",
        "X = new_df.drop(['track_popularity', 'track_album_release_date', 'month', 'day'], axis=1)\n",
        "# X.columns\n",
        "\n",
        "X = pd.get_dummies(X, dtype=int)\n",
        "X['year'] = new_df['year']\n",
        "y = new_df['track_popularity']\n",
        "\n",
        "#New data set\n",
        "X_two = df_two.drop(columns=['popularity'])\n",
        "y_two = df_two['popularity']\n"
      ]
    },
    {
      "cell_type": "code",
      "execution_count": 9,
      "metadata": {
        "colab": {
          "base_uri": "https://localhost:8080/",
          "height": 963
        },
        "id": "unO8dOLzs_f9",
        "outputId": "c71f985d-9c28-4255-e42d-f1276dbd4570"
      },
      "outputs": [
        {
          "data": {
            "image/png": "[encoded data removed]",
            "text/plain": [
              "<Figure size 800x1200 with 3 Axes>"
            ]
          },
          "metadata": {},
          "output_type": "display_data"
        }
      ],
      "source": [
        "\n",
        "\n",
        "fig, axes = plt.subplots(3, 1, figsize=(8, 12))\n",
        "\n",
        "axes[0].hist(y, bins=30, alpha=0.5, color='blue')\n",
        "axes[0].set_title('Histogram of y popularity')\n",
        "\n",
        "axes[1].hist(y_two, bins=30, alpha=0.5, color='orange')\n",
        "axes[1].set_title('Histogram of y_two popularity')\n",
        "\n",
        "axes[2].hist(y, bins=30, alpha=0.5, color='blue', label='y')\n",
        "axes[2].hist(y_two, bins=30, alpha=0.5, color='orange', label='y_two')\n",
        "axes[2].set_title('Histograms of y and y_two popularity')\n",
        "\n",
        "axes[2].legend()\n",
        "\n",
        "for ax in axes:\n",
        "    ax.set_xlabel('Values')\n",
        "    ax.set_ylabel('Frequency')\n",
        "\n",
        "plt.tight_layout()\n",
        "plt.show()"
      ]
    },
    {
      "cell_type": "code",
      "execution_count": 10,
      "metadata": {
        "colab": {
          "base_uri": "https://localhost:8080/"
        },
        "id": "0ntrLuSHs_f_",
        "outputId": "de30f165-f317-4364-e95c-d2110694669f"
      },
      "outputs": [
        {
          "data": {
            "text/plain": [
              "Index(['danceability', 'energy', 'key', 'loudness', 'mode', 'speechiness',\n",
              "       'acousticness', 'instrumentalness', 'liveness', 'valence', 'tempo',\n",
              "       'duration_ms', 'year', 'playlist_genre_edm', 'playlist_genre_latin',\n",
              "       'playlist_genre_pop', 'playlist_genre_r&b', 'playlist_genre_rap',\n",
              "       'playlist_genre_rock', 'playlist_subgenre_album rock',\n",
              "       'playlist_subgenre_big room', 'playlist_subgenre_classic rock',\n",
              "       'playlist_subgenre_dance pop', 'playlist_subgenre_electro house',\n",
              "       'playlist_subgenre_electropop', 'playlist_subgenre_gangster rap',\n",
              "       'playlist_subgenre_hard rock', 'playlist_subgenre_hip hop',\n",
              "       'playlist_subgenre_hip pop', 'playlist_subgenre_indie poptimism',\n",
              "       'playlist_subgenre_latin hip hop', 'playlist_subgenre_latin pop',\n",
              "       'playlist_subgenre_neo soul', 'playlist_subgenre_new jack swing',\n",
              "       'playlist_subgenre_permanent wave', 'playlist_subgenre_pop edm',\n",
              "       'playlist_subgenre_post-teen pop',\n",
              "       'playlist_subgenre_progressive electro house',\n",
              "       'playlist_subgenre_reggaeton', 'playlist_subgenre_southern hip hop',\n",
              "       'playlist_subgenre_trap', 'playlist_subgenre_tropical',\n",
              "       'playlist_subgenre_urban contemporary'],\n",
              "      dtype='object')"
            ]
          },
          "execution_count": 10,
          "metadata": {},
          "output_type": "execute_result"
        }
      ],
      "source": [
        "# X.tail()\n",
        "X.columns"
      ]
    },
    {
      "cell_type": "code",
      "execution_count": 11,
      "metadata": {
        "colab": {
          "base_uri": "https://localhost:8080/"
        },
        "id": "zMW96RLJs_f_",
        "outputId": "0bb66789-2c08-4b8a-b1c0-582d48ba98c1"
      },
      "outputs": [
        {
          "data": {
            "text/plain": [
              "danceability                                        0.63000\n",
              "energy                                              0.52600\n",
              "key                                                 7.00000\n",
              "loudness                                           -9.12100\n",
              "mode                                                1.00000\n",
              "speechiness                                         0.03890\n",
              "acousticness                                        0.31600\n",
              "instrumentalness                                    0.00538\n",
              "liveness                                            0.07470\n",
              "valence                                             0.61000\n",
              "tempo                                             145.27100\n",
              "duration_ms                                    215333.00000\n",
              "year                                             1981.00000\n",
              "playlist_genre_edm                                  0.00000\n",
              "playlist_genre_latin                                0.00000\n",
              "playlist_genre_pop                                  1.00000\n",
              "playlist_genre_r&b                                  0.00000\n",
              "playlist_genre_rap                                  0.00000\n",
              "playlist_genre_rock                                 0.00000\n",
              "playlist_subgenre_album rock                        0.00000\n",
              "playlist_subgenre_big room                          0.00000\n",
              "playlist_subgenre_classic rock                      0.00000\n",
              "playlist_subgenre_dance pop                         0.00000\n",
              "playlist_subgenre_electro house                     0.00000\n",
              "playlist_subgenre_electropop                        1.00000\n",
              "playlist_subgenre_gangster rap                      0.00000\n",
              "playlist_subgenre_hard rock                         0.00000\n",
              "playlist_subgenre_hip hop                           0.00000\n",
              "playlist_subgenre_hip pop                           0.00000\n",
              "playlist_subgenre_indie poptimism                   0.00000\n",
              "playlist_subgenre_latin hip hop                     0.00000\n",
              "playlist_subgenre_latin pop                         0.00000\n",
              "playlist_subgenre_neo soul                          0.00000\n",
              "playlist_subgenre_new jack swing                    0.00000\n",
              "playlist_subgenre_permanent wave                    0.00000\n",
              "playlist_subgenre_pop edm                           0.00000\n",
              "playlist_subgenre_post-teen pop                     0.00000\n",
              "playlist_subgenre_progressive electro house         0.00000\n",
              "playlist_subgenre_reggaeton                         0.00000\n",
              "playlist_subgenre_southern hip hop                  0.00000\n",
              "playlist_subgenre_trap                              0.00000\n",
              "playlist_subgenre_tropical                          0.00000\n",
              "playlist_subgenre_urban contemporary                0.00000\n",
              "Name: 3446, dtype: float64"
            ]
          },
          "execution_count": 11,
          "metadata": {},
          "output_type": "execute_result"
        }
      ],
      "source": [
        "df.iloc[3446]\n",
        "X.iloc[3446]"
      ]
    },
    {
      "cell_type": "markdown",
      "metadata": {
        "id": "oD1q_ZNDs_f_"
      },
      "source": [
        "##### Splitting the dataset"
      ]
    },
    {
      "cell_type": "code",
      "execution_count": 12,
      "metadata": {
        "id": "5c_bkTP8s_gA"
      },
      "outputs": [],
      "source": [
        "X_train, X_test, y_train, y_test = train_test_split(X, y, test_size=0.05, random_state=42)\n",
        "X_train_two, X_test_two, y_trian_two, y_test_two = train_test_split(X_two, y_two, test_size=0.05, random_state=42)"
      ]
    },
    {
      "cell_type": "code",
      "execution_count": 13,
      "metadata": {
        "colab": {
          "base_uri": "https://localhost:8080/",
          "height": 367
        },
        "id": "dzEK-T0fs_gA",
        "outputId": "1f8b2bb3-d25b-4381-87cf-93497736f515"
      },
      "outputs": [
        {
          "data": {
            "application/vnd.google.colaboratory.intrinsic+json": {
              "type": "dataframe"
            },
            "text/html": [
              "\n",
              "  <div id=\"df-fdcc83c5-9471-4b02-ace2-ec6882146195\" class=\"colab-df-container\">\n",
              "    <div>\n",
              "<style scoped>\n",
              "    .dataframe tbody tr th:only-of-type {\n",
              "        vertical-align: middle;\n",
              "    }\n",
              "\n",
              "    .dataframe tbody tr th {\n",
              "        vertical-align: top;\n",
              "    }\n",
              "\n",
              "    .dataframe thead th {\n",
              "        text-align: right;\n",
              "    }\n",
              "</style>\n",
              "<table border=\"1\" class=\"dataframe\">\n",
              "  <thead>\n",
              "    <tr style=\"text-align: right;\">\n",
              "      <th></th>\n",
              "      <th>danceability</th>\n",
              "      <th>energy</th>\n",
              "      <th>key</th>\n",
              "      <th>loudness</th>\n",
              "      <th>mode</th>\n",
              "      <th>speechiness</th>\n",
              "      <th>acousticness</th>\n",
              "      <th>instrumentalness</th>\n",
              "      <th>liveness</th>\n",
              "      <th>valence</th>\n",
              "      <th>...</th>\n",
              "      <th>playlist_subgenre_new jack swing</th>\n",
              "      <th>playlist_subgenre_permanent wave</th>\n",
              "      <th>playlist_subgenre_pop edm</th>\n",
              "      <th>playlist_subgenre_post-teen pop</th>\n",
              "      <th>playlist_subgenre_progressive electro house</th>\n",
              "      <th>playlist_subgenre_reggaeton</th>\n",
              "      <th>playlist_subgenre_southern hip hop</th>\n",
              "      <th>playlist_subgenre_trap</th>\n",
              "      <th>playlist_subgenre_tropical</th>\n",
              "      <th>playlist_subgenre_urban contemporary</th>\n",
              "    </tr>\n",
              "  </thead>\n",
              "  <tbody>\n",
              "    <tr>\n",
              "      <th>count</th>\n",
              "      <td>32832.000000</td>\n",
              "      <td>32832.000000</td>\n",
              "      <td>32832.000000</td>\n",
              "      <td>32832.000000</td>\n",
              "      <td>32832.000000</td>\n",
              "      <td>32832.000000</td>\n",
              "      <td>32832.000000</td>\n",
              "      <td>32832.000000</td>\n",
              "      <td>32832.000000</td>\n",
              "      <td>32832.000000</td>\n",
              "      <td>...</td>\n",
              "      <td>32832.000000</td>\n",
              "      <td>32832.000000</td>\n",
              "      <td>32832.000000</td>\n",
              "      <td>32832.000000</td>\n",
              "      <td>32832.000000</td>\n",
              "      <td>32832.000000</td>\n",
              "      <td>32832.000000</td>\n",
              "      <td>32832.000000</td>\n",
              "      <td>32832.000000</td>\n",
              "      <td>32832.000000</td>\n",
              "    </tr>\n",
              "    <tr>\n",
              "      <th>mean</th>\n",
              "      <td>0.654869</td>\n",
              "      <td>0.698631</td>\n",
              "      <td>5.374604</td>\n",
              "      <td>-6.718909</td>\n",
              "      <td>0.565698</td>\n",
              "      <td>0.107071</td>\n",
              "      <td>0.175339</td>\n",
              "      <td>0.084750</td>\n",
              "      <td>0.190182</td>\n",
              "      <td>0.510577</td>\n",
              "      <td>...</td>\n",
              "      <td>0.034509</td>\n",
              "      <td>0.033656</td>\n",
              "      <td>0.046205</td>\n",
              "      <td>0.034387</td>\n",
              "      <td>0.055099</td>\n",
              "      <td>0.028905</td>\n",
              "      <td>0.051017</td>\n",
              "      <td>0.039321</td>\n",
              "      <td>0.039230</td>\n",
              "      <td>0.042794</td>\n",
              "    </tr>\n",
              "    <tr>\n",
              "      <th>std</th>\n",
              "      <td>0.145043</td>\n",
              "      <td>0.180900</td>\n",
              "      <td>3.611632</td>\n",
              "      <td>2.986570</td>\n",
              "      <td>0.495673</td>\n",
              "      <td>0.101314</td>\n",
              "      <td>0.219634</td>\n",
              "      <td>0.224233</td>\n",
              "      <td>0.154316</td>\n",
              "      <td>0.233132</td>\n",
              "      <td>...</td>\n",
              "      <td>0.182535</td>\n",
              "      <td>0.180345</td>\n",
              "      <td>0.209932</td>\n",
              "      <td>0.182224</td>\n",
              "      <td>0.228176</td>\n",
              "      <td>0.167541</td>\n",
              "      <td>0.220036</td>\n",
              "      <td>0.194361</td>\n",
              "      <td>0.194145</td>\n",
              "      <td>0.202395</td>\n",
              "    </tr>\n",
              "    <tr>\n",
              "      <th>min</th>\n",
              "      <td>0.077100</td>\n",
              "      <td>0.000175</td>\n",
              "      <td>0.000000</td>\n",
              "      <td>-46.448000</td>\n",
              "      <td>0.000000</td>\n",
              "      <td>0.022400</td>\n",
              "      <td>0.000001</td>\n",
              "      <td>0.000000</td>\n",
              "      <td>0.009360</td>\n",
              "      <td>0.000010</td>\n",
              "      <td>...</td>\n",
              "      <td>0.000000</td>\n",
              "      <td>0.000000</td>\n",
              "      <td>0.000000</td>\n",
              "      <td>0.000000</td>\n",
              "      <td>0.000000</td>\n",
              "      <td>0.000000</td>\n",
              "      <td>0.000000</td>\n",
              "      <td>0.000000</td>\n",
              "      <td>0.000000</td>\n",
              "      <td>0.000000</td>\n",
              "    </tr>\n",
              "    <tr>\n",
              "      <th>25%</th>\n",
              "      <td>0.563000</td>\n",
              "      <td>0.581000</td>\n",
              "      <td>2.000000</td>\n",
              "      <td>-8.171000</td>\n",
              "      <td>0.000000</td>\n",
              "      <td>0.041000</td>\n",
              "      <td>0.015100</td>\n",
              "      <td>0.000000</td>\n",
              "      <td>0.092700</td>\n",
              "      <td>0.331000</td>\n",
              "      <td>...</td>\n",
              "      <td>0.000000</td>\n",
              "      <td>0.000000</td>\n",
              "      <td>0.000000</td>\n",
              "      <td>0.000000</td>\n",
              "      <td>0.000000</td>\n",
              "      <td>0.000000</td>\n",
              "      <td>0.000000</td>\n",
              "      <td>0.000000</td>\n",
              "      <td>0.000000</td>\n",
              "      <td>0.000000</td>\n",
              "    </tr>\n",
              "    <tr>\n",
              "      <th>50%</th>\n",
              "      <td>0.672000</td>\n",
              "      <td>0.721000</td>\n",
              "      <td>6.000000</td>\n",
              "      <td>-6.166000</td>\n",
              "      <td>1.000000</td>\n",
              "      <td>0.062500</td>\n",
              "      <td>0.080400</td>\n",
              "      <td>0.000016</td>\n",
              "      <td>0.127000</td>\n",
              "      <td>0.512000</td>\n",
              "      <td>...</td>\n",
              "      <td>0.000000</td>\n",
              "      <td>0.000000</td>\n",
              "      <td>0.000000</td>\n",
              "      <td>0.000000</td>\n",
              "      <td>0.000000</td>\n",
              "      <td>0.000000</td>\n",
              "      <td>0.000000</td>\n",
              "      <td>0.000000</td>\n",
              "      <td>0.000000</td>\n",
              "      <td>0.000000</td>\n",
              "    </tr>\n",
              "    <tr>\n",
              "      <th>75%</th>\n",
              "      <td>0.761000</td>\n",
              "      <td>0.840000</td>\n",
              "      <td>9.000000</td>\n",
              "      <td>-4.645000</td>\n",
              "      <td>1.000000</td>\n",
              "      <td>0.132000</td>\n",
              "      <td>0.255000</td>\n",
              "      <td>0.004830</td>\n",
              "      <td>0.248000</td>\n",
              "      <td>0.693000</td>\n",
              "      <td>...</td>\n",
              "      <td>0.000000</td>\n",
              "      <td>0.000000</td>\n",
              "      <td>0.000000</td>\n",
              "      <td>0.000000</td>\n",
              "      <td>0.000000</td>\n",
              "      <td>0.000000</td>\n",
              "      <td>0.000000</td>\n",
              "      <td>0.000000</td>\n",
              "      <td>0.000000</td>\n",
              "      <td>0.000000</td>\n",
              "    </tr>\n",
              "    <tr>\n",
              "      <th>max</th>\n",
              "      <td>0.983000</td>\n",
              "      <td>1.000000</td>\n",
              "      <td>11.000000</td>\n",
              "      <td>1.275000</td>\n",
              "      <td>1.000000</td>\n",
              "      <td>0.918000</td>\n",
              "      <td>0.994000</td>\n",
              "      <td>0.994000</td>\n",
              "      <td>0.996000</td>\n",
              "      <td>0.991000</td>\n",
              "      <td>...</td>\n",
              "      <td>1.000000</td>\n",
              "      <td>1.000000</td>\n",
              "      <td>1.000000</td>\n",
              "      <td>1.000000</td>\n",
              "      <td>1.000000</td>\n",
              "      <td>1.000000</td>\n",
              "      <td>1.000000</td>\n",
              "      <td>1.000000</td>\n",
              "      <td>1.000000</td>\n",
              "      <td>1.000000</td>\n",
              "    </tr>\n",
              "  </tbody>\n",
              "</table>\n",
              "<p>8 rows × 43 columns</p>\n",
              "</div>\n",
              "    <div class=\"colab-df-buttons\">\n",
              "\n",
              "  <div class=\"colab-df-container\">\n",
              "    <button class=\"colab-df-convert\" onclick=\"convertToInteractive('df-fdcc83c5-9471-4b02-ace2-ec6882146195')\"\n",
              "            title=\"Convert this dataframe to an interactive table.\"\n",
              "            style=\"display:none;\">\n",
              "\n",
              "  <svg xmlns=\"http://www.w3.org/2000/svg\" height=\"24px\" viewBox=\"0 -960 960 960\">\n",
              "    <path d=\"M120-120v-720h720v720H120Zm60-500h600v-160H180v160Zm220 220h160v-160H400v160Zm0 220h160v-160H400v160ZM180-400h160v-160H180v160Zm440 0h160v-160H620v160ZM180-180h160v-160H180v160Zm440 0h160v-160H620v160Z\"/>\n",
              "  </svg>\n",
              "    </button>\n",
              "\n",
              "  <style>\n",
              "    .colab-df-container {\n",
              "      display:flex;\n",
              "      gap: 12px;\n",
              "    }\n",
              "\n",
              "    .colab-df-convert {\n",
              "      background-color: #E8F0FE;\n",
              "      border: none;\n",
              "      border-radius: 50%;\n",
              "      cursor: pointer;\n",
              "      display: none;\n",
              "      fill: #1967D2;\n",
              "      height: 32px;\n",
              "      padding: 0 0 0 0;\n",
              "      width: 32px;\n",
              "    }\n",
              "\n",
              "    .colab-df-convert:hover {\n",
              "      background-color: #E2EBFA;\n",
              "      box-shadow: 0px 1px 2px rgba(60, 64, 67, 0.3), 0px 1px 3px 1px rgba(60, 64, 67, 0.15);\n",
              "      fill: #174EA6;\n",
              "    }\n",
              "\n",
              "    .colab-df-buttons div {\n",
              "      margin-bottom: 4px;\n",
              "    }\n",
              "\n",
              "    [theme=dark] .colab-df-convert {\n",
              "      background-color: #3B4455;\n",
              "      fill: #D2E3FC;\n",
              "    }\n",
              "\n",
              "    [theme=dark] .colab-df-convert:hover {\n",
              "      background-color: #434B5C;\n",
              "      box-shadow: 0px 1px 3px 1px rgba(0, 0, 0, 0.15);\n",
              "      filter: drop-shadow(0px 1px 2px rgba(0, 0, 0, 0.3));\n",
              "      fill: #FFFFFF;\n",
              "    }\n",
              "  </style>\n",
              "\n",
              "    <script>\n",
              "      const buttonEl =\n",
              "        document.querySelector('#df-fdcc83c5-9471-4b02-ace2-ec6882146195 button.colab-df-convert');\n",
              "      buttonEl.style.display =\n",
              "        google.colab.kernel.accessAllowed ? 'block' : 'none';\n",
              "\n",
              "      async function convertToInteractive(key) {\n",
              "        const element = document.querySelector('#df-fdcc83c5-9471-4b02-ace2-ec6882146195');\n",
              "        const dataTable =\n",
              "          await google.colab.kernel.invokeFunction('convertToInteractive',\n",
              "                                                    [key], {});\n",
              "        if (!dataTable) return;\n",
              "\n",
              "        const docLinkHtml = 'Like what you see? Visit the ' +\n",
              "          '<a target=\"_blank\" href=https://colab.research.google.com/notebooks/data_table.ipynb>data table notebook</a>'\n",
              "          + ' to learn more about interactive tables.';\n",
              "        element.innerHTML = '';\n",
              "        dataTable['output_type'] = 'display_data';\n",
              "        await google.colab.output.renderOutput(dataTable, element);\n",
              "        const docLink = document.createElement('div');\n",
              "        docLink.innerHTML = docLinkHtml;\n",
              "        element.appendChild(docLink);\n",
              "      }\n",
              "    </script>\n",
              "  </div>\n",
              "\n",
              "\n",
              "<div id=\"df-67f7787f-fd43-4da3-b5d6-86137ce8435e\">\n",
              "  <button class=\"colab-df-quickchart\" onclick=\"quickchart('df-67f7787f-fd43-4da3-b5d6-86137ce8435e')\"\n",
              "            title=\"Suggest charts\"\n",
              "            style=\"display:none;\">\n",
              "\n",
              "<svg xmlns=\"http://www.w3.org/2000/svg\" height=\"24px\"viewBox=\"0 0 24 24\"\n",
              "     width=\"24px\">\n",
              "    <g>\n",
              "        <path d=\"M19 3H5c-1.1 0-2 .9-2 2v14c0 1.1.9 2 2 2h14c1.1 0 2-.9 2-2V5c0-1.1-.9-2-2-2zM9 17H7v-7h2v7zm4 0h-2V7h2v10zm4 0h-2v-4h2v4z\"/>\n",
              "    </g>\n",
              "</svg>\n",
              "  </button>\n",
              "\n",
              "<style>\n",
              "  .colab-df-quickchart {\n",
              "      --bg-color: #E8F0FE;\n",
              "      --fill-color: #1967D2;\n",
              "      --hover-bg-color: #E2EBFA;\n",
              "      --hover-fill-color: #174EA6;\n",
              "      --disabled-fill-color: #AAA;\n",
              "      --disabled-bg-color: #DDD;\n",
              "  }\n",
              "\n",
              "  [theme=dark] .colab-df-quickchart {\n",
              "      --bg-color: #3B4455;\n",
              "      --fill-color: #D2E3FC;\n",
              "      --hover-bg-color: #434B5C;\n",
              "      --hover-fill-color: #FFFFFF;\n",
              "      --disabled-bg-color: #3B4455;\n",
              "      --disabled-fill-color: #666;\n",
              "  }\n",
              "\n",
              "  .colab-df-quickchart {\n",
              "    background-color: var(--bg-color);\n",
              "    border: none;\n",
              "    border-radius: 50%;\n",
              "    cursor: pointer;\n",
              "    display: none;\n",
              "    fill: var(--fill-color);\n",
              "    height: 32px;\n",
              "    padding: 0;\n",
              "    width: 32px;\n",
              "  }\n",
              "\n",
              "  .colab-df-quickchart:hover {\n",
              "    background-color: var(--hover-bg-color);\n",
              "    box-shadow: 0 1px 2px rgba(60, 64, 67, 0.3), 0 1px 3px 1px rgba(60, 64, 67, 0.15);\n",
              "    fill: var(--button-hover-fill-color);\n",
              "  }\n",
              "\n",
              "  .colab-df-quickchart-complete:disabled,\n",
              "  .colab-df-quickchart-complete:disabled:hover {\n",
              "    background-color: var(--disabled-bg-color);\n",
              "    fill: var(--disabled-fill-color);\n",
              "    box-shadow: none;\n",
              "  }\n",
              "\n",
              "  .colab-df-spinner {\n",
              "    border: 2px solid var(--fill-color);\n",
              "    border-color: transparent;\n",
              "    border-bottom-color: var(--fill-color);\n",
              "    animation:\n",
              "      spin 1s steps(1) infinite;\n",
              "  }\n",
              "\n",
              "  @keyframes spin {\n",
              "    0% {\n",
              "      border-color: transparent;\n",
              "      border-bottom-color: var(--fill-color);\n",
              "      border-left-color: var(--fill-color);\n",
              "    }\n",
              "    20% {\n",
              "      border-color: transparent;\n",
              "      border-left-color: var(--fill-color);\n",
              "      border-top-color: var(--fill-color);\n",
              "    }\n",
              "    30% {\n",
              "      border-color: transparent;\n",
              "      border-left-color: var(--fill-color);\n",
              "      border-top-color: var(--fill-color);\n",
              "      border-right-color: var(--fill-color);\n",
              "    }\n",
              "    40% {\n",
              "      border-color: transparent;\n",
              "      border-right-color: var(--fill-color);\n",
              "      border-top-color: var(--fill-color);\n",
              "    }\n",
              "    60% {\n",
              "      border-color: transparent;\n",
              "      border-right-color: var(--fill-color);\n",
              "    }\n",
              "    80% {\n",
              "      border-color: transparent;\n",
              "      border-right-color: var(--fill-color);\n",
              "      border-bottom-color: var(--fill-color);\n",
              "    }\n",
              "    90% {\n",
              "      border-color: transparent;\n",
              "      border-bottom-color: var(--fill-color);\n",
              "    }\n",
              "  }\n",
              "</style>\n",
              "\n",
              "  <script>\n",
              "    async function quickchart(key) {\n",
              "      const quickchartButtonEl =\n",
              "        document.querySelector('#' + key + ' button');\n",
              "      quickchartButtonEl.disabled = true;  // To prevent multiple clicks.\n",
              "      quickchartButtonEl.classList.add('colab-df-spinner');\n",
              "      try {\n",
              "        const charts = await google.colab.kernel.invokeFunction(\n",
              "            'suggestCharts', [key], {});\n",
              "      } catch (error) {\n",
              "        console.error('Error during call to suggestCharts:', error);\n",
              "      }\n",
              "      quickchartButtonEl.classList.remove('colab-df-spinner');\n",
              "      quickchartButtonEl.classList.add('colab-df-quickchart-complete');\n",
              "    }\n",
              "    (() => {\n",
              "      let quickchartButtonEl =\n",
              "        document.querySelector('#df-67f7787f-fd43-4da3-b5d6-86137ce8435e button');\n",
              "      quickchartButtonEl.style.display =\n",
              "        google.colab.kernel.accessAllowed ? 'block' : 'none';\n",
              "    })();\n",
              "  </script>\n",
              "</div>\n",
              "    </div>\n",
              "  </div>\n"
            ],
            "text/plain": [
              "       danceability        energy           key      loudness          mode  \\\n",
              "count  32832.000000  32832.000000  32832.000000  32832.000000  32832.000000   \n",
              "mean       0.654869      0.698631      5.374604     -6.718909      0.565698   \n",
              "std        0.145043      0.180900      3.611632      2.986570      0.495673   \n",
              "min        0.077100      0.000175      0.000000    -46.448000      0.000000   \n",
              "25%        0.563000      0.581000      2.000000     -8.171000      0.000000   \n",
              "50%        0.672000      0.721000      6.000000     -6.166000      1.000000   \n",
              "75%        0.761000      0.840000      9.000000     -4.645000      1.000000   \n",
              "max        0.983000      1.000000     11.000000      1.275000      1.000000   \n",
              "\n",
              "        speechiness  acousticness  instrumentalness      liveness  \\\n",
              "count  32832.000000  32832.000000      32832.000000  32832.000000   \n",
              "mean       0.107071      0.175339          0.084750      0.190182   \n",
              "std        0.101314      0.219634          0.224233      0.154316   \n",
              "min        0.022400      0.000001          0.000000      0.009360   \n",
              "25%        0.041000      0.015100          0.000000      0.092700   \n",
              "50%        0.062500      0.080400          0.000016      0.127000   \n",
              "75%        0.132000      0.255000          0.004830      0.248000   \n",
              "max        0.918000      0.994000          0.994000      0.996000   \n",
              "\n",
              "            valence  ...  playlist_subgenre_new jack swing  \\\n",
              "count  32832.000000  ...                      32832.000000   \n",
              "mean       0.510577  ...                          0.034509   \n",
              "std        0.233132  ...                          0.182535   \n",
              "min        0.000010  ...                          0.000000   \n",
              "25%        0.331000  ...                          0.000000   \n",
              "50%        0.512000  ...                          0.000000   \n",
              "75%        0.693000  ...                          0.000000   \n",
              "max        0.991000  ...                          1.000000   \n",
              "\n",
              "       playlist_subgenre_permanent wave  playlist_subgenre_pop edm  \\\n",
              "count                      32832.000000               32832.000000   \n",
              "mean                           0.033656                   0.046205   \n",
              "std                            0.180345                   0.209932   \n",
              "min                            0.000000                   0.000000   \n",
              "25%                            0.000000                   0.000000   \n",
              "50%                            0.000000                   0.000000   \n",
              "75%                            0.000000                   0.000000   \n",
              "max                            1.000000                   1.000000   \n",
              "\n",
              "       playlist_subgenre_post-teen pop  \\\n",
              "count                     32832.000000   \n",
              "mean                          0.034387   \n",
              "std                           0.182224   \n",
              "min                           0.000000   \n",
              "25%                           0.000000   \n",
              "50%                           0.000000   \n",
              "75%                           0.000000   \n",
              "max                           1.000000   \n",
              "\n",
              "       playlist_subgenre_progressive electro house  \\\n",
              "count                                 32832.000000   \n",
              "mean                                      0.055099   \n",
              "std                                       0.228176   \n",
              "min                                       0.000000   \n",
              "25%                                       0.000000   \n",
              "50%                                       0.000000   \n",
              "75%                                       0.000000   \n",
              "max                                       1.000000   \n",
              "\n",
              "       playlist_subgenre_reggaeton  playlist_subgenre_southern hip hop  \\\n",
              "count                 32832.000000                        32832.000000   \n",
              "mean                      0.028905                            0.051017   \n",
              "std                       0.167541                            0.220036   \n",
              "min                       0.000000                            0.000000   \n",
              "25%                       0.000000                            0.000000   \n",
              "50%                       0.000000                            0.000000   \n",
              "75%                       0.000000                            0.000000   \n",
              "max                       1.000000                            1.000000   \n",
              "\n",
              "       playlist_subgenre_trap  playlist_subgenre_tropical  \\\n",
              "count            32832.000000                32832.000000   \n",
              "mean                 0.039321                    0.039230   \n",
              "std                  0.194361                    0.194145   \n",
              "min                  0.000000                    0.000000   \n",
              "25%                  0.000000                    0.000000   \n",
              "50%                  0.000000                    0.000000   \n",
              "75%                  0.000000                    0.000000   \n",
              "max                  1.000000                    1.000000   \n",
              "\n",
              "       playlist_subgenre_urban contemporary  \n",
              "count                          32832.000000  \n",
              "mean                               0.042794  \n",
              "std                                0.202395  \n",
              "min                                0.000000  \n",
              "25%                                0.000000  \n",
              "50%                                0.000000  \n",
              "75%                                0.000000  \n",
              "max                                1.000000  \n",
              "\n",
              "[8 rows x 43 columns]"
            ]
          },
          "execution_count": 13,
          "metadata": {},
          "output_type": "execute_result"
        }
      ],
      "source": [
        "X.describe()"
      ]
    },
    {
      "cell_type": "code",
      "execution_count": 14,
      "metadata": {
        "colab": {
          "base_uri": "https://localhost:8080/"
        },
        "id": "PFDSa6gTs_gA",
        "outputId": "4108c44a-e689-46ca-95ac-ff0cb5ca3701"
      },
      "outputs": [
        {
          "name": "stdout",
          "output_type": "stream",
          "text": [
            "Index(['danceability', 'energy', 'key', 'loudness', 'mode', 'speechiness',\n",
            "       'acousticness', 'instrumentalness', 'liveness', 'valence', 'tempo',\n",
            "       'duration_ms', 'year', 'playlist_genre_edm', 'playlist_genre_latin',\n",
            "       'playlist_genre_pop', 'playlist_genre_r&b', 'playlist_genre_rap',\n",
            "       'playlist_genre_rock', 'playlist_subgenre_album rock',\n",
            "       'playlist_subgenre_big room', 'playlist_subgenre_classic rock',\n",
            "       'playlist_subgenre_dance pop', 'playlist_subgenre_electro house',\n",
            "       'playlist_subgenre_electropop', 'playlist_subgenre_gangster rap',\n",
            "       'playlist_subgenre_hard rock', 'playlist_subgenre_hip hop',\n",
            "       'playlist_subgenre_hip pop', 'playlist_subgenre_indie poptimism',\n",
            "       'playlist_subgenre_latin hip hop', 'playlist_subgenre_latin pop',\n",
            "       'playlist_subgenre_neo soul', 'playlist_subgenre_new jack swing',\n",
            "       'playlist_subgenre_permanent wave', 'playlist_subgenre_pop edm',\n",
            "       'playlist_subgenre_post-teen pop',\n",
            "       'playlist_subgenre_progressive electro house',\n",
            "       'playlist_subgenre_reggaeton', 'playlist_subgenre_southern hip hop',\n",
            "       'playlist_subgenre_trap', 'playlist_subgenre_tropical',\n",
            "       'playlist_subgenre_urban contemporary'],\n",
            "      dtype='object')\n",
            "       danceability  energy  loudness  speechiness  acousticness  \\\n",
            "0             0.748   0.916    -2.634       0.0583      0.102000   \n",
            "1             0.726   0.815    -4.969       0.0373      0.072400   \n",
            "2             0.675   0.931    -3.432       0.0742      0.079400   \n",
            "3             0.718   0.930    -3.778       0.1020      0.028700   \n",
            "4             0.650   0.833    -4.672       0.0359      0.080300   \n",
            "...             ...     ...       ...          ...           ...   \n",
            "32828         0.428   0.922    -1.814       0.0936      0.076600   \n",
            "32829         0.522   0.786    -4.462       0.0420      0.001710   \n",
            "32830         0.529   0.821    -4.899       0.0481      0.108000   \n",
            "32831         0.626   0.888    -3.361       0.1090      0.007920   \n",
            "32832         0.603   0.884    -4.571       0.0385      0.000133   \n",
            "\n",
            "       instrumentalness  liveness  valence    tempo  duration_ms  \n",
            "0              0.000000    0.0653   0.5180  122.036       194754  \n",
            "1              0.004210    0.3570   0.6930   99.972       162600  \n",
            "2              0.000023    0.1100   0.6130  124.008       176616  \n",
            "3              0.000009    0.2040   0.2770  121.956       169093  \n",
            "4              0.000000    0.0833   0.7250  123.976       189052  \n",
            "...                 ...       ...      ...      ...          ...  \n",
            "32828          0.000000    0.0668   0.2100  128.170       204375  \n",
            "32829          0.004270    0.3750   0.4000  128.041       353120  \n",
            "32830          0.000001    0.1500   0.4360  127.989       210112  \n",
            "32831          0.127000    0.3430   0.3080  128.008       367432  \n",
            "32832          0.341000    0.7420   0.0894  127.984       337500  \n",
            "\n",
            "[32832 rows x 10 columns]\n"
          ]
        }
      ],
      "source": [
        "print(X.columns)\n",
        "\n",
        "numeric_feats = ['danceability', 'energy', 'loudness', 'speechiness', 'acousticness', 'instrumentalness', 'liveness', 'valence', 'tempo', 'duration_ms']\n",
        "dummy_feats = [feat for feat in X.columns if feat not in numeric_feats]\n",
        "\n",
        "print(X[numeric_feats])"
      ]
    },
    {
      "cell_type": "code",
      "execution_count": 15,
      "metadata": {
        "colab": {
          "base_uri": "https://localhost:8080/",
          "height": 583
        },
        "id": "xvq2LYScs_gB",
        "outputId": "3bde91e5-4dbe-418b-fd10-fc5099f3ae5f"
      },
      "outputs": [
        {
          "data": {
            "text/plain": [
              "<Axes: >"
            ]
          },
          "execution_count": 15,
          "metadata": {},
          "output_type": "execute_result"
        },
        {
          "data": {
            "image/png": "[encoded data removed]",
            "text/plain": [
              "<Figure size 1000x800 with 2 Axes>"
            ]
          },
          "metadata": {},
          "output_type": "display_data"
        }
      ],
      "source": [
        "numeric_values = df[numeric_feats]\n",
        "correlation_matrix = numeric_values.corr()\n",
        "plt.figure(figsize=(10,8))\n",
        "sns.heatmap(correlation_matrix, annot=True, cmap='coolwarm', fmt=\".2f\", linewidths=0.5)"
      ]
    },
    {
      "cell_type": "code",
      "execution_count": 16,
      "metadata": {
        "id": "DRfDg4mLs_gB"
      },
      "outputs": [],
      "source": [
        "def model_evaluation(y_test, y_predicted, N, d):\n",
        "    mse = mean_squared_error(y_test, y_predicted)\n",
        "    mae = mean_absolute_error(y_test, y_predicted)\n",
        "    rmse = np.sqrt(mse)\n",
        "    r2 = r2_score(y_test, y_predicted)\n",
        "    r2_adj = 1 - ((1 - r2) * (N - 1)) / (N - d - 1)\n",
        "\n",
        "    # printing values\n",
        "    print('Mean squared error: ', mse)\n",
        "    print('Mean absolute error: ', mae)\n",
        "    print('Root mean squared error: ', rmse)\n",
        "    print('R2 score: ', r2)\n",
        "    print('R2 adjusted score: ', r2_adj)\n",
        "\n",
        "    # Uporedni prikaz nekoliko pravih i predvidjenih vrednosti\n",
        "    res = pd.concat([pd.DataFrame(y_test.values),\n",
        "                    pd.DataFrame(y_predicted)], axis=1)\n",
        "    res.columns = ['y', 'y_pred']\n",
        "    print(res.head(20))\n",
        "    return mse, mae, rmse, r2, r2_adj"
      ]
    },
    {
      "cell_type": "markdown",
      "metadata": {
        "id": "_8g6lWk3s_gC"
      },
      "source": [
        "##### Scaling the data"
      ]
    },
    {
      "cell_type": "code",
      "execution_count": 17,
      "metadata": {
        "colab": {
          "base_uri": "https://localhost:8080/",
          "height": 273
        },
        "id": "VU8PrhUWs_gC",
        "outputId": "5e738cab-eb51-42d9-d8d1-34b144751e8d"
      },
      "outputs": [
        {
          "data": {
            "application/vnd.google.colaboratory.intrinsic+json": {
              "type": "dataframe",
              "variable_name": "X_train_std"
            },
            "text/html": [
              "\n",
              "  <div id=\"df-0164da15-45e2-421f-b2a9-81cc546b5bef\" class=\"colab-df-container\">\n",
              "    <div>\n",
              "<style scoped>\n",
              "    .dataframe tbody tr th:only-of-type {\n",
              "        vertical-align: middle;\n",
              "    }\n",
              "\n",
              "    .dataframe tbody tr th {\n",
              "        vertical-align: top;\n",
              "    }\n",
              "\n",
              "    .dataframe thead th {\n",
              "        text-align: right;\n",
              "    }\n",
              "</style>\n",
              "<table border=\"1\" class=\"dataframe\">\n",
              "  <thead>\n",
              "    <tr style=\"text-align: right;\">\n",
              "      <th></th>\n",
              "      <th>danceability</th>\n",
              "      <th>energy</th>\n",
              "      <th>key</th>\n",
              "      <th>loudness</th>\n",
              "      <th>mode</th>\n",
              "      <th>speechiness</th>\n",
              "      <th>acousticness</th>\n",
              "      <th>instrumentalness</th>\n",
              "      <th>liveness</th>\n",
              "      <th>valence</th>\n",
              "      <th>...</th>\n",
              "      <th>playlist_subgenre_new jack swing</th>\n",
              "      <th>playlist_subgenre_permanent wave</th>\n",
              "      <th>playlist_subgenre_pop edm</th>\n",
              "      <th>playlist_subgenre_post-teen pop</th>\n",
              "      <th>playlist_subgenre_progressive electro house</th>\n",
              "      <th>playlist_subgenre_reggaeton</th>\n",
              "      <th>playlist_subgenre_southern hip hop</th>\n",
              "      <th>playlist_subgenre_trap</th>\n",
              "      <th>playlist_subgenre_tropical</th>\n",
              "      <th>playlist_subgenre_urban contemporary</th>\n",
              "    </tr>\n",
              "  </thead>\n",
              "  <tbody>\n",
              "    <tr>\n",
              "      <th>0</th>\n",
              "      <td>-1.475185</td>\n",
              "      <td>0.299901</td>\n",
              "      <td>0.885663</td>\n",
              "      <td>-0.623145</td>\n",
              "      <td>-0.478061</td>\n",
              "      <td>-0.378039</td>\n",
              "      <td>-1.057780</td>\n",
              "      <td>-1.100957</td>\n",
              "      <td>0.525789</td>\n",
              "      <td>0.565481</td>\n",
              "      <td>...</td>\n",
              "      <td>0</td>\n",
              "      <td>0</td>\n",
              "      <td>1</td>\n",
              "      <td>0</td>\n",
              "      <td>0</td>\n",
              "      <td>0</td>\n",
              "      <td>0</td>\n",
              "      <td>0</td>\n",
              "      <td>0</td>\n",
              "      <td>0</td>\n",
              "    </tr>\n",
              "    <tr>\n",
              "      <th>1</th>\n",
              "      <td>0.352463</td>\n",
              "      <td>0.476752</td>\n",
              "      <td>0.081846</td>\n",
              "      <td>1.620841</td>\n",
              "      <td>-0.737502</td>\n",
              "      <td>-0.378039</td>\n",
              "      <td>-0.169845</td>\n",
              "      <td>-0.573133</td>\n",
              "      <td>1.456620</td>\n",
              "      <td>0.654139</td>\n",
              "      <td>...</td>\n",
              "      <td>0</td>\n",
              "      <td>0</td>\n",
              "      <td>0</td>\n",
              "      <td>0</td>\n",
              "      <td>0</td>\n",
              "      <td>0</td>\n",
              "      <td>1</td>\n",
              "      <td>0</td>\n",
              "      <td>0</td>\n",
              "      <td>0</td>\n",
              "    </tr>\n",
              "    <tr>\n",
              "      <th>2</th>\n",
              "      <td>1.711131</td>\n",
              "      <td>-0.993323</td>\n",
              "      <td>-1.134759</td>\n",
              "      <td>1.976716</td>\n",
              "      <td>-0.666952</td>\n",
              "      <td>-0.373994</td>\n",
              "      <td>0.893085</td>\n",
              "      <td>0.366652</td>\n",
              "      <td>-0.718915</td>\n",
              "      <td>2.088656</td>\n",
              "      <td>...</td>\n",
              "      <td>0</td>\n",
              "      <td>0</td>\n",
              "      <td>0</td>\n",
              "      <td>0</td>\n",
              "      <td>0</td>\n",
              "      <td>0</td>\n",
              "      <td>1</td>\n",
              "      <td>0</td>\n",
              "      <td>0</td>\n",
              "      <td>0</td>\n",
              "    </tr>\n",
              "    <tr>\n",
              "      <th>3</th>\n",
              "      <td>0.159353</td>\n",
              "      <td>-0.617514</td>\n",
              "      <td>-0.012228</td>\n",
              "      <td>3.093766</td>\n",
              "      <td>-0.761534</td>\n",
              "      <td>3.818733</td>\n",
              "      <td>2.286561</td>\n",
              "      <td>-1.409927</td>\n",
              "      <td>0.190745</td>\n",
              "      <td>0.014551</td>\n",
              "      <td>...</td>\n",
              "      <td>0</td>\n",
              "      <td>0</td>\n",
              "      <td>0</td>\n",
              "      <td>0</td>\n",
              "      <td>0</td>\n",
              "      <td>0</td>\n",
              "      <td>0</td>\n",
              "      <td>0</td>\n",
              "      <td>0</td>\n",
              "      <td>0</td>\n",
              "    </tr>\n",
              "    <tr>\n",
              "      <th>4</th>\n",
              "      <td>-0.364803</td>\n",
              "      <td>-1.778100</td>\n",
              "      <td>0.169560</td>\n",
              "      <td>-0.617214</td>\n",
              "      <td>2.530086</td>\n",
              "      <td>-0.378039</td>\n",
              "      <td>-0.709087</td>\n",
              "      <td>0.031934</td>\n",
              "      <td>-1.748938</td>\n",
              "      <td>-0.517483</td>\n",
              "      <td>...</td>\n",
              "      <td>0</td>\n",
              "      <td>0</td>\n",
              "      <td>0</td>\n",
              "      <td>0</td>\n",
              "      <td>0</td>\n",
              "      <td>0</td>\n",
              "      <td>0</td>\n",
              "      <td>0</td>\n",
              "      <td>0</td>\n",
              "      <td>0</td>\n",
              "    </tr>\n",
              "  </tbody>\n",
              "</table>\n",
              "<p>5 rows × 43 columns</p>\n",
              "</div>\n",
              "    <div class=\"colab-df-buttons\">\n",
              "\n",
              "  <div class=\"colab-df-container\">\n",
              "    <button class=\"colab-df-convert\" onclick=\"convertToInteractive('df-0164da15-45e2-421f-b2a9-81cc546b5bef')\"\n",
              "            title=\"Convert this dataframe to an interactive table.\"\n",
              "            style=\"display:none;\">\n",
              "\n",
              "  <svg xmlns=\"http://www.w3.org/2000/svg\" height=\"24px\" viewBox=\"0 -960 960 960\">\n",
              "    <path d=\"M120-120v-720h720v720H120Zm60-500h600v-160H180v160Zm220 220h160v-160H400v160Zm0 220h160v-160H400v160ZM180-400h160v-160H180v160Zm440 0h160v-160H620v160ZM180-180h160v-160H180v160Zm440 0h160v-160H620v160Z\"/>\n",
              "  </svg>\n",
              "    </button>\n",
              "\n",
              "  <style>\n",
              "    .colab-df-container {\n",
              "      display:flex;\n",
              "      gap: 12px;\n",
              "    }\n",
              "\n",
              "    .colab-df-convert {\n",
              "      background-color: #E8F0FE;\n",
              "      border: none;\n",
              "      border-radius: 50%;\n",
              "      cursor: pointer;\n",
              "      display: none;\n",
              "      fill: #1967D2;\n",
              "      height: 32px;\n",
              "      padding: 0 0 0 0;\n",
              "      width: 32px;\n",
              "    }\n",
              "\n",
              "    .colab-df-convert:hover {\n",
              "      background-color: #E2EBFA;\n",
              "      box-shadow: 0px 1px 2px rgba(60, 64, 67, 0.3), 0px 1px 3px 1px rgba(60, 64, 67, 0.15);\n",
              "      fill: #174EA6;\n",
              "    }\n",
              "\n",
              "    .colab-df-buttons div {\n",
              "      margin-bottom: 4px;\n",
              "    }\n",
              "\n",
              "    [theme=dark] .colab-df-convert {\n",
              "      background-color: #3B4455;\n",
              "      fill: #D2E3FC;\n",
              "    }\n",
              "\n",
              "    [theme=dark] .colab-df-convert:hover {\n",
              "      background-color: #434B5C;\n",
              "      box-shadow: 0px 1px 3px 1px rgba(0, 0, 0, 0.15);\n",
              "      filter: drop-shadow(0px 1px 2px rgba(0, 0, 0, 0.3));\n",
              "      fill: #FFFFFF;\n",
              "    }\n",
              "  </style>\n",
              "\n",
              "    <script>\n",
              "      const buttonEl =\n",
              "        document.querySelector('#df-0164da15-45e2-421f-b2a9-81cc546b5bef button.colab-df-convert');\n",
              "      buttonEl.style.display =\n",
              "        google.colab.kernel.accessAllowed ? 'block' : 'none';\n",
              "\n",
              "      async function convertToInteractive(key) {\n",
              "        const element = document.querySelector('#df-0164da15-45e2-421f-b2a9-81cc546b5bef');\n",
              "        const dataTable =\n",
              "          await google.colab.kernel.invokeFunction('convertToInteractive',\n",
              "                                                    [key], {});\n",
              "        if (!dataTable) return;\n",
              "\n",
              "        const docLinkHtml = 'Like what you see? Visit the ' +\n",
              "          '<a target=\"_blank\" href=https://colab.research.google.com/notebooks/data_table.ipynb>data table notebook</a>'\n",
              "          + ' to learn more about interactive tables.';\n",
              "        element.innerHTML = '';\n",
              "        dataTable['output_type'] = 'display_data';\n",
              "        await google.colab.output.renderOutput(dataTable, element);\n",
              "        const docLink = document.createElement('div');\n",
              "        docLink.innerHTML = docLinkHtml;\n",
              "        element.appendChild(docLink);\n",
              "      }\n",
              "    </script>\n",
              "  </div>\n",
              "\n",
              "\n",
              "<div id=\"df-2949b0d8-bb75-49a4-aaae-058854ade968\">\n",
              "  <button class=\"colab-df-quickchart\" onclick=\"quickchart('df-2949b0d8-bb75-49a4-aaae-058854ade968')\"\n",
              "            title=\"Suggest charts\"\n",
              "            style=\"display:none;\">\n",
              "\n",
              "<svg xmlns=\"http://www.w3.org/2000/svg\" height=\"24px\"viewBox=\"0 0 24 24\"\n",
              "     width=\"24px\">\n",
              "    <g>\n",
              "        <path d=\"M19 3H5c-1.1 0-2 .9-2 2v14c0 1.1.9 2 2 2h14c1.1 0 2-.9 2-2V5c0-1.1-.9-2-2-2zM9 17H7v-7h2v7zm4 0h-2V7h2v10zm4 0h-2v-4h2v4z\"/>\n",
              "    </g>\n",
              "</svg>\n",
              "  </button>\n",
              "\n",
              "<style>\n",
              "  .colab-df-quickchart {\n",
              "      --bg-color: #E8F0FE;\n",
              "      --fill-color: #1967D2;\n",
              "      --hover-bg-color: #E2EBFA;\n",
              "      --hover-fill-color: #174EA6;\n",
              "      --disabled-fill-color: #AAA;\n",
              "      --disabled-bg-color: #DDD;\n",
              "  }\n",
              "\n",
              "  [theme=dark] .colab-df-quickchart {\n",
              "      --bg-color: #3B4455;\n",
              "      --fill-color: #D2E3FC;\n",
              "      --hover-bg-color: #434B5C;\n",
              "      --hover-fill-color: #FFFFFF;\n",
              "      --disabled-bg-color: #3B4455;\n",
              "      --disabled-fill-color: #666;\n",
              "  }\n",
              "\n",
              "  .colab-df-quickchart {\n",
              "    background-color: var(--bg-color);\n",
              "    border: none;\n",
              "    border-radius: 50%;\n",
              "    cursor: pointer;\n",
              "    display: none;\n",
              "    fill: var(--fill-color);\n",
              "    height: 32px;\n",
              "    padding: 0;\n",
              "    width: 32px;\n",
              "  }\n",
              "\n",
              "  .colab-df-quickchart:hover {\n",
              "    background-color: var(--hover-bg-color);\n",
              "    box-shadow: 0 1px 2px rgba(60, 64, 67, 0.3), 0 1px 3px 1px rgba(60, 64, 67, 0.15);\n",
              "    fill: var(--button-hover-fill-color);\n",
              "  }\n",
              "\n",
              "  .colab-df-quickchart-complete:disabled,\n",
              "  .colab-df-quickchart-complete:disabled:hover {\n",
              "    background-color: var(--disabled-bg-color);\n",
              "    fill: var(--disabled-fill-color);\n",
              "    box-shadow: none;\n",
              "  }\n",
              "\n",
              "  .colab-df-spinner {\n",
              "    border: 2px solid var(--fill-color);\n",
              "    border-color: transparent;\n",
              "    border-bottom-color: var(--fill-color);\n",
              "    animation:\n",
              "      spin 1s steps(1) infinite;\n",
              "  }\n",
              "\n",
              "  @keyframes spin {\n",
              "    0% {\n",
              "      border-color: transparent;\n",
              "      border-bottom-color: var(--fill-color);\n",
              "      border-left-color: var(--fill-color);\n",
              "    }\n",
              "    20% {\n",
              "      border-color: transparent;\n",
              "      border-left-color: var(--fill-color);\n",
              "      border-top-color: var(--fill-color);\n",
              "    }\n",
              "    30% {\n",
              "      border-color: transparent;\n",
              "      border-left-color: var(--fill-color);\n",
              "      border-top-color: var(--fill-color);\n",
              "      border-right-color: var(--fill-color);\n",
              "    }\n",
              "    40% {\n",
              "      border-color: transparent;\n",
              "      border-right-color: var(--fill-color);\n",
              "      border-top-color: var(--fill-color);\n",
              "    }\n",
              "    60% {\n",
              "      border-color: transparent;\n",
              "      border-right-color: var(--fill-color);\n",
              "    }\n",
              "    80% {\n",
              "      border-color: transparent;\n",
              "      border-right-color: var(--fill-color);\n",
              "      border-bottom-color: var(--fill-color);\n",
              "    }\n",
              "    90% {\n",
              "      border-color: transparent;\n",
              "      border-bottom-color: var(--fill-color);\n",
              "    }\n",
              "  }\n",
              "</style>\n",
              "\n",
              "  <script>\n",
              "    async function quickchart(key) {\n",
              "      const quickchartButtonEl =\n",
              "        document.querySelector('#' + key + ' button');\n",
              "      quickchartButtonEl.disabled = true;  // To prevent multiple clicks.\n",
              "      quickchartButtonEl.classList.add('colab-df-spinner');\n",
              "      try {\n",
              "        const charts = await google.colab.kernel.invokeFunction(\n",
              "            'suggestCharts', [key], {});\n",
              "      } catch (error) {\n",
              "        console.error('Error during call to suggestCharts:', error);\n",
              "      }\n",
              "      quickchartButtonEl.classList.remove('colab-df-spinner');\n",
              "      quickchartButtonEl.classList.add('colab-df-quickchart-complete');\n",
              "    }\n",
              "    (() => {\n",
              "      let quickchartButtonEl =\n",
              "        document.querySelector('#df-2949b0d8-bb75-49a4-aaae-058854ade968 button');\n",
              "      quickchartButtonEl.style.display =\n",
              "        google.colab.kernel.accessAllowed ? 'block' : 'none';\n",
              "    })();\n",
              "  </script>\n",
              "</div>\n",
              "    </div>\n",
              "  </div>\n"
            ],
            "text/plain": [
              "   danceability    energy       key  loudness      mode  speechiness  \\\n",
              "0     -1.475185  0.299901  0.885663 -0.623145 -0.478061    -0.378039   \n",
              "1      0.352463  0.476752  0.081846  1.620841 -0.737502    -0.378039   \n",
              "2      1.711131 -0.993323 -1.134759  1.976716 -0.666952    -0.373994   \n",
              "3      0.159353 -0.617514 -0.012228  3.093766 -0.761534     3.818733   \n",
              "4     -0.364803 -1.778100  0.169560 -0.617214  2.530086    -0.378039   \n",
              "\n",
              "   acousticness  instrumentalness  liveness   valence  ...  \\\n",
              "0     -1.057780         -1.100957  0.525789  0.565481  ...   \n",
              "1     -0.169845         -0.573133  1.456620  0.654139  ...   \n",
              "2      0.893085          0.366652 -0.718915  2.088656  ...   \n",
              "3      2.286561         -1.409927  0.190745  0.014551  ...   \n",
              "4     -0.709087          0.031934 -1.748938 -0.517483  ...   \n",
              "\n",
              "   playlist_subgenre_new jack swing  playlist_subgenre_permanent wave  \\\n",
              "0                                 0                                 0   \n",
              "1                                 0                                 0   \n",
              "2                                 0                                 0   \n",
              "3                                 0                                 0   \n",
              "4                                 0                                 0   \n",
              "\n",
              "   playlist_subgenre_pop edm  playlist_subgenre_post-teen pop  \\\n",
              "0                          1                                0   \n",
              "1                          0                                0   \n",
              "2                          0                                0   \n",
              "3                          0                                0   \n",
              "4                          0                                0   \n",
              "\n",
              "   playlist_subgenre_progressive electro house  playlist_subgenre_reggaeton  \\\n",
              "0                                            0                            0   \n",
              "1                                            0                            0   \n",
              "2                                            0                            0   \n",
              "3                                            0                            0   \n",
              "4                                            0                            0   \n",
              "\n",
              "   playlist_subgenre_southern hip hop  playlist_subgenre_trap  \\\n",
              "0                                   0                       0   \n",
              "1                                   1                       0   \n",
              "2                                   1                       0   \n",
              "3                                   0                       0   \n",
              "4                                   0                       0   \n",
              "\n",
              "   playlist_subgenre_tropical  playlist_subgenre_urban contemporary  \n",
              "0                           0                                     0  \n",
              "1                           0                                     0  \n",
              "2                           0                                     0  \n",
              "3                           0                                     0  \n",
              "4                           0                                     0  \n",
              "\n",
              "[5 rows x 43 columns]"
            ]
          },
          "execution_count": 17,
          "metadata": {},
          "output_type": "execute_result"
        }
      ],
      "source": [
        "s = StandardScaler()\n",
        "\n",
        "s.fit(X_train[numeric_feats])\n",
        "X_train_std = s.transform(X_train[numeric_feats])\n",
        "X_test_std = s.transform(X_test[numeric_feats])\n",
        "X_train_std = pd.DataFrame(X_train_std)\n",
        "X_test_std = pd.DataFrame(X_test_std)\n",
        "\n",
        "X_train_std = pd.concat([X_train_std, X_train[dummy_feats].reset_index(drop=True)], axis=1)\n",
        "X_test_std = pd.concat([X_test_std, X_test[dummy_feats].reset_index(drop=True)], axis=1)\n",
        "\n",
        "X_train_std.columns = list(X.columns)\n",
        "X_test_std.columns = list(X.columns)\n",
        "X_train_std.head()"
      ]
    },
    {
      "cell_type": "code",
      "execution_count": 18,
      "metadata": {
        "id": "u0Q2vr2xs_gC"
      },
      "outputs": [],
      "source": [
        "s.fit(X_train_two)\n",
        "X_train_two_std = s.transform(X_train_two)\n",
        "X_test_two_std = s.transform(X_test_two)\n",
        "X_train_two_std = pd.DataFrame(X_train_two_std)\n",
        "X_test_two_std = pd.DataFrame(X_test_two_std)\n"
      ]
    },
    {
      "cell_type": "code",
      "execution_count": 19,
      "metadata": {
        "id": "JxqNORZTs_gD"
      },
      "outputs": [],
      "source": [
        "# folds = KFold(n_splits=5, shuffle=True, random_state=42)\n",
        "# hyper_params = [{'n_features_to_select': list(range(1, 16))}]\n",
        "\n",
        "# lm = LinearRegression()\n",
        "# lm.fit(X_train_std, y_train)\n",
        "# rfe = RFE(lm)\n",
        "\n",
        "# model_cv = GridSearchCV(\n",
        "#     estimator=rfe,\n",
        "#     param_grid=hyper_params,\n",
        "#     scoring='r2',\n",
        "#     cv=folds,\n",
        "#     verbose=1,\n",
        "#     return_train_score=True\n",
        "# )\n",
        "\n",
        "# model_cv.fit(X_train_std, y_train)\n",
        "# cv_results = pd.DataFrame(model_cv.cv_results_)\n",
        "# cv_results"
      ]
    },
    {
      "cell_type": "code",
      "execution_count": 20,
      "metadata": {
        "id": "E8D-mWeIs_gD"
      },
      "outputs": [],
      "source": [
        "# # plotting cv results\n",
        "# plt.figure(figsize=(16,6))\n",
        "\n",
        "# plt.plot(cv_results[\"param_n_features_to_select\"], cv_results[\"mean_test_score\"])\n",
        "# plt.plot(cv_results[\"param_n_features_to_select\"], cv_results[\"mean_train_score\"])\n",
        "# plt.xlabel('number of features')\n",
        "# plt.ylabel('r-squared')\n",
        "# plt.title(\"Optimal Number of Features\")\n",
        "# plt.legend(['test score', 'train score'], loc='upper left')"
      ]
    },
    {
      "cell_type": "markdown",
      "metadata": {
        "id": "8b9vGU7Ms_gE"
      },
      "source": [
        "### Linear Regression"
      ]
    },
    {
      "cell_type": "markdown",
      "metadata": {
        "id": "69pGW77Ws_gE"
      },
      "source": [
        "#### Base LR"
      ]
    },
    {
      "cell_type": "code",
      "execution_count": 21,
      "metadata": {
        "id": "S61lQlnfs_gE"
      },
      "outputs": [],
      "source": [
        "lrm = LinearRegression()"
      ]
    },
    {
      "cell_type": "markdown",
      "metadata": {
        "id": "Ok6t4ll9s_gE"
      },
      "source": [
        "##### Data Set 1"
      ]
    },
    {
      "cell_type": "code",
      "execution_count": 22,
      "metadata": {
        "colab": {
          "base_uri": "https://localhost:8080/"
        },
        "id": "PqOne12Rs_gF",
        "outputId": "b31405dd-1b9a-4395-8f28-5ea470d1ceec"
      },
      "outputs": [
        {
          "name": "stdout",
          "output_type": "stream",
          "text": [
            "r2: 0.15629389499103952\n",
            "mse 499.00005447734935\n",
            "Mean squared error:  499.00005447734935\n",
            "Mean absolute error:  18.387517486538723\n",
            "Root mean squared error:  22.338309123059187\n",
            "R2 score:  0.15629389499103952\n",
            "R2 adjusted score:  0.15512907888253813\n",
            "     y     y_pred\n",
            "0   42  44.763626\n",
            "1   64  54.434412\n",
            "2   40  49.673538\n",
            "3   41  15.610120\n",
            "4   27  34.414180\n",
            "5   55  55.227887\n",
            "6    0  53.444385\n",
            "7    0  47.393108\n",
            "8   40  40.801519\n",
            "9   50  37.131372\n",
            "10   1  42.851164\n",
            "11  32  52.855173\n",
            "12  67  58.138643\n",
            "13  63  33.160243\n",
            "14  53  55.590951\n",
            "15  42  37.885482\n",
            "16  53  51.814999\n",
            "17  80  41.256565\n",
            "18  62  43.199856\n",
            "19   2  47.381341\n"
          ]
        },
        {
          "data": {
            "text/plain": [
              "(499.00005447734935,\n",
              " 18.387517486538723,\n",
              " 22.338309123059187,\n",
              " 0.15629389499103952,\n",
              " 0.15512907888253813)"
            ]
          },
          "execution_count": 22,
          "metadata": {},
          "output_type": "execute_result"
        }
      ],
      "source": [
        "# final model\n",
        "n_features_optimal = 13\n",
        "\n",
        "lrm.fit(X_train_std, y_train)\n",
        "\n",
        "# predict prices of X_test\n",
        "y_pred = lrm.predict(X_test_std)\n",
        "r2 = r2_score(y_test, y_pred)\n",
        "mse = mean_squared_error(y_test, y_pred)\n",
        "print(\"r2:\", r2)\n",
        "print(\"mse\", mse)\n",
        "logger.log_score('linearRegression', 'ds1', r2)\n",
        "\n",
        "model_evaluation(y_test, y_pred, X_train_std.shape[0], X_train_std.shape[1])"
      ]
    },
    {
      "cell_type": "markdown",
      "metadata": {
        "id": "pkhDhD8Ms_gF"
      },
      "source": [
        "##### Data Set 2"
      ]
    },
    {
      "cell_type": "code",
      "execution_count": 23,
      "metadata": {
        "colab": {
          "base_uri": "https://localhost:8080/"
        },
        "id": "y16WXlwns_gF",
        "outputId": "8801a23f-b132-400a-9f8d-b9b37ea02908"
      },
      "outputs": [
        {
          "name": "stdout",
          "output_type": "stream",
          "text": [
            "r2: 0.8298596707098354\n",
            "mse 80.64295679396044\n",
            "Mean squared error:  80.64295679396044\n",
            "Mean absolute error:  6.216718824542466\n",
            "Root mean squared error:  8.980142359337096\n",
            "R2 score:  0.8298596707098354\n",
            "R2 adjusted score:  0.829785807922732\n",
            "     y     y_pred\n",
            "0   25  15.500726\n",
            "1   53  54.655095\n",
            "2   65  57.663659\n",
            "3   16  28.466103\n",
            "4   14  17.906173\n",
            "5   19  27.373398\n",
            "6    0   1.165641\n",
            "7    0  -4.546895\n",
            "8   49  49.264875\n",
            "9    6  10.782425\n",
            "10  67  47.438293\n",
            "11  59  49.660454\n",
            "12  45  42.112948\n",
            "13  26  31.740188\n",
            "14  74  64.763908\n",
            "15  31  33.623518\n",
            "16   0   4.415320\n",
            "17  54  49.755228\n",
            "18  16  20.809041\n",
            "19  26  27.022908\n"
          ]
        },
        {
          "data": {
            "text/plain": [
              "(80.64295679396044,\n",
              " 6.216718824542466,\n",
              " 8.980142359337096,\n",
              " 0.8298596707098354,\n",
              " 0.829785807922732)"
            ]
          },
          "execution_count": 23,
          "metadata": {},
          "output_type": "execute_result"
        }
      ],
      "source": [
        "\n",
        "lrm.fit(X_train_two, y_trian_two)\n",
        "\n",
        "# predict prices of X_test\n",
        "y_pred_two = lrm.predict(X_test_two)\n",
        "r2 = r2_score(y_test_two, y_pred_two)\n",
        "mse = mean_squared_error(y_test_two, y_pred_two)\n",
        "print(\"r2:\", r2)\n",
        "print(\"mse\", mse)\n",
        "logger.log_score('linearRegression', 'ds2', r2)\n",
        "\n",
        "model_evaluation(y_test_two, y_pred_two, X_train_two.shape[0], X_train_two.shape[1])"
      ]
    },
    {
      "cell_type": "markdown",
      "metadata": {
        "id": "QsUW9scds_gG"
      },
      "source": [
        "#### Base Lasso"
      ]
    },
    {
      "cell_type": "code",
      "execution_count": 24,
      "metadata": {
        "id": "-pzilS8Bs_gH"
      },
      "outputs": [],
      "source": [
        "lm = Lasso(alpha=0.01)"
      ]
    },
    {
      "cell_type": "markdown",
      "metadata": {
        "id": "cwS8MLdps_gH"
      },
      "source": [
        "##### Data set 1"
      ]
    },
    {
      "cell_type": "code",
      "execution_count": 25,
      "metadata": {
        "colab": {
          "base_uri": "https://localhost:8080/",
          "height": 1000
        },
        "id": "Jv_7xJMFs_gH",
        "outputId": "e8633a73-31f3-4c29-a287-88a5a88c04ef"
      },
      "outputs": [
        {
          "name": "stdout",
          "output_type": "stream",
          "text": [
            "Mean squared error:  499.18942100913165\n",
            "Mean absolute error:  18.400997080639073\n",
            "Root mean squared error:  22.342547325878748\n",
            "R2 score:  0.1559737152685815\n",
            "R2 adjusted score:  0.15480845712167812\n",
            "     y     y_pred\n",
            "0   42  44.860901\n",
            "1   64  54.062243\n",
            "2   40  49.884564\n",
            "3   41  15.459901\n",
            "4   27  34.658925\n",
            "5   55  54.938405\n",
            "6    0  53.107366\n",
            "7    0  47.406468\n",
            "8   40  41.047383\n",
            "9   50  37.385789\n",
            "10   1  42.970216\n",
            "11  32  52.673105\n",
            "12  67  57.910029\n",
            "13  63  33.408149\n",
            "14  53  55.271331\n",
            "15  42  37.914109\n",
            "16  53  51.570958\n",
            "17  80  41.354724\n",
            "18  62  43.405841\n",
            "19   2  47.078927\n",
            "koeficijenti:  [ 1.43496138e+00 -4.66811262e+00  4.17904168e+00  4.88082461e-02\n",
            "  1.07760290e-01 -2.16755921e+00 -3.22203158e-01 -4.86393077e-01\n",
            "  3.03756948e-01 -1.72797751e+00  4.18470490e-02  9.27879641e-03\n",
            " -9.41247126e-02 -4.00017841e+00  3.64751456e-01  1.02897443e+00\n",
            " -0.00000000e+00 -0.00000000e+00 -0.00000000e+00 -1.66302529e+00\n",
            " -3.34405289e+00  0.00000000e+00  7.36440267e+00 -0.00000000e+00\n",
            " -0.00000000e+00 -9.58140202e+00 -3.59379301e+00  9.15788204e+00\n",
            "  8.36454471e+00 -1.91725327e+00 -2.01175939e-01  5.88782566e+00\n",
            " -1.19114024e+01 -1.39578311e+01  1.30926623e+01  5.43116894e+00\n",
            "  1.05803660e+01 -7.58177794e+00  7.26983975e+00 -7.25077600e+00\n",
            "  4.93025082e+00 -0.00000000e+00  4.79195955e+00]\n"
          ]
        },
        {
          "data": {
            "image/png": "[encoded data removed]",
            "text/plain": [
              "<Figure size 1000x500 with 1 Axes>"
            ]
          },
          "metadata": {},
          "output_type": "display_data"
        }
      ],
      "source": [
        "\n",
        "#Obuka\n",
        "lm.fit(X_train_std, y_train)\n",
        "\n",
        "# Testiranje\n",
        "y_predicted = lm.predict(X_test_std)\n",
        "\n",
        "# Evaluacija (racunanje mera uspesnosti)\n",
        "_, _, _, r2, _ = model_evaluation(y_test, y_predicted, X_train_std.shape[0], X_train_std.shape[1])\n",
        "\n",
        "# Ilustracija koeficijenata\n",
        "plt.figure(figsize=(10,5))\n",
        "plt.bar(range(len(lm.coef_)),lm.coef_)\n",
        "print(\"koeficijenti: \", lm.coef_)\n",
        "logger.log_score('Lasso', 'ds1', r2)"
      ]
    },
    {
      "cell_type": "markdown",
      "metadata": {
        "id": "-3gnUPQ4s_gH"
      },
      "source": [
        "##### Data set 2"
      ]
    },
    {
      "cell_type": "code",
      "execution_count": 26,
      "metadata": {
        "colab": {
          "base_uri": "https://localhost:8080/",
          "height": 1000
        },
        "id": "7ot0m3yzs_gH",
        "outputId": "1059fb68-9562-4f60-80ee-866cc79508f3"
      },
      "outputs": [
        {
          "name": "stdout",
          "output_type": "stream",
          "text": [
            "Mean squared error:  80.73327418546964\n",
            "Mean absolute error:  6.213536540771464\n",
            "Root mean squared error:  8.98516968039389\n",
            "R2 score:  0.8296691192798913\n",
            "R2 adjusted score:  0.8295951737689577\n",
            "     y     y_pred\n",
            "0   25  15.524826\n",
            "1   53  54.733443\n",
            "2   65  58.384181\n",
            "3   16  28.331656\n",
            "4   14  17.948619\n",
            "5   19  27.590770\n",
            "6    0   1.144925\n",
            "7    0  -4.544302\n",
            "8   49  49.378748\n",
            "9    6  10.917794\n",
            "10  67  47.565202\n",
            "11  59  49.578659\n",
            "12  45  42.233865\n",
            "13  26  31.579296\n",
            "14  74  64.574343\n",
            "15  31  33.676443\n",
            "16   0   4.591833\n",
            "17  54  49.698071\n",
            "18  16  20.838251\n",
            "19  26  27.302481\n",
            "koeficijenti:  [-3.46957185e-01  5.95406931e-01  1.93100967e-01 -1.94110330e-02\n",
            "  1.75212275e-01 -1.85340434e-01 -5.44247163e-01  2.46470075e-01\n",
            " -8.44053393e-01  3.60706711e-02 -1.92276577e-02 -1.01722815e+00\n",
            "  0.00000000e+00  8.18498263e-02 -3.63145646e-02  0.00000000e+00\n",
            "  2.91188830e-02 -1.54338104e-02  7.17952943e-02 -2.52468895e-02\n",
            "  6.26334556e-02 -3.73309254e-02 -1.11021891e-02  1.45867754e-02\n",
            "  1.05221863e-01 -2.82101334e-16  1.13741563e+00 -5.57929881e-01\n",
            " -3.50221078e-01 -8.77629260e-01  1.18644902e-02  0.00000000e+00\n",
            "  7.40941692e-01  1.31445830e+00  0.00000000e+00  1.97066269e-01\n",
            "  1.78814112e+01  1.08453624e-01  2.75647801e-02 -0.00000000e+00\n",
            " -5.10973121e-02  5.16022880e-02 -2.13220535e-02  1.40184936e-01\n",
            "  3.49169641e-02 -4.30346974e-02  6.89384705e-02 -8.71614221e-03\n",
            "  2.74098122e-02 -0.00000000e+00 -7.74456136e-01 -7.09578798e-01\n",
            " -2.24702580e-01  6.45381450e-04 -6.02060676e-02  3.95278816e-01\n",
            "  3.99619013e-01  4.58836029e-01 -0.00000000e+00  2.21640826e-01\n",
            "  3.03701155e-01  0.00000000e+00  4.03696349e+00  0.00000000e+00\n",
            "  6.82096674e-02  9.68722530e-02 -8.23287768e-02  0.00000000e+00\n",
            " -0.00000000e+00 -6.90242045e-02 -5.80807555e-02]\n"
          ]
        },
        {
          "data": {
            "image/png": "[encoded data removed]",
            "text/plain": [
              "<Figure size 1000x500 with 1 Axes>"
            ]
          },
          "metadata": {},
          "output_type": "display_data"
        }
      ],
      "source": [
        "#Obuka\n",
        "lm.fit(X_train_two_std, y_trian_two)\n",
        "\n",
        "# Testiranje\n",
        "y_predicted = lm.predict(X_test_two_std)\n",
        "\n",
        "# Evaluacija (racunanje mera uspesnosti)\n",
        "_, _, _, r2, _ = model_evaluation(y_test_two, y_predicted, X_train_two_std.shape[0], X_train_two_std.shape[1])\n",
        "\n",
        "# Ilustracija koeficijenata\n",
        "plt.figure(figsize=(10,5))\n",
        "plt.bar(range(len(lm.coef_)),lm.coef_)\n",
        "print(\"koeficijenti: \", lm.coef_)\n",
        "logger.log_score('Lasso', 'ds2', r2)"
      ]
    },
    {
      "cell_type": "markdown",
      "metadata": {
        "id": "t7jRY1kts_gH"
      },
      "source": [
        "#### Base Ridge"
      ]
    },
    {
      "cell_type": "code",
      "execution_count": 27,
      "metadata": {
        "id": "DFfYja7as_gI"
      },
      "outputs": [],
      "source": [
        "# Inicijalizacija modela\n",
        "rm = Ridge(alpha=5)"
      ]
    },
    {
      "cell_type": "markdown",
      "metadata": {
        "id": "7IyDFvFss_gI"
      },
      "source": [
        "##### Data set 1"
      ]
    },
    {
      "cell_type": "code",
      "execution_count": 28,
      "metadata": {
        "colab": {
          "base_uri": "https://localhost:8080/",
          "height": 968
        },
        "id": "_iNck3oas_gJ",
        "outputId": "efa8d802-714c-4c5b-d2ea-d2a1dc863d79"
      },
      "outputs": [
        {
          "name": "stdout",
          "output_type": "stream",
          "text": [
            "Mean squared error:  499.01872388768123\n",
            "Mean absolute error:  18.38912666624824\n",
            "Root mean squared error:  22.33872699792182\n",
            "R2 score:  0.15626232887129154\n",
            "R2 adjusted score:  0.155097469182775\n",
            "     y     y_pred\n",
            "0   42  44.784573\n",
            "1   64  54.404420\n",
            "2   40  49.698066\n",
            "3   41  15.588815\n",
            "4   27  34.447868\n",
            "5   55  55.193123\n",
            "6    0  53.406188\n",
            "7    0  47.404481\n",
            "8   40  40.828278\n",
            "9   50  37.170170\n",
            "10   1  42.864395\n",
            "11  32  52.850784\n",
            "12  67  58.094433\n",
            "13  63  33.194933\n",
            "14  53  55.554266\n",
            "15  42  37.888658\n",
            "16  53  51.800474\n",
            "17  80  41.274481\n",
            "18  62  43.222430\n",
            "19   2  47.359646\n",
            "koeficijenti:  [  1.44215682  -4.66186621   4.19015691   0.07436784   0.09360586\n",
            "  -2.16397253  -0.3214988   -0.5289383    0.30903501  -1.71361023\n",
            "   0.04443929   0.04691602  -0.10169585  -4.52531402   2.8065247\n",
            "   3.92545147  -2.73301518  -0.72677786   1.2531309   -3.57747579\n",
            "  -3.31522334  -1.59054545   4.50814161   0.30250297  -3.11959965\n",
            "  -9.32805506  -5.347514     9.90747451  11.11436065  -5.18471088\n",
            "  -3.04660282   3.50197673  -9.57061064 -11.77835389  11.76866615\n",
            "   5.95347115   7.72162038  -7.4660648    4.95450966  -6.9980402\n",
            "   5.69184288  -2.60335887   7.5015887 ]\n"
          ]
        },
        {
          "data": {
            "image/png": "[encoded data removed]",
            "text/plain": [
              "<Figure size 1000x500 with 1 Axes>"
            ]
          },
          "metadata": {},
          "output_type": "display_data"
        }
      ],
      "source": [
        "#Obuka\n",
        "rm.fit(X_train_std, y_train)\n",
        "\n",
        "# Testiranje\n",
        "y_predicted = rm.predict(X_test_std)\n",
        "\n",
        "# Evaluacija (racunanje mera uspesnosti)\n",
        "_, _, _, r2, _ = model_evaluation(y_test, y_predicted, X_train_std.shape[0], X_train_std.shape[1])\n",
        "\n",
        "# Ilustracija koeficijenata\n",
        "plt.figure(figsize=(10,5))\n",
        "plt.bar(range(len(rm.coef_)),rm.coef_)\n",
        "print(\"koeficijenti: \", rm.coef_)\n",
        "logger.log_score('Ridge', 'ds1', r2)"
      ]
    },
    {
      "cell_type": "markdown",
      "metadata": {
        "id": "hvkaS9BBs_gK"
      },
      "source": [
        "##### Data set 2"
      ]
    },
    {
      "cell_type": "code",
      "execution_count": 29,
      "metadata": {
        "colab": {
          "base_uri": "https://localhost:8080/",
          "height": 1000
        },
        "id": "3SF7STLZs_gK",
        "outputId": "9ab6d373-ac02-4d2f-9bcd-ef9f98e531b9"
      },
      "outputs": [
        {
          "name": "stdout",
          "output_type": "stream",
          "text": [
            "Mean squared error:  80.6432629675418\n",
            "Mean absolute error:  6.216757039019858\n",
            "Root mean squared error:  8.980159406577469\n",
            "R2 score:  0.8298590247455003\n",
            "R2 adjusted score:  0.8297851616779655\n",
            "     y     y_pred\n",
            "0   25  15.501266\n",
            "1   53  54.653840\n",
            "2   65  57.664044\n",
            "3   16  28.466380\n",
            "4   14  17.905747\n",
            "5   19  27.374155\n",
            "6    0   1.166125\n",
            "7    0  -4.546559\n",
            "8   49  49.264575\n",
            "9    6  10.783794\n",
            "10  67  47.437610\n",
            "11  59  49.659499\n",
            "12  45  42.113448\n",
            "13  26  31.740646\n",
            "14  74  64.762357\n",
            "15  31  33.622864\n",
            "16   0   4.418179\n",
            "17  54  49.754160\n",
            "18  16  20.809736\n",
            "19  26  27.023388\n",
            "koeficijenti:  [-4.48336107e-01  6.84562847e-01  2.21079527e-01 -2.67798751e-02\n",
            "  1.84683334e-01 -2.45920216e-01 -5.55164680e-01  2.34989418e-01\n",
            " -1.02341635e+00  6.17532190e-02 -9.66664372e-02 -1.49153815e+00\n",
            " -8.47092166e-03  8.49746197e-02 -5.07888679e-02 -6.46083200e-03\n",
            "  3.35347772e-02 -3.71311360e-02  7.38615892e-02 -4.08477191e-02\n",
            "  6.33728137e-02 -5.33304121e-02 -3.09174733e-02  2.05416619e-02\n",
            "  5.90267761e-02 -5.90267761e-02  1.22089197e+00 -6.93175408e-01\n",
            " -3.71818830e-01 -1.02694749e+00  1.25197444e-01  2.14254093e-02\n",
            "  8.91336719e-01  1.54416772e+00 -1.71696211e-03  3.09902842e-01\n",
            "  1.79071633e+01  9.79215369e-02  2.45396714e-02 -1.90715776e-02\n",
            " -8.12180732e-02  5.22100453e-02 -4.56207169e-02  1.38124226e-01\n",
            "  3.22474080e-02 -6.65279807e-02  6.65799203e-02 -3.42226460e-02\n",
            "  2.85189774e-02 -2.78405637e-02 -8.45013720e-01 -7.79684669e-01\n",
            " -1.94387014e-01  1.24457688e-02 -1.20218344e-01  8.97558183e-01\n",
            "  5.28682753e-01  4.73038852e-01 -1.58385209e-01  2.31610401e-01\n",
            "  4.03744774e-01 -1.19936946e-01  4.27762525e+00  0.00000000e+00\n",
            "  8.47675700e-02  9.73891924e-02 -1.05809518e-01  4.05478606e-03\n",
            "  1.64060012e-02 -1.21868604e-01 -7.75204770e-02]\n"
          ]
        },
        {
          "data": {
            "image/png": "[encoded data removed]",
            "text/plain": [
              "<Figure size 1000x500 with 1 Axes>"
            ]
          },
          "metadata": {},
          "output_type": "display_data"
        }
      ],
      "source": [
        "#Obuka\n",
        "rm.fit(X_train_two_std, y_trian_two)\n",
        "\n",
        "# Testiranje\n",
        "y_predicted = rm.predict(X_test_two_std)\n",
        "\n",
        "# Evaluacija (racunanje mera uspesnosti)\n",
        "_, _, _, r2, _ = model_evaluation(y_test_two, y_predicted, X_train_two_std.shape[0], X_train_two_std.shape[1])\n",
        "\n",
        "# Ilustracija koeficijenata\n",
        "plt.figure(figsize=(10,5))\n",
        "plt.bar(range(len(rm.coef_)),rm.coef_)\n",
        "print(\"koeficijenti: \", rm.coef_)\n",
        "logger.log_score('Ridge', 'ds2', r2)"
      ]
    },
    {
      "cell_type": "code",
      "execution_count": 30,
      "metadata": {
        "colab": {
          "base_uri": "https://localhost:8080/",
          "height": 472
        },
        "id": "eo4zfEovs_gK",
        "outputId": "b6cff2ab-ed35-4fca-e9ef-53fe224b84cf"
      },
      "outputs": [
        {
          "data": {
            "image/png": "[encoded data removed]",
            "text/plain": [
              "<Figure size 640x480 with 1 Axes>"
            ]
          },
          "metadata": {},
          "output_type": "display_data"
        }
      ],
      "source": [
        "logger.plot_results()"
      ]
    },
    {
      "cell_type": "markdown",
      "metadata": {
        "id": "v_BCllNDs_gK"
      },
      "source": [
        "##### Poly hypothesis"
      ]
    },
    {
      "cell_type": "code",
      "execution_count": 31,
      "metadata": {
        "id": "kJZ4xwHXs_gK"
      },
      "outputs": [],
      "source": [
        "poly = PolynomialFeatures(interaction_only=False, degree=2, include_bias=True)\n",
        "poly_two = PolynomialFeatures(interaction_only=False, degree=2, include_bias=True)\n",
        "\n",
        "X_inter_train = poly.fit_transform(X_train_std)\n",
        "X_inter_test = poly.transform(X_test_std)\n",
        "\n",
        "X_inter_two_train = poly_two.fit_transform(X_train_two_std)\n",
        "X_inter_two_test = poly_two.transform(X_test_two_std)\n",
        "\n",
        "out_feat_names = PolynomialFeatures.get_feature_names_out(\n",
        "    poly, input_features=None)\n",
        "\n",
        "out_feat_names_two = PolynomialFeatures.get_feature_names_out(\n",
        "    poly_two, input_features=None)"
      ]
    },
    {
      "cell_type": "code",
      "execution_count": 32,
      "metadata": {
        "id": "ZsJwNBUxs_gK"
      },
      "outputs": [],
      "source": [
        "# def standardizacija(x_train, x_test, numeric_feats, dummy_feats):\n",
        "#     # Save the original order of columns\n",
        "#     cols = x_train.columns\n",
        "\n",
        "#     # Standardize numeric features\n",
        "#     s = StandardScaler()\n",
        "#     s.fit(x_train[numeric_feats])\n",
        "\n",
        "#     x_train_std_numeric = s.transform(x_train[numeric_feats])\n",
        "#     x_test_std_numeric = s.transform(x_test[numeric_feats])\n",
        "\n",
        "#     x_train_std_numeric = pd.DataFrame(x_train_std_numeric, columns=numeric_feats)\n",
        "#     x_test_std_numeric = pd.DataFrame(x_test_std_numeric, columns=numeric_feats)\n",
        "\n",
        "#     # Concatenate standardized numeric features with dummy features\n",
        "#     x_train_std = pd.concat([x_train_std_numeric, x_train[dummy_feats]], axis=1)\n",
        "#     x_test_std = pd.concat([x_test_std_numeric, x_test[dummy_feats]], axis=1)\n",
        "\n",
        "#     return x_train_std_numeric, x_test_std_numeric"
      ]
    },
    {
      "cell_type": "code",
      "execution_count": 33,
      "metadata": {
        "id": "od-tfGp0s_gL"
      },
      "outputs": [],
      "source": [
        "# from sklearn.model_selection import KFold\n",
        "# from sklearn.metrics import mean_squared_error, r2_score\n",
        "\n",
        "# # Define number of folds\n",
        "# k = 5\n",
        "# kf = KFold(n_splits=k, shuffle=True, random_state=42)\n",
        "\n",
        "# # Initialize lists to store performance metrics\n",
        "# mse_scores = []\n",
        "# r2_scores = []\n",
        "\n",
        "# model = Lasso(alpha=0.01)\n",
        "\n",
        "# # Iterate over each fold\n",
        "# for train_index, test_index in kf.split(X_train_std):\n",
        "#     # Split data into train and test sets for this fold\n",
        "#     X_train_fold, X_val_fold = X_train_std.iloc[train_index], X_train_std.iloc[test_index]\n",
        "#     y_train_fold, y_val_fold = y_train.iloc[train_index], y_train.iloc[test_index]\n",
        "\n",
        "#     # Train your model on the training fold\n",
        "#     model.fit(X_train_fold, y_train_fold)\n",
        "\n",
        "#     # Make predictions on the validation fold\n",
        "#     y_pred = model.predict(X_val_fold)\n",
        "\n",
        "#     # Compute performance metrics for this fold\n",
        "#     mse = mean_squared_error(y_val_fold, y_pred)\n",
        "#     r2 = r2_score(y_val_fold, y_pred)\n",
        "\n",
        "#     # Append scores to lists\n",
        "#     mse_scores.append(mse)\n",
        "#     r2_scores.append(r2)\n",
        "\n",
        "# # Compute average performance metrics over all folds\n",
        "# avg_mse = np.mean(mse_scores)\n",
        "# avg_r2 = np.mean(r2_scores)\n",
        "\n",
        "# print(\"Average MSE:\", avg_mse)\n",
        "# print(\"Average R-squared:\", avg_r2)\n"
      ]
    },
    {
      "cell_type": "markdown",
      "metadata": {
        "id": "WOMSmHSMs_gL"
      },
      "source": [
        "#### LR Poly"
      ]
    },
    {
      "cell_type": "code",
      "execution_count": 34,
      "metadata": {
        "id": "BK7Kwe1Ns_gM"
      },
      "outputs": [],
      "source": [
        "# final model\n",
        "n_features_optimal = 13\n",
        "lrm = LinearRegression()"
      ]
    },
    {
      "cell_type": "markdown",
      "metadata": {
        "id": "aIuPjj9Ms_gM"
      },
      "source": [
        "##### Data set 1"
      ]
    },
    {
      "cell_type": "code",
      "execution_count": 35,
      "metadata": {
        "colab": {
          "base_uri": "https://localhost:8080/"
        },
        "id": "yv0HA7B4s_gM",
        "outputId": "89325424-a9fa-416d-88f3-698a4fcfe18d"
      },
      "outputs": [
        {
          "name": "stdout",
          "output_type": "stream",
          "text": [
            "r2: 0.2087544462516815\n",
            "mse 467.97287832968584\n",
            "Mean squared error:  467.97287832968584\n",
            "Mean absolute error:  17.65796571874242\n",
            "Root mean squared error:  21.632680793874943\n",
            "R2 score:  0.2087544462516815\n",
            "R2 adjusted score:  0.20766205689795458\n",
            "     y     y_pred\n",
            "0   42  42.434898\n",
            "1   64  33.134501\n",
            "2   40  50.223869\n",
            "3   41  20.646830\n",
            "4   27  29.449513\n",
            "5   55  53.113432\n",
            "6    0  44.792453\n",
            "7    0  46.081704\n",
            "8   40  34.726713\n",
            "9   50  42.585551\n",
            "10   1  28.696828\n",
            "11  32  52.347690\n",
            "12  67  66.211179\n",
            "13  63  38.796501\n",
            "14  53  53.695232\n",
            "15  42  38.591151\n",
            "16  53  54.346997\n",
            "17  80  34.102472\n",
            "18  62  41.119191\n",
            "19   2  39.292721\n"
          ]
        },
        {
          "data": {
            "text/plain": [
              "(467.97287832968584,\n",
              " 17.65796571874242,\n",
              " 21.632680793874943,\n",
              " 0.2087544462516815,\n",
              " 0.20766205689795458)"
            ]
          },
          "execution_count": 35,
          "metadata": {},
          "output_type": "execute_result"
        }
      ],
      "source": [
        "\n",
        "lrm.fit(X_inter_train, y_train)\n",
        "\n",
        "# predict prices of X_test\n",
        "y_pred = lrm.predict(X_inter_test)\n",
        "r2 = r2_score(y_test, y_pred)\n",
        "mse = mean_squared_error(y_test, y_pred)\n",
        "print(\"r2:\", r2)\n",
        "print(\"mse\", mse)\n",
        "logger.log_score('LR Poly', 'ds1', r2)\n",
        "\n",
        "model_evaluation(y_test, y_pred, X_train_std.shape[0], X_train_std.shape[1])"
      ]
    },
    {
      "cell_type": "markdown",
      "metadata": {
        "id": "NHOKYDXSs_gN"
      },
      "source": [
        "##### Data set 2"
      ]
    },
    {
      "cell_type": "code",
      "execution_count": 36,
      "metadata": {
        "colab": {
          "base_uri": "https://localhost:8080/"
        },
        "id": "F7TPWMbLs_gN",
        "outputId": "129ba963-fa30-4c59-f08d-6b0a134a5da0"
      },
      "outputs": [
        {
          "name": "stdout",
          "output_type": "stream",
          "text": [
            "r2: 0.8298596707098354\n",
            "mse 80.64295679396044\n",
            "Mean squared error:  80.64295679396044\n",
            "Mean absolute error:  6.216718824542466\n",
            "Root mean squared error:  8.980142359337096\n",
            "R2 score:  0.8298596707098354\n",
            "R2 adjusted score:  0.829785807922732\n",
            "     y     y_pred\n",
            "0   25  15.500726\n",
            "1   53  54.655095\n",
            "2   65  57.663659\n",
            "3   16  28.466103\n",
            "4   14  17.906173\n",
            "5   19  27.373398\n",
            "6    0   1.165641\n",
            "7    0  -4.546895\n",
            "8   49  49.264875\n",
            "9    6  10.782425\n",
            "10  67  47.438293\n",
            "11  59  49.660454\n",
            "12  45  42.112948\n",
            "13  26  31.740188\n",
            "14  74  64.763908\n",
            "15  31  33.623518\n",
            "16   0   4.415320\n",
            "17  54  49.755228\n",
            "18  16  20.809041\n",
            "19  26  27.022908\n"
          ]
        },
        {
          "data": {
            "text/plain": [
              "(80.64295679396044,\n",
              " 6.216718824542466,\n",
              " 8.980142359337096,\n",
              " 0.8298596707098354,\n",
              " 0.829785807922732)"
            ]
          },
          "execution_count": 36,
          "metadata": {},
          "output_type": "execute_result"
        }
      ],
      "source": [
        "\n",
        "lrm.fit(X_inter_two_train, y_trian_two)\n",
        "\n",
        "# predict prices of X_test\n",
        "y_pred = lrm.predict(X_inter_two_test)\n",
        "r2 = r2_score(y_test_two, y_pred_two)\n",
        "mse = mean_squared_error(y_test_two, y_pred_two)\n",
        "print(\"r2:\", r2)\n",
        "print(\"mse\", mse)\n",
        "logger.log_score('LR Poly', 'ds2', r2)\n",
        "\n",
        "model_evaluation(y_test_two, y_pred_two, X_train_two_std.shape[0], X_train_two_std.shape[1])"
      ]
    },
    {
      "cell_type": "markdown",
      "metadata": {
        "id": "KXY91gM8s_gO"
      },
      "source": [
        "#### Lasso Poly"
      ]
    },
    {
      "cell_type": "code",
      "execution_count": 37,
      "metadata": {
        "id": "5-bsUbCFs_gO"
      },
      "outputs": [],
      "source": [
        "# Define hyperparameter grid\n",
        "param_grid = {'alpha': [0.001, 0.01, 0.1, 1.0, 10.0, 100.0]}\n",
        "\n",
        "# Instantiate Lasso regression model\n",
        "lasso = Lasso()\n",
        "\n",
        "# Instantiate GridSearchCV\n",
        "grid_search = GridSearchCV(estimator=lasso, param_grid=param_grid, scoring='neg_mean_squared_error', cv=5)"
      ]
    },
    {
      "cell_type": "markdown",
      "metadata": {
        "id": "6-ESZDZbs_gP"
      },
      "source": [
        "##### Data set 1"
      ]
    },
    {
      "cell_type": "code",
      "execution_count": 38,
      "metadata": {
        "colab": {
          "base_uri": "https://localhost:8080/",
          "height": 1000
        },
        "id": "OpffXrFEs_gP",
        "outputId": "3e06add9-dcc3-4cd7-e6bb-e75f4b19cca2"
      },
      "outputs": [
        {
          "name": "stdout",
          "output_type": "stream",
          "text": [
            "Mean squared error:  499.0138928823167\n",
            "Mean absolute error:  18.388708215474413\n",
            "Root mean squared error:  22.338618866937964\n",
            "R2 score:  0.15627049710430618\n",
            "R2 adjusted score:  0.1551056486928083\n",
            "     y     y_pred\n",
            "0   42  44.773362\n",
            "1   64  54.397209\n",
            "2   40  49.694640\n",
            "3   41  15.595135\n",
            "4   27  34.438669\n",
            "5   55  55.198930\n",
            "6    0  53.410699\n",
            "7    0  47.394462\n",
            "8   40  40.826089\n",
            "9   50  37.156782\n",
            "10   1  42.862894\n",
            "11  32  52.836973\n",
            "12  67  58.115774\n",
            "13  63  33.185025\n",
            "14  53  55.558997\n",
            "15  42  37.888397\n",
            "16  53  51.790592\n",
            "17  80  41.266390\n",
            "18  62  43.220456\n",
            "19   2  47.351130\n",
            "koeficijenti:  [-4.48336107e-01  6.84562847e-01  2.21079527e-01 -2.67798751e-02\n",
            "  1.84683334e-01 -2.45920216e-01 -5.55164680e-01  2.34989418e-01\n",
            " -1.02341635e+00  6.17532190e-02 -9.66664372e-02 -1.49153815e+00\n",
            " -8.47092166e-03  8.49746197e-02 -5.07888679e-02 -6.46083200e-03\n",
            "  3.35347772e-02 -3.71311360e-02  7.38615892e-02 -4.08477191e-02\n",
            "  6.33728137e-02 -5.33304121e-02 -3.09174733e-02  2.05416619e-02\n",
            "  5.90267761e-02 -5.90267761e-02  1.22089197e+00 -6.93175408e-01\n",
            " -3.71818830e-01 -1.02694749e+00  1.25197444e-01  2.14254093e-02\n",
            "  8.91336719e-01  1.54416772e+00 -1.71696211e-03  3.09902842e-01\n",
            "  1.79071633e+01  9.79215369e-02  2.45396714e-02 -1.90715776e-02\n",
            " -8.12180732e-02  5.22100453e-02 -4.56207169e-02  1.38124226e-01\n",
            "  3.22474080e-02 -6.65279807e-02  6.65799203e-02 -3.42226460e-02\n",
            "  2.85189774e-02 -2.78405637e-02 -8.45013720e-01 -7.79684669e-01\n",
            " -1.94387014e-01  1.24457688e-02 -1.20218344e-01  8.97558183e-01\n",
            "  5.28682753e-01  4.73038852e-01 -1.58385209e-01  2.31610401e-01\n",
            "  4.03744774e-01 -1.19936946e-01  4.27762525e+00  0.00000000e+00\n",
            "  8.47675700e-02  9.73891924e-02 -1.05809518e-01  4.05478606e-03\n",
            "  1.64060012e-02 -1.21868604e-01 -7.75204770e-02]\n"
          ]
        },
        {
          "data": {
            "image/png": "[encoded data removed]",
            "text/plain": [
              "<Figure size 1000x500 with 1 Axes>"
            ]
          },
          "metadata": {},
          "output_type": "display_data"
        }
      ],
      "source": [
        "# Fit grid search to training data\n",
        "grid_search.fit(X_train_std, y_train)\n",
        "\n",
        "# Access best model and parameters\n",
        "best_model = grid_search.best_estimator_\n",
        "best_params = grid_search.best_params_\n",
        "\n",
        "# Evaluate best model on testing data\n",
        "y_pred = best_model.predict(X_test_std)\n",
        "mse = mean_squared_error(y_test, y_pred)\n",
        "r2 = r2_score(y_test, y_pred)\n",
        "\n",
        "# print(\"Best Model Parameters:\", best_params)\n",
        "# print(\"MSE:\", mse)\n",
        "# print(\"R-squared:\", r2)\n",
        "\n",
        "model_evaluation(y_test, y_pred, X_train_std.shape[0], X_train_std.shape[1])\n",
        "\n",
        "# Ilustracija koeficijenata\n",
        "logger.log_score('Lasso Poly', 'ds1', r2)\n",
        "plt.figure(figsize=(10,5))\n",
        "plt.bar(range(len(rm.coef_)),rm.coef_)\n",
        "print(\"koeficijenti: \", rm.coef_)"
      ]
    },
    {
      "cell_type": "markdown",
      "metadata": {
        "id": "MmjotdZIs_gQ"
      },
      "source": [
        "##### Data set 2"
      ]
    },
    {
      "cell_type": "code",
      "execution_count": 39,
      "metadata": {
        "colab": {
          "base_uri": "https://localhost:8080/",
          "height": 1000
        },
        "id": "uI-m7636s_gQ",
        "outputId": "11185c1a-f9b1-480a-ffb1-6cd9e2ea30c4"
      },
      "outputs": [
        {
          "name": "stdout",
          "output_type": "stream",
          "text": [
            "Mean squared error:  80.65060065743167\n",
            "Mean absolute error:  6.216152952327029\n",
            "Root mean squared error:  8.980567947375693\n",
            "R2 score:  0.8298435437038357\n",
            "R2 adjusted score:  0.8297696739155375\n",
            "     y     y_pred\n",
            "0   25  15.498887\n",
            "1   53  54.667631\n",
            "2   65  57.737826\n",
            "3   16  28.462567\n",
            "4   14  17.906936\n",
            "5   19  27.396444\n",
            "6    0   1.165343\n",
            "7    0  -4.535568\n",
            "8   49  49.283727\n",
            "9    6  10.796547\n",
            "10  67  47.455192\n",
            "11  59  49.655659\n",
            "12  45  42.127939\n",
            "13  26  31.738981\n",
            "14  74  64.739163\n",
            "15  31  33.616313\n",
            "16   0   4.448676\n",
            "17  54  49.749744\n",
            "18  16  20.813890\n",
            "19  26  27.052856\n",
            "koeficijenti:  [-4.48336107e-01  6.84562847e-01  2.21079527e-01 -2.67798751e-02\n",
            "  1.84683334e-01 -2.45920216e-01 -5.55164680e-01  2.34989418e-01\n",
            " -1.02341635e+00  6.17532190e-02 -9.66664372e-02 -1.49153815e+00\n",
            " -8.47092166e-03  8.49746197e-02 -5.07888679e-02 -6.46083200e-03\n",
            "  3.35347772e-02 -3.71311360e-02  7.38615892e-02 -4.08477191e-02\n",
            "  6.33728137e-02 -5.33304121e-02 -3.09174733e-02  2.05416619e-02\n",
            "  5.90267761e-02 -5.90267761e-02  1.22089197e+00 -6.93175408e-01\n",
            " -3.71818830e-01 -1.02694749e+00  1.25197444e-01  2.14254093e-02\n",
            "  8.91336719e-01  1.54416772e+00 -1.71696211e-03  3.09902842e-01\n",
            "  1.79071633e+01  9.79215369e-02  2.45396714e-02 -1.90715776e-02\n",
            " -8.12180732e-02  5.22100453e-02 -4.56207169e-02  1.38124226e-01\n",
            "  3.22474080e-02 -6.65279807e-02  6.65799203e-02 -3.42226460e-02\n",
            "  2.85189774e-02 -2.78405637e-02 -8.45013720e-01 -7.79684669e-01\n",
            " -1.94387014e-01  1.24457688e-02 -1.20218344e-01  8.97558183e-01\n",
            "  5.28682753e-01  4.73038852e-01 -1.58385209e-01  2.31610401e-01\n",
            "  4.03744774e-01 -1.19936946e-01  4.27762525e+00  0.00000000e+00\n",
            "  8.47675700e-02  9.73891924e-02 -1.05809518e-01  4.05478606e-03\n",
            "  1.64060012e-02 -1.21868604e-01 -7.75204770e-02]\n"
          ]
        },
        {
          "data": {
            "image/png": "[encoded data removed]",
            "text/plain": [
              "<Figure size 1000x500 with 1 Axes>"
            ]
          },
          "metadata": {},
          "output_type": "display_data"
        }
      ],
      "source": [
        "# Fit grid search to training data\n",
        "grid_search.fit(X_train_two_std, y_trian_two)\n",
        "\n",
        "# Access best model and parameters\n",
        "best_model = grid_search.best_estimator_\n",
        "best_params = grid_search.best_params_\n",
        "\n",
        "# Evaluate best model on testing data\n",
        "y_pred = best_model.predict(X_test_two_std)\n",
        "mse = mean_squared_error(y_test_two, y_pred)\n",
        "r2 = r2_score(y_test_two, y_pred)\n",
        "\n",
        "# print(\"Best Model Parameters:\", best_params)\n",
        "# print(\"MSE:\", mse)\n",
        "# print(\"R-squared:\", r2)\n",
        "\n",
        "model_evaluation(y_test_two, y_pred, X_train_two_std.shape[0], X_train_two_std.shape[1])\n",
        "\n",
        "\n",
        "# Ilustracija koeficijenata\n",
        "logger.log_score('Lasso Poly', 'ds2', r2)\n",
        "plt.figure(figsize=(10,5))\n",
        "plt.bar(range(len(rm.coef_)),rm.coef_)\n",
        "print(\"koeficijenti: \", rm.coef_)"
      ]
    },
    {
      "cell_type": "markdown",
      "metadata": {
        "id": "RJzadoLfs_gQ"
      },
      "source": [
        "#### Ridge Poly"
      ]
    },
    {
      "cell_type": "code",
      "execution_count": 40,
      "metadata": {
        "id": "p57B8HOKs_gQ"
      },
      "outputs": [],
      "source": [
        "# Define hyperparameter grid\n",
        "param_grid = {'alpha': [0.001, 0.01, 0.1, 1.0, 5, 10.0, 100.0]}\n",
        "\n",
        "# Instantiate ridge regression model\n",
        "ridge = Ridge()\n",
        "\n",
        "# Instantiate GridSearchCV\n",
        "grid_search = GridSearchCV(estimator=ridge, param_grid=param_grid, scoring='neg_mean_squared_error', cv=5)"
      ]
    },
    {
      "cell_type": "markdown",
      "metadata": {
        "id": "yYMowDi5s_gR"
      },
      "source": [
        "##### Data set 1"
      ]
    },
    {
      "cell_type": "code",
      "execution_count": 41,
      "metadata": {
        "colab": {
          "base_uri": "https://localhost:8080/",
          "height": 1000
        },
        "id": "NdtU9jLCs_gS",
        "outputId": "7000142f-780c-4040-8196-4d4be937f229"
      },
      "outputs": [
        {
          "name": "stderr",
          "output_type": "stream",
          "text": [
            "/usr/local/lib/python3.10/dist-packages/sklearn/linear_model/_ridge.py:216: LinAlgWarning: Ill-conditioned matrix (rcond=9.51222e-18): result may not be accurate.\n",
            "  return linalg.solve(A, Xy, assume_a=\"pos\", overwrite_a=True).T\n",
            "/usr/local/lib/python3.10/dist-packages/sklearn/linear_model/_ridge.py:216: LinAlgWarning: Ill-conditioned matrix (rcond=9.46924e-18): result may not be accurate.\n",
            "  return linalg.solve(A, Xy, assume_a=\"pos\", overwrite_a=True).T\n",
            "/usr/local/lib/python3.10/dist-packages/sklearn/linear_model/_ridge.py:216: LinAlgWarning: Ill-conditioned matrix (rcond=9.51093e-18): result may not be accurate.\n",
            "  return linalg.solve(A, Xy, assume_a=\"pos\", overwrite_a=True).T\n",
            "/usr/local/lib/python3.10/dist-packages/sklearn/linear_model/_ridge.py:216: LinAlgWarning: Ill-conditioned matrix (rcond=9.50239e-18): result may not be accurate.\n",
            "  return linalg.solve(A, Xy, assume_a=\"pos\", overwrite_a=True).T\n",
            "/usr/local/lib/python3.10/dist-packages/sklearn/linear_model/_ridge.py:216: LinAlgWarning: Ill-conditioned matrix (rcond=9.58406e-18): result may not be accurate.\n",
            "  return linalg.solve(A, Xy, assume_a=\"pos\", overwrite_a=True).T\n",
            "/usr/local/lib/python3.10/dist-packages/sklearn/linear_model/_ridge.py:216: LinAlgWarning: Ill-conditioned matrix (rcond=9.37332e-17): result may not be accurate.\n",
            "  return linalg.solve(A, Xy, assume_a=\"pos\", overwrite_a=True).T\n",
            "/usr/local/lib/python3.10/dist-packages/sklearn/linear_model/_ridge.py:216: LinAlgWarning: Ill-conditioned matrix (rcond=9.3575e-17): result may not be accurate.\n",
            "  return linalg.solve(A, Xy, assume_a=\"pos\", overwrite_a=True).T\n",
            "/usr/local/lib/python3.10/dist-packages/sklearn/linear_model/_ridge.py:216: LinAlgWarning: Ill-conditioned matrix (rcond=9.32935e-17): result may not be accurate.\n",
            "  return linalg.solve(A, Xy, assume_a=\"pos\", overwrite_a=True).T\n",
            "/usr/local/lib/python3.10/dist-packages/sklearn/linear_model/_ridge.py:216: LinAlgWarning: Ill-conditioned matrix (rcond=9.44576e-17): result may not be accurate.\n",
            "  return linalg.solve(A, Xy, assume_a=\"pos\", overwrite_a=True).T\n",
            "/usr/local/lib/python3.10/dist-packages/sklearn/linear_model/_ridge.py:216: LinAlgWarning: Ill-conditioned matrix (rcond=9.52923e-17): result may not be accurate.\n",
            "  return linalg.solve(A, Xy, assume_a=\"pos\", overwrite_a=True).T\n",
            "/usr/local/lib/python3.10/dist-packages/sklearn/linear_model/_ridge.py:216: LinAlgWarning: Ill-conditioned matrix (rcond=6.23969e-18): result may not be accurate.\n",
            "  return linalg.solve(A, Xy, assume_a=\"pos\", overwrite_a=True).T\n"
          ]
        },
        {
          "name": "stdout",
          "output_type": "stream",
          "text": [
            "Mean squared error:  467.7913308000368\n",
            "Mean absolute error:  17.653125028326627\n",
            "Root mean squared error:  21.628484246475452\n",
            "R2 score:  0.20906140565527231\n",
            "R2 adjusted score:  0.18313242759635373\n",
            "     y     y_pred\n",
            "0   42  42.437693\n",
            "1   64  33.724332\n",
            "2   40  50.294620\n",
            "3   41  19.969664\n",
            "4   27  29.408703\n",
            "5   55  53.101052\n",
            "6    0  44.772773\n",
            "7    0  46.129198\n",
            "8   40  34.735759\n",
            "9   50  42.598989\n",
            "10   1  28.666283\n",
            "11  32  52.342281\n",
            "12  67  66.140495\n",
            "13  63  38.822451\n",
            "14  53  53.675312\n",
            "15  42  38.827882\n",
            "16  53  54.347514\n",
            "17  80  34.129307\n",
            "18  62  41.118048\n",
            "19   2  39.256444\n",
            "koeficijenti:  [-4.48336107e-01  6.84562847e-01  2.21079527e-01 -2.67798751e-02\n",
            "  1.84683334e-01 -2.45920216e-01 -5.55164680e-01  2.34989418e-01\n",
            " -1.02341635e+00  6.17532190e-02 -9.66664372e-02 -1.49153815e+00\n",
            " -8.47092166e-03  8.49746197e-02 -5.07888679e-02 -6.46083200e-03\n",
            "  3.35347772e-02 -3.71311360e-02  7.38615892e-02 -4.08477191e-02\n",
            "  6.33728137e-02 -5.33304121e-02 -3.09174733e-02  2.05416619e-02\n",
            "  5.90267761e-02 -5.90267761e-02  1.22089197e+00 -6.93175408e-01\n",
            " -3.71818830e-01 -1.02694749e+00  1.25197444e-01  2.14254093e-02\n",
            "  8.91336719e-01  1.54416772e+00 -1.71696211e-03  3.09902842e-01\n",
            "  1.79071633e+01  9.79215369e-02  2.45396714e-02 -1.90715776e-02\n",
            " -8.12180732e-02  5.22100453e-02 -4.56207169e-02  1.38124226e-01\n",
            "  3.22474080e-02 -6.65279807e-02  6.65799203e-02 -3.42226460e-02\n",
            "  2.85189774e-02 -2.78405637e-02 -8.45013720e-01 -7.79684669e-01\n",
            " -1.94387014e-01  1.24457688e-02 -1.20218344e-01  8.97558183e-01\n",
            "  5.28682753e-01  4.73038852e-01 -1.58385209e-01  2.31610401e-01\n",
            "  4.03744774e-01 -1.19936946e-01  4.27762525e+00  0.00000000e+00\n",
            "  8.47675700e-02  9.73891924e-02 -1.05809518e-01  4.05478606e-03\n",
            "  1.64060012e-02 -1.21868604e-01 -7.75204770e-02]\n"
          ]
        },
        {
          "data": {
            "image/png": "[encoded data removed]",
            "text/plain": [
              "<Figure size 1000x500 with 1 Axes>"
            ]
          },
          "metadata": {},
          "output_type": "display_data"
        }
      ],
      "source": [
        "# Fit grid search to training data\n",
        "grid_search.fit(X_inter_train, y_train)\n",
        "\n",
        "# Access best model and parameters\n",
        "best_model = grid_search.best_estimator_\n",
        "best_params = grid_search.best_params_\n",
        "\n",
        "# Evaluate best model on testing data\n",
        "y_pred = best_model.predict(X_inter_test)\n",
        "mse = mean_squared_error(y_test, y_pred)\n",
        "r2 = r2_score(y_test, y_pred)\n",
        "\n",
        "# print(\"Best Model Parameters:\", best_params)\n",
        "# print(\"MSE:\", mse)\n",
        "# print(\"R-squared:\", r2)\n",
        "\n",
        "logger.log_score('Ridge Poly', 'ds1', r2)\n",
        "model_evaluation(y_test, y_pred, X_inter_train.shape[0], X_inter_train.shape[1])\n",
        "\n",
        "# Ilustracija koeficijenata\n",
        "plt.figure(figsize=(10,5))\n",
        "plt.bar(range(len(rm.coef_)),rm.coef_)\n",
        "print(\"koeficijenti: \", rm.coef_)"
      ]
    },
    {
      "cell_type": "markdown",
      "metadata": {
        "id": "mau1bznVs_gS"
      },
      "source": [
        "##### Data set 2"
      ]
    },
    {
      "cell_type": "code",
      "execution_count": 42,
      "metadata": {
        "colab": {
          "base_uri": "https://localhost:8080/",
          "height": 1000
        },
        "id": "nGLrW2f6s_gS",
        "outputId": "a103c0d6-de76-4ad3-e7c5-7b46bf9ee4bc"
      },
      "outputs": [
        {
          "name": "stdout",
          "output_type": "stream",
          "text": [
            "Mean squared error:  80.64295679396044\n",
            "Mean absolute error:  6.216718824542466\n",
            "Root mean squared error:  8.980142359337096\n",
            "R2 score:  0.8298596707098354\n",
            "R2 adjusted score:  0.8270822835257758\n",
            "     y     y_pred\n",
            "0   25  15.500726\n",
            "1   53  54.655095\n",
            "2   65  57.663659\n",
            "3   16  28.466103\n",
            "4   14  17.906173\n",
            "5   19  27.373398\n",
            "6    0   1.165641\n",
            "7    0  -4.546895\n",
            "8   49  49.264875\n",
            "9    6  10.782425\n",
            "10  67  47.438293\n",
            "11  59  49.660454\n",
            "12  45  42.112948\n",
            "13  26  31.740188\n",
            "14  74  64.763908\n",
            "15  31  33.623518\n",
            "16   0   4.415320\n",
            "17  54  49.755228\n",
            "18  16  20.809041\n",
            "19  26  27.022908\n",
            "koeficijenti:  [-4.48336107e-01  6.84562847e-01  2.21079527e-01 -2.67798751e-02\n",
            "  1.84683334e-01 -2.45920216e-01 -5.55164680e-01  2.34989418e-01\n",
            " -1.02341635e+00  6.17532190e-02 -9.66664372e-02 -1.49153815e+00\n",
            " -8.47092166e-03  8.49746197e-02 -5.07888679e-02 -6.46083200e-03\n",
            "  3.35347772e-02 -3.71311360e-02  7.38615892e-02 -4.08477191e-02\n",
            "  6.33728137e-02 -5.33304121e-02 -3.09174733e-02  2.05416619e-02\n",
            "  5.90267761e-02 -5.90267761e-02  1.22089197e+00 -6.93175408e-01\n",
            " -3.71818830e-01 -1.02694749e+00  1.25197444e-01  2.14254093e-02\n",
            "  8.91336719e-01  1.54416772e+00 -1.71696211e-03  3.09902842e-01\n",
            "  1.79071633e+01  9.79215369e-02  2.45396714e-02 -1.90715776e-02\n",
            " -8.12180732e-02  5.22100453e-02 -4.56207169e-02  1.38124226e-01\n",
            "  3.22474080e-02 -6.65279807e-02  6.65799203e-02 -3.42226460e-02\n",
            "  2.85189774e-02 -2.78405637e-02 -8.45013720e-01 -7.79684669e-01\n",
            " -1.94387014e-01  1.24457688e-02 -1.20218344e-01  8.97558183e-01\n",
            "  5.28682753e-01  4.73038852e-01 -1.58385209e-01  2.31610401e-01\n",
            "  4.03744774e-01 -1.19936946e-01  4.27762525e+00  0.00000000e+00\n",
            "  8.47675700e-02  9.73891924e-02 -1.05809518e-01  4.05478606e-03\n",
            "  1.64060012e-02 -1.21868604e-01 -7.75204770e-02]\n"
          ]
        },
        {
          "data": {
            "image/png": "[encoded data removed]",
            "text/plain": [
              "<Figure size 1000x500 with 1 Axes>"
            ]
          },
          "metadata": {},
          "output_type": "display_data"
        }
      ],
      "source": [
        "# Fit grid search to training data\n",
        "grid_search.fit(X_inter_two_train, y_trian_two)\n",
        "\n",
        "# Access best model and parameters\n",
        "best_model = grid_search.best_estimator_\n",
        "best_params = grid_search.best_params_\n",
        "\n",
        "# Evaluate best model on testing data\n",
        "y_pred = best_model.predict(X_inter_two_test)\n",
        "mse = mean_squared_error(y_test_two, y_pred)\n",
        "r2 = r2_score(y_test_two, y_pred)\n",
        "\n",
        "# print(\"Best Model Parameters:\", best_params)\n",
        "# print(\"MSE:\", mse)\n",
        "# print(\"R-squared:\", r2)\n",
        "\n",
        "logger.log_score('Ridge Poly', 'ds2', r2)\n",
        "model_evaluation(y_test_two, y_pred_two, X_inter_two_train.shape[0], X_inter_two_train.shape[1])\n",
        "\n",
        "# Ilustracija koeficijenata\n",
        "plt.figure(figsize=(10,5))\n",
        "plt.bar(range(len(rm.coef_)),rm.coef_)\n",
        "print(\"koeficijenti: \", rm.coef_)"
      ]
    },
    {
      "cell_type": "code",
      "execution_count": 3,
      "metadata": {
        "colab": {
          "base_uri": "https://localhost:8080/",
          "height": 179
        },
        "id": "Wm7lo-UJp2bx",
        "outputId": "73212aa6-7a6c-48ae-e7a1-fc218448024e"
      },
      "outputs": [
        {
          "ename": "NameError",
          "evalue": "name 'logger' is not defined",
          "output_type": "error",
          "traceback": [
            "\u001b[0;31m---------------------------------------------------------------------------\u001b[0m",
            "\u001b[0;31mNameError\u001b[0m                                 Traceback (most recent call last)",
            "\u001b[0;32m<ipython-input-3-be1e158ef19c>\u001b[0m in \u001b[0;36m<cell line: 1>\u001b[0;34m()\u001b[0m\n\u001b[0;32m----> 1\u001b[0;31m \u001b[0mlogger\u001b[0m\u001b[0;34m.\u001b[0m\u001b[0mplot_results\u001b[0m\u001b[0;34m(\u001b[0m\u001b[0;34m)\u001b[0m\u001b[0;34m\u001b[0m\u001b[0;34m\u001b[0m\u001b[0m\n\u001b[0m",
            "\u001b[0;31mNameError\u001b[0m: name 'logger' is not defined"
          ]
        }
      ],
      "source": [
        "logger.plot_results()"
      ]
    },
    {
      "cell_type": "code",
      "execution_count": 2,
      "metadata": {
        "colab": {
          "base_uri": "https://localhost:8080/",
          "height": 196
        },
        "id": "v1vRbyO2ESpt",
        "outputId": "b54bdc33-1444-4afd-ffb0-d92f6c9bc724"
      },
      "outputs": [
        {
          "ename": "NameError",
          "evalue": "name 'logger' is not defined",
          "output_type": "error",
          "traceback": [
            "\u001b[0;31m---------------------------------------------------------------------------\u001b[0m",
            "\u001b[0;31mNameError\u001b[0m                                 Traceback (most recent call last)",
            "\u001b[0;32m<ipython-input-2-60026aece253>\u001b[0m in \u001b[0;36m<cell line: 1>\u001b[0;34m()\u001b[0m\n\u001b[0;32m----> 1\u001b[0;31m \u001b[0;32mfor\u001b[0m \u001b[0mscore\u001b[0m \u001b[0;32min\u001b[0m \u001b[0mlogger\u001b[0m\u001b[0;34m.\u001b[0m\u001b[0mmodel_scores\u001b[0m\u001b[0;34m:\u001b[0m\u001b[0;34m\u001b[0m\u001b[0;34m\u001b[0m\u001b[0m\n\u001b[0m\u001b[1;32m      2\u001b[0m   \u001b[0mprint\u001b[0m\u001b[0;34m(\u001b[0m\u001b[0mscore\u001b[0m\u001b[0;34m[\u001b[0m\u001b[0;34m'b1'\u001b[0m\u001b[0;34m]\u001b[0m\u001b[0;34m)\u001b[0m\u001b[0;34m\u001b[0m\u001b[0;34m\u001b[0m\u001b[0m\n",
            "\u001b[0;31mNameError\u001b[0m: name 'logger' is not defined"
          ]
        }
      ],
      "source": [
        "for score in logger.model_scores:\n",
        "  print(score['b1'])"
      ]
    },
    {
      "cell_type": "markdown",
      "metadata": {
        "id": "rpvpfl2zs_gT"
      },
      "source": [
        "### SVR"
      ]
    },
    {
      "cell_type": "code",
      "execution_count": 44,
      "metadata": {
        "id": "t2jggwuys_gT"
      },
      "outputs": [],
      "source": [
        "# from sklearn.svm import SVR\n",
        "# from sklearn.model_selection import RandomizedSearchCV\n",
        "# from sklearn.metrics import mean_squared_error, r2_score\n",
        "\n",
        "# # Define hyperparameter grid\n",
        "# param_grid = {\n",
        "#     'C': [0.1, 1, 10, 100],\n",
        "#     'epsilon': [0.01, 0.1, 1],\n",
        "#     'kernel': ['linear', 'rbf', 'sigmoid'],\n",
        "#     'degree': [2, 3, 4]\n",
        "# }\n",
        "\n",
        "# # Instantiate SVR\n",
        "# svr = SVR()\n",
        "\n",
        "# # Instantiate RandomizedSearchCV\n",
        "# random_search = RandomizedSearchCV(estimator=svr, param_distributions=param_grid, scoring='neg_mean_squared_error', cv=5, n_iter=20, n_jobs=-1)"
      ]
    },
    {
      "cell_type": "markdown",
      "metadata": {
        "id": "LIJFITpVs_gT"
      },
      "source": [
        "##### Data set 1"
      ]
    },
    {
      "cell_type": "code",
      "execution_count": 45,
      "metadata": {
        "id": "KHpfiUIds_gT"
      },
      "outputs": [],
      "source": [
        "# # Fit random search to training data\n",
        "# random_search.fit(X_train_std, y_train)\n",
        "\n",
        "# # Access best model and parameters\n",
        "# best_model = random_search.best_estimator_\n",
        "# best_params = random_search.get_params\n",
        "\n",
        "# # Evaluate best model on testing data\n",
        "# y_pred = best_model.predict(X_test_std)\n",
        "# mse = mean_squared_error(y_test, y_pred)\n",
        "# r2 = r2_score(y_test, y_pred)\n",
        "\n",
        "# logger.log_score('SVR', 'ds1', r2)\n",
        "# print(\"Best Model Parameters:\", best_params)\n",
        "# print(\"MSE:\", mse)\n",
        "# print(\"R-squared:\", r2)"
      ]
    },
    {
      "cell_type": "markdown",
      "metadata": {
        "id": "CwO_WVShs_gU"
      },
      "source": [
        "##### Data set 2"
      ]
    },
    {
      "cell_type": "code",
      "execution_count": 46,
      "metadata": {
        "colab": {
          "base_uri": "https://localhost:8080/",
          "height": 248
        },
        "id": "F26pVDjis_gU",
        "outputId": "68005909-55de-4f0e-be55-fd159ed132e5"
      },
      "outputs": [
        {
          "ename": "NameError",
          "evalue": "name 'random_search' is not defined",
          "output_type": "error",
          "traceback": [
            "\u001b[0;31m---------------------------------------------------------------------------\u001b[0m",
            "\u001b[0;31mNameError\u001b[0m                                 Traceback (most recent call last)",
            "\u001b[0;32m<ipython-input-46-238eae2a9cae>\u001b[0m in \u001b[0;36m<cell line: 2>\u001b[0;34m()\u001b[0m\n\u001b[1;32m      1\u001b[0m \u001b[0;31m# Fit random search to training data\u001b[0m\u001b[0;34m\u001b[0m\u001b[0;34m\u001b[0m\u001b[0m\n\u001b[0;32m----> 2\u001b[0;31m \u001b[0mrandom_search\u001b[0m\u001b[0;34m.\u001b[0m\u001b[0mfit\u001b[0m\u001b[0;34m(\u001b[0m\u001b[0mX_train_two_std\u001b[0m\u001b[0;34m,\u001b[0m \u001b[0my_trian_two\u001b[0m\u001b[0;34m)\u001b[0m\u001b[0;34m\u001b[0m\u001b[0;34m\u001b[0m\u001b[0m\n\u001b[0m\u001b[1;32m      3\u001b[0m \u001b[0;34m\u001b[0m\u001b[0m\n\u001b[1;32m      4\u001b[0m \u001b[0;31m# Access best model and parameters\u001b[0m\u001b[0;34m\u001b[0m\u001b[0;34m\u001b[0m\u001b[0m\n\u001b[1;32m      5\u001b[0m \u001b[0mbest_model\u001b[0m \u001b[0;34m=\u001b[0m \u001b[0mrandom_search\u001b[0m\u001b[0;34m.\u001b[0m\u001b[0mbest_estimator_\u001b[0m\u001b[0;34m\u001b[0m\u001b[0;34m\u001b[0m\u001b[0m\n",
            "\u001b[0;31mNameError\u001b[0m: name 'random_search' is not defined"
          ]
        }
      ],
      "source": [
        "# Fit random search to training data\n",
        "random_search.fit(X_train_two_std, y_trian_two)\n",
        "\n",
        "# Access best model and parameters\n",
        "best_model = random_search.best_estimator_\n",
        "best_params = random_search.get_params\n",
        "\n",
        "# Evaluate best model on testing data\n",
        "y_pred = best_model.predict(X_test_two_std)\n",
        "mse = mean_squared_error(y_test_two, y_pred)\n",
        "r2 = r2_score(y_test_two, y_pred)\n",
        "\n",
        "logger.log_score('SVR', 'ds2', r2)\n",
        "print(\"Best Model Parameters:\", best_params)\n",
        "print(\"MSE:\", mse)\n",
        "print(\"R-squared:\", r2)"
      ]
    },
    {
      "cell_type": "markdown",
      "metadata": {
        "id": "2TXmsPwks_gU"
      },
      "source": [
        "### RFR"
      ]
    },
    {
      "cell_type": "code",
      "execution_count": null,
      "metadata": {
        "id": "9wzLPoThs_gU"
      },
      "outputs": [],
      "source": [
        "# df = pd.read_csv('spotify_songs.csv')\n",
        "# columns_to_drop = ['track_id', 'track_artist', 'track_name', 'track_album_id', 'track_album_name', 'playlist_name', 'playlist_id', 'playlist_subgenre', 'playlist_genre']\n",
        "# df.drop(columns=columns_to_drop, inplace=True)\n",
        "# df.dropna(axis=0, inplace=True)\n",
        "\n",
        "# # df = df[df['track_popularity'] < 15]\n",
        "\n",
        "# rows_to_drop = df.loc[df['duration_ms'] < 20000].index\n",
        "# df.drop(rows_to_drop, inplace=True)\n",
        "\n",
        "# new_df = df.copy()\n",
        "\n",
        "# # Assuming 'date' is a string column in the format 'YYYY-MM-DD'\n",
        "# new_df[['year', 'month', 'day']] = new_df['track_album_release_date'].str.split('-', expand=True)\n",
        "\n",
        "# # Convert the columns to numeric (to handle missing values during median calculation)\n",
        "# new_df['year'] = pd.to_numeric(new_df['year'], errors='coerce', downcast='integer')\n",
        "\n",
        "# # Calculate median values for year, month, and day\n",
        "# median_year = int(new_df['year'].median())\n",
        "\n",
        "# # Fill missing values with median values\n",
        "# new_df['year'] = new_df['year'].fillna(median_year).astype(int)\n",
        "\n",
        "# X = new_df.drop(['track_popularity', 'track_album_release_date', 'month', 'day'], axis=1)\n",
        "# # X.columns\n",
        "\n",
        "# X = pd.get_dummies(X, dtype=int)\n",
        "# X['year'] = new_df['year']\n",
        "# y = new_df['track_popularity']\n"
      ]
    },
    {
      "cell_type": "code",
      "execution_count": null,
      "metadata": {
        "id": "MmZZtEeCs_gV"
      },
      "outputs": [],
      "source": [
        "# from sklearn.svm import SVR\n",
        "# from sklearn.model_selection import GridSearchCV\n",
        "# from sklearn.metrics import mean_squared_error, r2_score\n",
        "\n",
        "# # Define hyperparameter grid\n",
        "# param_grid = {\n",
        "#     'C': [0.1, 1, 10, 100],\n",
        "#     'epsilon': [0.01, 0.1, 1],\n",
        "#     'kernel': ['linear', 'rbf', 'sigmoid'],\n",
        "#     'degree': [2, 3, 4]\n",
        "# }\n",
        "\n",
        "# # Instantiate SVR\n",
        "# svr = SVR()\n",
        "\n",
        "# # Instantiate GridSearchCV\n",
        "# grid_search = GridSearchCV(estimator=svr, param_grid=param_grid, scoring='neg_mean_squared_error', cv=5, n_jobs=-1)\n",
        "\n",
        "# # Fit grid search to training data\n",
        "# grid_search.fit(X_train_std, y_train)\n",
        "\n",
        "# # Access best model and parameters\n",
        "# best_params = grid_search.best_params_\n",
        "# best_svr = SVR(**best_params)\n",
        "\n",
        "# # Fit best model to training data\n",
        "# best_svr.fit(X_train_std, y_train)\n",
        "\n",
        "# # Evaluate best model on testing data\n",
        "# y_pred = best_svr.predict(X_test_std)\n",
        "# mse = mean_squared_error(y_test, y_pred)\n",
        "# r2 = r2_score(y_test, y_pred)\n",
        "\n",
        "# print(\"Best Model Parameters:\", best_params)\n",
        "# print(\"MSE:\", mse)\n",
        "# print(\"R-squared:\", r2)"
      ]
    },
    {
      "cell_type": "code",
      "execution_count": null,
      "metadata": {
        "id": "RcGskRMEs_gV"
      },
      "outputs": [],
      "source": [
        "from sklearn.ensemble import RandomForestRegressor\n",
        "from sklearn.metrics import mean_squared_error, r2_score\n",
        "from sklearn.model_selection import RandomizedSearchCV\n",
        "\n",
        "# Define hyperparameter grid\n",
        "param_grid = {\n",
        "    'n_estimators': [100, 200, 300],\n",
        "    'max_depth': [None, 10, 20, 30],\n",
        "    'min_samples_split': [2, 5, 10],\n",
        "    'min_samples_leaf': [1, 2, 4],\n",
        "    'bootstrap': [True, False]\n",
        "}\n",
        "\n",
        "# Best Model Parameters: {'n_estimators': 100, 'min_samples_split': 2, 'min_samples_leaf': 1, 'max_depth': 30, 'bootstrap': True}\n",
        "# MSE: 377.7139259984593\n",
        "# R-squared: 0.36136370637156245\n",
        "\n",
        "# Instantiate random forest regressor\n",
        "rf = RandomForestRegressor(random_state=27)\n",
        "\n",
        "# Instantiate GridSearchCV\n",
        "# grid_search = GridSearchCV(estimator=rf, param_grid=param_grid, scoring='neg_mean_squared_error', cv=5, n_jobs=-1)\n",
        "random_search = RandomizedSearchCV(estimator=rf, param_distributions=param_grid, scoring='neg_mean_squared_error', cv=5, n_iter=20, n_jobs=-1)\n"
      ]
    },
    {
      "cell_type": "markdown",
      "metadata": {
        "id": "SPWWJlYms_gV"
      },
      "source": [
        "##### Data set 1"
      ]
    },
    {
      "cell_type": "code",
      "execution_count": null,
      "metadata": {
        "id": "uPDkM85Ts_gW"
      },
      "outputs": [],
      "source": [
        "\n",
        "# Fit grid search to training data\n",
        "random_search.fit(X_train_std, y_train)\n",
        "\n",
        "# Access best model and parameters\n",
        "best_model = random_search.best_estimator_\n",
        "best_params = random_search.best_params_\n",
        "\n",
        "# Evaluate best model on testing data\n",
        "y_pred = best_model.predict(X_test_std)\n",
        "mse = mean_squared_error(y_test, y_pred)\n",
        "r2 = r2_score(y_test, y_pred)\n",
        "logger.log_score('RFR', 'ds1', r2)\n",
        "\n",
        "\n",
        "print(\"Best Model Parameters:\", best_params)\n",
        "print(\"MSE:\", mse)\n",
        "print(\"R-squared:\", r2)"
      ]
    },
    {
      "cell_type": "markdown",
      "metadata": {
        "id": "Kls6WIGrs_gW"
      },
      "source": [
        "##### Data set 2"
      ]
    },
    {
      "cell_type": "code",
      "execution_count": null,
      "metadata": {
        "id": "L9j6Eo4Ps_gW"
      },
      "outputs": [],
      "source": [
        "\n",
        "# Fit grid search to training data\n",
        "random_search.fit(X_train_two_std, y_trian_two)\n",
        "\n",
        "# Access best model and parameters\n",
        "best_model = random_search.best_estimator_\n",
        "best_params = random_search.best_params_\n",
        "\n",
        "# Evaluate best model on testing data\n",
        "y_pred = best_model.predict(X_test_two_std)\n",
        "mse = mean_squared_error(y_test_two, y_pred)\n",
        "r2 = r2_score(y_test_two, y_pred)\n",
        "logger.log_score('RFR', 'ds2', r2)\n",
        "\n",
        "\n",
        "print(\"Best Model Parameters:\", best_params)\n",
        "print(\"MSE:\", mse)\n",
        "print(\"R-squared:\", r2)"
      ]
    },
    {
      "cell_type": "markdown",
      "metadata": {
        "id": "MEEgBUoMs_gW"
      },
      "source": [
        "## PCA"
      ]
    },
    {
      "cell_type": "code",
      "execution_count": null,
      "metadata": {
        "id": "unGx-Lx1s_gW"
      },
      "outputs": [],
      "source": [
        "# df = pd.read_csv('spotify_songs.csv')\n",
        "\n",
        "# x_train, x_test, y_train, y_test = train_test_split(x, y, test_size=0.05, random_state=42)\n",
        "\n",
        "# columns_to_drop = ['track_id', 'track_artist', 'track_name', 'track_album_id', 'track_album_name', 'playlist_name', 'playlist_id', 'playlist_genre', 'playlist_subgenre']\n",
        "# df.drop(columns=columns_to_drop, inplace=True)\n",
        "# df.dropna(axis=0, inplace=True)\n",
        "\n",
        "# # df = df[df['track_popularity'] < 15]\n",
        "\n",
        "# rows_to_drop = df.loc[df['duration_ms'] < 20000].index\n",
        "# df.drop(rows_to_drop, inplace=True)\n",
        "\n",
        "# new_df = df.copy()\n",
        "\n",
        "# # Assuming 'date' is a string column in the format 'YYYY-MM-DD'\n",
        "# new_df[['year', 'month', 'day']] = new_df['track_album_release_date'].str.split('-', expand=True)\n",
        "\n",
        "# # Convert the columns to numeric (to handle missing values during median calculation)\n",
        "# new_df['year'] = pd.to_numeric(new_df['year'], errors='coerce', downcast='integer')\n",
        "\n",
        "# # Calculate median values for year, month, and day\n",
        "# median_year = int(new_df['year'].median())\n",
        "\n",
        "# # Fill missing values with median values\n",
        "# new_df['year'] = new_df['year'].fillna(median_year).astype(int)\n",
        "\n",
        "# X = new_df.drop(['track_popularity', 'track_album_release_date', 'month', 'day'], axis=1)\n",
        "# # X.columns\n",
        "\n",
        "# X = pd.get_dummies(X, dtype=int)\n",
        "# X['year'] = new_df['year']\n",
        "# y = new_df['track_popularity']\n",
        "\n",
        "# s = StandardScaler()\n",
        "# s.fit(X_train[numeric_feats])\n",
        "# X_train_std = s.transform(X_train[numeric_feats])\n",
        "# X_test_std = s.transform(X_test[numeric_feats])\n",
        "# X_train_std = pd.DataFrame(X_train_std)\n",
        "# X_test_std = pd.DataFrame(X_test_std)\n",
        "\n",
        "# X_train_std = pd.concat([X_train_std, X_train[dummy_feats].reset_index(drop=True)], axis=1)\n",
        "# X_test_std = pd.concat([X_test_std, X_test[dummy_feats].reset_index(drop=True)], axis=1)\n",
        "\n",
        "# X_train_std.columns = list(X.columns)\n",
        "# X_test_std.columns = list(X.columns)\n"
      ]
    },
    {
      "cell_type": "code",
      "execution_count": null,
      "metadata": {
        "id": "dA76BWM9s_gW"
      },
      "outputs": [],
      "source": [
        "pca = PCA(n_components=0.99)  # Specify the variance to be preserved"
      ]
    },
    {
      "cell_type": "code",
      "execution_count": null,
      "metadata": {
        "id": "69slauZNs_gX"
      },
      "outputs": [],
      "source": [
        "X_train_pca = pca.fit_transform(X_train_std)\n",
        "X_test_pca = pca.transform(X_test_std)\n",
        "\n",
        "print(\"Explained variance ratio:\", pca.explained_variance_ratio_)\n",
        "print(\"Cumulative explained variance ratio:\", np.cumsum(pca.explained_variance_ratio_))"
      ]
    },
    {
      "cell_type": "code",
      "execution_count": null,
      "metadata": {
        "id": "NfHVqJHOs_gX"
      },
      "outputs": [],
      "source": [
        "X_train_two_pca = pca.fit_transform(X_train_two_std)\n",
        "X_test_two_pca = pca.transform(X_test_two_std)\n",
        "\n",
        "print(\"Explained variance ratio:\", pca.explained_variance_ratio_)\n",
        "print(\"Cumulative explained variance ratio:\", np.cumsum(pca.explained_variance_ratio_))"
      ]
    },
    {
      "cell_type": "markdown",
      "metadata": {
        "id": "kIR7S8DBs_gY"
      },
      "source": [
        "#### LR"
      ]
    },
    {
      "cell_type": "code",
      "execution_count": null,
      "metadata": {
        "id": "9rmQhbLjs_gY"
      },
      "outputs": [],
      "source": [
        "lrm = LinearRegression()"
      ]
    },
    {
      "cell_type": "code",
      "execution_count": null,
      "metadata": {
        "id": "I1CfcBY5s_gY"
      },
      "outputs": [],
      "source": [
        "lrm.fit(X_train_pca, y_train)\n",
        "\n",
        "# predict prices of X_test_pca\n",
        "y_pred = lrm.predict(X_test_pca)\n",
        "r2 = r2_score(y_test, y_pred)\n",
        "mse = mean_squared_error(y_test, y_pred)\n",
        "logger.log_score('LR pca', 'ds1', r2)\n",
        "print(\"r2:\", r2)\n",
        "print(\"mse\", mse)"
      ]
    },
    {
      "cell_type": "code",
      "execution_count": null,
      "metadata": {
        "id": "jIyst_dFs_gZ"
      },
      "outputs": [],
      "source": [
        "lrm.fit(X_train_two_pca, y_trian_two)\n",
        "\n",
        "# predict prices of X_test_pca\n",
        "y_pred = lrm.predict(X_test_two_pca)\n",
        "r2 = r2_score(y_test_two, y_pred)\n",
        "mse = mean_squared_error(y_test_two, y_pred)\n",
        "logger.log_score('LR pca', 'ds2', r2)\n",
        "print(\"r2:\", r2)\n",
        "print(\"mse\", mse)"
      ]
    },
    {
      "cell_type": "markdown",
      "metadata": {
        "id": "pTaNv9_Bs_gZ"
      },
      "source": [
        "#### SVR"
      ]
    },
    {
      "cell_type": "code",
      "execution_count": null,
      "metadata": {
        "id": "6AdxazEds_gZ"
      },
      "outputs": [],
      "source": [
        "from sklearn.svm import SVR\n",
        "from sklearn.model_selection import RandomizedSearchCV\n",
        "from sklearn.metrics import mean_squared_error, r2_score\n",
        "\n",
        "# Define hyperparameter grid\n",
        "param_grid = {\n",
        "    'C': [0.1, 1, 10, 100],\n",
        "    'epsilon': [0.01, 0.1, 1],\n",
        "    'kernel': ['linear', 'rbf', 'sigmoid'],\n",
        "    'degree': [2, 3, 4]\n",
        "}\n",
        "\n",
        "# Instantiate SVR\n",
        "svr = SVR()\n",
        "\n",
        "# Instantiate RandomizedSearchCV\n",
        "random_search = RandomizedSearchCV(estimator=svr, param_distributions=param_grid, scoring='neg_mean_squared_error', cv=5, n_iter=20, n_jobs=-1)"
      ]
    },
    {
      "cell_type": "markdown",
      "metadata": {
        "id": "gkqSqHRts_gZ"
      },
      "source": [
        "##### Data set 1"
      ]
    },
    {
      "cell_type": "code",
      "execution_count": null,
      "metadata": {
        "id": "y92sfdvDs_ga"
      },
      "outputs": [],
      "source": [
        "\n",
        "# Fit random search to training data\n",
        "random_search.fit(X_train_pca, y_train)\n",
        "\n",
        "# Access best model and parameters\n",
        "best_model = random_search.best_estimator_\n",
        "best_params = random_search.get_params\n",
        "\n",
        "# Evaluate best model on testing data\n",
        "y_pred = best_model.predict(X_test_pca)\n",
        "mse = mean_squared_error(y_test, y_pred)\n",
        "r2 = r2_score(y_test, y_pred)\n",
        "\n",
        "logger.log_score('SVR pca', 'ds1', r2)\n",
        "\n",
        "print(\"Best Model Parameters:\", best_params)\n",
        "print(\"MSE:\", mse)\n",
        "print(\"R-squared:\", r2)"
      ]
    },
    {
      "cell_type": "markdown",
      "metadata": {
        "id": "O7r1mzhDs_ga"
      },
      "source": [
        "##### Data set 2"
      ]
    },
    {
      "cell_type": "code",
      "execution_count": null,
      "metadata": {
        "id": "tacZeqUZs_ga"
      },
      "outputs": [],
      "source": [
        "\n",
        "# Fit random search to training data\n",
        "random_search.fit(X_train_two_pca, y_trian_two)\n",
        "\n",
        "# Access best model and parameters\n",
        "best_model = random_search.best_estimator_\n",
        "best_params = random_search.get_params\n",
        "\n",
        "# Evaluate best model on testing data\n",
        "y_pred = best_model.predict(X_test_two_pca)\n",
        "mse = mean_squared_error(y_test_two, y_pred)\n",
        "r2 = r2_score(y_test_two, y_pred)\n",
        "\n",
        "logger.log_score('SVR pca', 'ds2', r2)\n",
        "\n",
        "print(\"Best Model Parameters:\", best_params)\n",
        "print(\"MSE:\", mse)\n",
        "print(\"R-squared:\", r2)"
      ]
    },
    {
      "cell_type": "markdown",
      "metadata": {
        "id": "qddZJT-ls_gb"
      },
      "source": [
        "#### RFR"
      ]
    },
    {
      "cell_type": "code",
      "execution_count": null,
      "metadata": {
        "id": "iOiPBBk7s_gb"
      },
      "outputs": [],
      "source": [
        "# df = pd.read_csv('spotify_songs.csv')\n",
        "# columns_to_drop = ['track_id', 'track_artist', 'track_name', 'track_album_id', 'track_album_name', 'playlist_name', 'playlist_id', 'playlist_subgenre', 'playlist_genre']\n",
        "# df.drop(columns=columns_to_drop, inplace=True)\n",
        "# df.dropna(axis=0, inplace=True)\n",
        "\n",
        "# # df = df[df['track_popularity'] < 15]\n",
        "\n",
        "# rows_to_drop = df.loc[df['duration_ms'] < 20000].index\n",
        "# df.drop(rows_to_drop, inplace=True)\n",
        "\n",
        "# new_df = df.copy()\n",
        "\n",
        "# # Assuming 'date' is a string column in the format 'YYYY-MM-DD'\n",
        "# new_df[['year', 'month', 'day']] = new_df['track_album_release_date'].str.split('-', expand=True)\n",
        "\n",
        "# # Convert the columns to numeric (to handle missing values during median calculation)\n",
        "# new_df['year'] = pd.to_numeric(new_df['year'], errors='coerce', downcast='integer')\n",
        "\n",
        "# # Calculate median values for year, month, and day\n",
        "# median_year = int(new_df['year'].median())\n",
        "\n",
        "# # Fill missing values with median values\n",
        "# new_df['year'] = new_df['year'].fillna(median_year).astype(int)\n",
        "\n",
        "# X = new_df.drop(['track_popularity', 'track_album_release_date', 'month', 'day'], axis=1)\n",
        "# # X.columns\n",
        "\n",
        "# X = pd.get_dummies(X, dtype=int)\n",
        "# X['year'] = new_df['year']\n",
        "# y = new_df['track_popularity']\n"
      ]
    },
    {
      "cell_type": "code",
      "execution_count": null,
      "metadata": {
        "id": "h3tollv3s_gc"
      },
      "outputs": [],
      "source": [
        "logger.plot_results()"
      ]
    },
    {
      "cell_type": "markdown",
      "metadata": {
        "id": "uaw8I9AEs_gd"
      },
      "source": [
        "### RFR"
      ]
    },
    {
      "cell_type": "code",
      "execution_count": null,
      "metadata": {
        "id": "qpImyGPcs_gd"
      },
      "outputs": [],
      "source": [
        "from sklearn.ensemble import RandomForestRegressor\n",
        "from sklearn.metrics import mean_squared_error, r2_score\n",
        "from sklearn.model_selection import RandomizedSearchCV\n",
        "\n",
        "# Define hyperparameter grid\n",
        "param_grid = {\n",
        "    'n_estimators': [100, 200, 300],\n",
        "    'max_depth': [None, 10, 20, 30],\n",
        "    'min_samples_split': [2, 5, 10],\n",
        "    'min_samples_leaf': [1, 2, 4],\n",
        "    'bootstrap': [True, False]\n",
        "}\n",
        "\n",
        "# Best Model Parameters: {'n_estimators': 100, 'min_samples_split': 2, 'min_samples_leaf': 1, 'max_depth': 30, 'bootstrap': True}\n",
        "# MSE: 377.7139259984593\n",
        "# R-squared: 0.36136370637156245\n",
        "\n",
        "# Instantiate random forest regressor\n",
        "rf = RandomForestRegressor(random_state=27)\n",
        "\n",
        "# Instantiate GridSearchCV\n",
        "# grid_search = GridSearchCV(estimator=rf, param_grid=param_grid, scoring='neg_mean_squared_error', cv=5, n_jobs=-1)\n",
        "random_search = RandomizedSearchCV(estimator=rf, param_distributions=param_grid, scoring='neg_mean_squared_error', cv=5, n_iter=20, n_jobs=-1)\n",
        "\n",
        "# Fit grid search to training data\n",
        "random_search.fit(X_train_pca, y_train)\n",
        "\n",
        "# Access best model and parameters\n",
        "best_model = random_search.best_estimator_\n",
        "best_params = random_search.best_params_\n",
        "\n",
        "# Evaluate best model on testing data\n",
        "y_pred = best_model.predict(X_test_std)\n",
        "mse = mean_squared_error(y_test, y_pred)\n",
        "r2 = r2_score(y_test, y_pred)\n",
        "\n",
        "print(\"Best Model Parameters:\", best_params)\n",
        "print(\"MSE:\", mse)\n",
        "print(\"R-squared:\", r2)"
      ]
    }
  ],
  "metadata": {
    "colab": {
      "provenance": []
    },
    "kernelspec": {
      "display_name": "venv",
      "language": "python",
      "name": "python3"
    },
    "language_info": {
      "codemirror_mode": {
        "name": "ipython",
        "version": 3
      },
      "file_extension": ".py",
      "mimetype": "text/x-python",
      "name": "python",
      "nbconvert_exporter": "python",
      "pygments_lexer": "ipython3",
      "version": "3.10.12"
    }
  },
  "nbformat": 4,
  "nbformat_minor": 0
}
