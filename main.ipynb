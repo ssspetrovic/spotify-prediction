{
 "cells": [
  {
   "cell_type": "markdown",
   "metadata": {},
   "source": [
    "# Spotify Song Prediction"
   ]
  },
  {
   "cell_type": "markdown",
   "metadata": {},
   "source": [
    "### Handling Dependencies"
   ]
  },
  {
   "cell_type": "code",
   "execution_count": 1,
   "metadata": {},
   "outputs": [],
   "source": [
    "import numpy as np\n",
    "import pandas as pd\n",
    "import seaborn as sns\n",
    "import matplotlib.pyplot as plt\n",
    "from sklearn.model_selection import train_test_split\n",
    "from sklearn.preprocessing import StandardScaler, PolynomialFeatures\n",
    "from sklearn.linear_model import LinearRegression, Ridge, Lasso\n",
    "from sklearn.model_selection import GridSearchCV\n",
    "from sklearn.metrics import mean_squared_error, mean_absolute_error, r2_score\n",
    "from sklearn.decomposition import PCA\n",
    "from sklearn.svm import SVR\n",
    "from sklearn.tree import DecisionTreeRegressor\n",
    "from sklearn.model_selection import RandomizedSearchCV\n"
   ]
  },
  {
   "cell_type": "markdown",
   "metadata": {},
   "source": [
    "### Loading the dataset"
   ]
  },
  {
   "cell_type": "code",
   "execution_count": 2,
   "metadata": {},
   "outputs": [
    {
     "data": {
      "text/html": [
       "<div>\n",
       "<style scoped>\n",
       "    .dataframe tbody tr th:only-of-type {\n",
       "        vertical-align: middle;\n",
       "    }\n",
       "\n",
       "    .dataframe tbody tr th {\n",
       "        vertical-align: top;\n",
       "    }\n",
       "\n",
       "    .dataframe thead th {\n",
       "        text-align: right;\n",
       "    }\n",
       "</style>\n",
       "<table border=\"1\" class=\"dataframe\">\n",
       "  <thead>\n",
       "    <tr style=\"text-align: right;\">\n",
       "      <th></th>\n",
       "      <th>track_id</th>\n",
       "      <th>track_name</th>\n",
       "      <th>track_artist</th>\n",
       "      <th>track_popularity</th>\n",
       "      <th>track_album_id</th>\n",
       "      <th>track_album_name</th>\n",
       "      <th>track_album_release_date</th>\n",
       "      <th>playlist_name</th>\n",
       "      <th>playlist_id</th>\n",
       "      <th>playlist_genre</th>\n",
       "      <th>...</th>\n",
       "      <th>key</th>\n",
       "      <th>loudness</th>\n",
       "      <th>mode</th>\n",
       "      <th>speechiness</th>\n",
       "      <th>acousticness</th>\n",
       "      <th>instrumentalness</th>\n",
       "      <th>liveness</th>\n",
       "      <th>valence</th>\n",
       "      <th>tempo</th>\n",
       "      <th>duration_ms</th>\n",
       "    </tr>\n",
       "  </thead>\n",
       "  <tbody>\n",
       "    <tr>\n",
       "      <th>0</th>\n",
       "      <td>6f807x0ima9a1j3VPbc7VN</td>\n",
       "      <td>I Don't Care (with Justin Bieber) - Loud Luxur...</td>\n",
       "      <td>Ed Sheeran</td>\n",
       "      <td>66</td>\n",
       "      <td>2oCs0DGTsRO98Gh5ZSl2Cx</td>\n",
       "      <td>I Don't Care (with Justin Bieber) [Loud Luxury...</td>\n",
       "      <td>2019-06-14</td>\n",
       "      <td>Pop Remix</td>\n",
       "      <td>37i9dQZF1DXcZDD7cfEKhW</td>\n",
       "      <td>pop</td>\n",
       "      <td>...</td>\n",
       "      <td>6</td>\n",
       "      <td>-2.634</td>\n",
       "      <td>1</td>\n",
       "      <td>0.0583</td>\n",
       "      <td>0.1020</td>\n",
       "      <td>0.000000</td>\n",
       "      <td>0.0653</td>\n",
       "      <td>0.518</td>\n",
       "      <td>122.036</td>\n",
       "      <td>194754</td>\n",
       "    </tr>\n",
       "    <tr>\n",
       "      <th>1</th>\n",
       "      <td>0r7CVbZTWZgbTCYdfa2P31</td>\n",
       "      <td>Memories - Dillon Francis Remix</td>\n",
       "      <td>Maroon 5</td>\n",
       "      <td>67</td>\n",
       "      <td>63rPSO264uRjW1X5E6cWv6</td>\n",
       "      <td>Memories (Dillon Francis Remix)</td>\n",
       "      <td>2019-12-13</td>\n",
       "      <td>Pop Remix</td>\n",
       "      <td>37i9dQZF1DXcZDD7cfEKhW</td>\n",
       "      <td>pop</td>\n",
       "      <td>...</td>\n",
       "      <td>11</td>\n",
       "      <td>-4.969</td>\n",
       "      <td>1</td>\n",
       "      <td>0.0373</td>\n",
       "      <td>0.0724</td>\n",
       "      <td>0.004210</td>\n",
       "      <td>0.3570</td>\n",
       "      <td>0.693</td>\n",
       "      <td>99.972</td>\n",
       "      <td>162600</td>\n",
       "    </tr>\n",
       "    <tr>\n",
       "      <th>2</th>\n",
       "      <td>1z1Hg7Vb0AhHDiEmnDE79l</td>\n",
       "      <td>All the Time - Don Diablo Remix</td>\n",
       "      <td>Zara Larsson</td>\n",
       "      <td>70</td>\n",
       "      <td>1HoSmj2eLcsrR0vE9gThr4</td>\n",
       "      <td>All the Time (Don Diablo Remix)</td>\n",
       "      <td>2019-07-05</td>\n",
       "      <td>Pop Remix</td>\n",
       "      <td>37i9dQZF1DXcZDD7cfEKhW</td>\n",
       "      <td>pop</td>\n",
       "      <td>...</td>\n",
       "      <td>1</td>\n",
       "      <td>-3.432</td>\n",
       "      <td>0</td>\n",
       "      <td>0.0742</td>\n",
       "      <td>0.0794</td>\n",
       "      <td>0.000023</td>\n",
       "      <td>0.1100</td>\n",
       "      <td>0.613</td>\n",
       "      <td>124.008</td>\n",
       "      <td>176616</td>\n",
       "    </tr>\n",
       "    <tr>\n",
       "      <th>3</th>\n",
       "      <td>75FpbthrwQmzHlBJLuGdC7</td>\n",
       "      <td>Call You Mine - Keanu Silva Remix</td>\n",
       "      <td>The Chainsmokers</td>\n",
       "      <td>60</td>\n",
       "      <td>1nqYsOef1yKKuGOVchbsk6</td>\n",
       "      <td>Call You Mine - The Remixes</td>\n",
       "      <td>2019-07-19</td>\n",
       "      <td>Pop Remix</td>\n",
       "      <td>37i9dQZF1DXcZDD7cfEKhW</td>\n",
       "      <td>pop</td>\n",
       "      <td>...</td>\n",
       "      <td>7</td>\n",
       "      <td>-3.778</td>\n",
       "      <td>1</td>\n",
       "      <td>0.1020</td>\n",
       "      <td>0.0287</td>\n",
       "      <td>0.000009</td>\n",
       "      <td>0.2040</td>\n",
       "      <td>0.277</td>\n",
       "      <td>121.956</td>\n",
       "      <td>169093</td>\n",
       "    </tr>\n",
       "    <tr>\n",
       "      <th>4</th>\n",
       "      <td>1e8PAfcKUYoKkxPhrHqw4x</td>\n",
       "      <td>Someone You Loved - Future Humans Remix</td>\n",
       "      <td>Lewis Capaldi</td>\n",
       "      <td>69</td>\n",
       "      <td>7m7vv9wlQ4i0LFuJiE2zsQ</td>\n",
       "      <td>Someone You Loved (Future Humans Remix)</td>\n",
       "      <td>2019-03-05</td>\n",
       "      <td>Pop Remix</td>\n",
       "      <td>37i9dQZF1DXcZDD7cfEKhW</td>\n",
       "      <td>pop</td>\n",
       "      <td>...</td>\n",
       "      <td>1</td>\n",
       "      <td>-4.672</td>\n",
       "      <td>1</td>\n",
       "      <td>0.0359</td>\n",
       "      <td>0.0803</td>\n",
       "      <td>0.000000</td>\n",
       "      <td>0.0833</td>\n",
       "      <td>0.725</td>\n",
       "      <td>123.976</td>\n",
       "      <td>189052</td>\n",
       "    </tr>\n",
       "  </tbody>\n",
       "</table>\n",
       "<p>5 rows × 23 columns</p>\n",
       "</div>"
      ],
      "text/plain": [
       "                 track_id                                         track_name  \\\n",
       "0  6f807x0ima9a1j3VPbc7VN  I Don't Care (with Justin Bieber) - Loud Luxur...   \n",
       "1  0r7CVbZTWZgbTCYdfa2P31                    Memories - Dillon Francis Remix   \n",
       "2  1z1Hg7Vb0AhHDiEmnDE79l                    All the Time - Don Diablo Remix   \n",
       "3  75FpbthrwQmzHlBJLuGdC7                  Call You Mine - Keanu Silva Remix   \n",
       "4  1e8PAfcKUYoKkxPhrHqw4x            Someone You Loved - Future Humans Remix   \n",
       "\n",
       "       track_artist  track_popularity          track_album_id  \\\n",
       "0        Ed Sheeran                66  2oCs0DGTsRO98Gh5ZSl2Cx   \n",
       "1          Maroon 5                67  63rPSO264uRjW1X5E6cWv6   \n",
       "2      Zara Larsson                70  1HoSmj2eLcsrR0vE9gThr4   \n",
       "3  The Chainsmokers                60  1nqYsOef1yKKuGOVchbsk6   \n",
       "4     Lewis Capaldi                69  7m7vv9wlQ4i0LFuJiE2zsQ   \n",
       "\n",
       "                                    track_album_name track_album_release_date  \\\n",
       "0  I Don't Care (with Justin Bieber) [Loud Luxury...               2019-06-14   \n",
       "1                    Memories (Dillon Francis Remix)               2019-12-13   \n",
       "2                    All the Time (Don Diablo Remix)               2019-07-05   \n",
       "3                        Call You Mine - The Remixes               2019-07-19   \n",
       "4            Someone You Loved (Future Humans Remix)               2019-03-05   \n",
       "\n",
       "  playlist_name             playlist_id playlist_genre  ... key  loudness  \\\n",
       "0     Pop Remix  37i9dQZF1DXcZDD7cfEKhW            pop  ...   6    -2.634   \n",
       "1     Pop Remix  37i9dQZF1DXcZDD7cfEKhW            pop  ...  11    -4.969   \n",
       "2     Pop Remix  37i9dQZF1DXcZDD7cfEKhW            pop  ...   1    -3.432   \n",
       "3     Pop Remix  37i9dQZF1DXcZDD7cfEKhW            pop  ...   7    -3.778   \n",
       "4     Pop Remix  37i9dQZF1DXcZDD7cfEKhW            pop  ...   1    -4.672   \n",
       "\n",
       "   mode  speechiness  acousticness  instrumentalness  liveness  valence  \\\n",
       "0     1       0.0583        0.1020          0.000000    0.0653    0.518   \n",
       "1     1       0.0373        0.0724          0.004210    0.3570    0.693   \n",
       "2     0       0.0742        0.0794          0.000023    0.1100    0.613   \n",
       "3     1       0.1020        0.0287          0.000009    0.2040    0.277   \n",
       "4     1       0.0359        0.0803          0.000000    0.0833    0.725   \n",
       "\n",
       "     tempo  duration_ms  \n",
       "0  122.036       194754  \n",
       "1   99.972       162600  \n",
       "2  124.008       176616  \n",
       "3  121.956       169093  \n",
       "4  123.976       189052  \n",
       "\n",
       "[5 rows x 23 columns]"
      ]
     },
     "execution_count": 2,
     "metadata": {},
     "output_type": "execute_result"
    }
   ],
   "source": [
    "df = pd.read_csv('spotify_songs.csv')\n",
    "df.head()"
   ]
  },
  {
   "cell_type": "markdown",
   "metadata": {},
   "source": [
    "## Data Preprocessing"
   ]
  },
  {
   "cell_type": "code",
   "execution_count": 3,
   "metadata": {},
   "outputs": [],
   "source": [
    "# Defining the columns that are irrelevant for our case\n",
    "columns_to_drop = ['track_id', 'track_artist', 'track_name', 'track_album_id', 'track_album_name', 'playlist_name', 'playlist_id']\n",
    "df.drop(columns=columns_to_drop, inplace=True)\n",
    "df.dropna(axis=0, inplace=True)\n",
    "\n",
    "# Dropping the samples that are too short\n",
    "rows_to_drop = df.loc[df['duration_ms'] < 20000].index\n",
    "df.drop(rows_to_drop, inplace=True)\n",
    "\n",
    "new_df = df.copy()"
   ]
  },
  {
   "cell_type": "markdown",
   "metadata": {},
   "source": [
    "##### Dealing with the date feature"
   ]
  },
  {
   "cell_type": "code",
   "execution_count": null,
   "metadata": {},
   "outputs": [],
   "source": [
    "# Splitting the date to subsections\n",
    "new_df[['year', 'month', 'day']] = new_df['track_album_release_date'].str.split('-', expand=True)\n",
    "\n",
    "# Convert the columns to numeric (to handle missing values during median calculation)\n",
    "new_df['year'] = pd.to_numeric(new_df['year'], errors='coerce', downcast='integer')\n",
    "\n",
    "# Calculate median values for year, month, and day\n",
    "median_year = int(new_df['year'].median())\n",
    "\n",
    "# Fill missing values with median values\n",
    "new_df['year'] = new_df['year'].fillna(median_year).astype(int)\n",
    "\n",
    "X = new_df.drop(['track_popularity', 'track_album_release_date', 'month', 'day'], axis=1)\n",
    "\n",
    "X = pd.get_dummies(X, dtype=int)\n",
    "X['year'] = new_df['year']\n",
    "y = new_df['track_popularity']"
   ]
  },
  {
   "cell_type": "code",
   "execution_count": 4,
   "metadata": {},
   "outputs": [
    {
     "data": {
      "text/plain": [
       "Index(['danceability', 'energy', 'key', 'loudness', 'mode', 'speechiness',\n",
       "       'acousticness', 'instrumentalness', 'liveness', 'valence', 'tempo',\n",
       "       'duration_ms', 'year', 'playlist_genre_edm', 'playlist_genre_latin',\n",
       "       'playlist_genre_pop', 'playlist_genre_r&b', 'playlist_genre_rap',\n",
       "       'playlist_genre_rock', 'playlist_subgenre_album rock',\n",
       "       'playlist_subgenre_big room', 'playlist_subgenre_classic rock',\n",
       "       'playlist_subgenre_dance pop', 'playlist_subgenre_electro house',\n",
       "       'playlist_subgenre_electropop', 'playlist_subgenre_gangster rap',\n",
       "       'playlist_subgenre_hard rock', 'playlist_subgenre_hip hop',\n",
       "       'playlist_subgenre_hip pop', 'playlist_subgenre_indie poptimism',\n",
       "       'playlist_subgenre_latin hip hop', 'playlist_subgenre_latin pop',\n",
       "       'playlist_subgenre_neo soul', 'playlist_subgenre_new jack swing',\n",
       "       'playlist_subgenre_permanent wave', 'playlist_subgenre_pop edm',\n",
       "       'playlist_subgenre_post-teen pop',\n",
       "       'playlist_subgenre_progressive electro house',\n",
       "       'playlist_subgenre_reggaeton', 'playlist_subgenre_southern hip hop',\n",
       "       'playlist_subgenre_trap', 'playlist_subgenre_tropical',\n",
       "       'playlist_subgenre_urban contemporary'],\n",
       "      dtype='object')"
      ]
     },
     "execution_count": 4,
     "metadata": {},
     "output_type": "execute_result"
    }
   ],
   "source": [
    "# X.tail()\n",
    "X.columns"
   ]
  },
  {
   "cell_type": "code",
   "execution_count": 5,
   "metadata": {},
   "outputs": [
    {
     "data": {
      "text/plain": [
       "danceability                                        0.63000\n",
       "energy                                              0.52600\n",
       "key                                                 7.00000\n",
       "loudness                                           -9.12100\n",
       "mode                                                1.00000\n",
       "speechiness                                         0.03890\n",
       "acousticness                                        0.31600\n",
       "instrumentalness                                    0.00538\n",
       "liveness                                            0.07470\n",
       "valence                                             0.61000\n",
       "tempo                                             145.27100\n",
       "duration_ms                                    215333.00000\n",
       "year                                             1981.00000\n",
       "playlist_genre_edm                                  0.00000\n",
       "playlist_genre_latin                                0.00000\n",
       "playlist_genre_pop                                  1.00000\n",
       "playlist_genre_r&b                                  0.00000\n",
       "playlist_genre_rap                                  0.00000\n",
       "playlist_genre_rock                                 0.00000\n",
       "playlist_subgenre_album rock                        0.00000\n",
       "playlist_subgenre_big room                          0.00000\n",
       "playlist_subgenre_classic rock                      0.00000\n",
       "playlist_subgenre_dance pop                         0.00000\n",
       "playlist_subgenre_electro house                     0.00000\n",
       "playlist_subgenre_electropop                        1.00000\n",
       "playlist_subgenre_gangster rap                      0.00000\n",
       "playlist_subgenre_hard rock                         0.00000\n",
       "playlist_subgenre_hip hop                           0.00000\n",
       "playlist_subgenre_hip pop                           0.00000\n",
       "playlist_subgenre_indie poptimism                   0.00000\n",
       "playlist_subgenre_latin hip hop                     0.00000\n",
       "playlist_subgenre_latin pop                         0.00000\n",
       "playlist_subgenre_neo soul                          0.00000\n",
       "playlist_subgenre_new jack swing                    0.00000\n",
       "playlist_subgenre_permanent wave                    0.00000\n",
       "playlist_subgenre_pop edm                           0.00000\n",
       "playlist_subgenre_post-teen pop                     0.00000\n",
       "playlist_subgenre_progressive electro house         0.00000\n",
       "playlist_subgenre_reggaeton                         0.00000\n",
       "playlist_subgenre_southern hip hop                  0.00000\n",
       "playlist_subgenre_trap                              0.00000\n",
       "playlist_subgenre_tropical                          0.00000\n",
       "playlist_subgenre_urban contemporary                0.00000\n",
       "Name: 3446, dtype: float64"
      ]
     },
     "execution_count": 5,
     "metadata": {},
     "output_type": "execute_result"
    }
   ],
   "source": [
    "df.iloc[3446]\n",
    "X.iloc[3446]"
   ]
  },
  {
   "cell_type": "markdown",
   "metadata": {},
   "source": [
    "##### Splitting the dataset"
   ]
  },
  {
   "cell_type": "code",
   "execution_count": 6,
   "metadata": {},
   "outputs": [],
   "source": [
    "X_train, X_test, y_train, y_test = train_test_split(X, y, test_size=0.1, random_state=42)"
   ]
  },
  {
   "cell_type": "code",
   "execution_count": 7,
   "metadata": {},
   "outputs": [
    {
     "data": {
      "text/plain": [
       "(array([3985.,  861.,  742.,  759.,  872.,  872., 1028., 1211., 1549.,\n",
       "        1808., 1820., 1903., 1974., 1984., 2008., 1959., 1795., 1686.,\n",
       "        1355., 1149.,  648.,  422.,  248.,  123.,   71.]),\n",
       " array([  0.,   4.,   8.,  12.,  16.,  20.,  24.,  28.,  32.,  36.,  40.,\n",
       "         44.,  48.,  52.,  56.,  60.,  64.,  68.,  72.,  76.,  80.,  84.,\n",
       "         88.,  92.,  96., 100.]),\n",
       " <BarContainer object of 25 artists>)"
      ]
     },
     "execution_count": 7,
     "metadata": {},
     "output_type": "execute_result"
    },
    {
     "data": {
      "image/png": "[encoded data removed]",
      "text/plain": [
       "<Figure size 640x480 with 1 Axes>"
      ]
     },
     "metadata": {},
     "output_type": "display_data"
    }
   ],
   "source": [
    "plt.hist(y, bins=25)"
   ]
  },
  {
   "cell_type": "code",
   "execution_count": 8,
   "metadata": {},
   "outputs": [
    {
     "data": {
      "text/html": [
       "<div>\n",
       "<style scoped>\n",
       "    .dataframe tbody tr th:only-of-type {\n",
       "        vertical-align: middle;\n",
       "    }\n",
       "\n",
       "    .dataframe tbody tr th {\n",
       "        vertical-align: top;\n",
       "    }\n",
       "\n",
       "    .dataframe thead th {\n",
       "        text-align: right;\n",
       "    }\n",
       "</style>\n",
       "<table border=\"1\" class=\"dataframe\">\n",
       "  <thead>\n",
       "    <tr style=\"text-align: right;\">\n",
       "      <th></th>\n",
       "      <th>danceability</th>\n",
       "      <th>energy</th>\n",
       "      <th>key</th>\n",
       "      <th>loudness</th>\n",
       "      <th>mode</th>\n",
       "      <th>speechiness</th>\n",
       "      <th>acousticness</th>\n",
       "      <th>instrumentalness</th>\n",
       "      <th>liveness</th>\n",
       "      <th>valence</th>\n",
       "      <th>...</th>\n",
       "      <th>playlist_subgenre_new jack swing</th>\n",
       "      <th>playlist_subgenre_permanent wave</th>\n",
       "      <th>playlist_subgenre_pop edm</th>\n",
       "      <th>playlist_subgenre_post-teen pop</th>\n",
       "      <th>playlist_subgenre_progressive electro house</th>\n",
       "      <th>playlist_subgenre_reggaeton</th>\n",
       "      <th>playlist_subgenre_southern hip hop</th>\n",
       "      <th>playlist_subgenre_trap</th>\n",
       "      <th>playlist_subgenre_tropical</th>\n",
       "      <th>playlist_subgenre_urban contemporary</th>\n",
       "    </tr>\n",
       "  </thead>\n",
       "  <tbody>\n",
       "    <tr>\n",
       "      <th>count</th>\n",
       "      <td>32832.000000</td>\n",
       "      <td>32832.000000</td>\n",
       "      <td>32832.000000</td>\n",
       "      <td>32832.000000</td>\n",
       "      <td>32832.000000</td>\n",
       "      <td>32832.000000</td>\n",
       "      <td>32832.000000</td>\n",
       "      <td>32832.000000</td>\n",
       "      <td>32832.000000</td>\n",
       "      <td>32832.000000</td>\n",
       "      <td>...</td>\n",
       "      <td>32832.000000</td>\n",
       "      <td>32832.000000</td>\n",
       "      <td>32832.000000</td>\n",
       "      <td>32832.000000</td>\n",
       "      <td>32832.000000</td>\n",
       "      <td>32832.000000</td>\n",
       "      <td>32832.000000</td>\n",
       "      <td>32832.000000</td>\n",
       "      <td>32832.000000</td>\n",
       "      <td>32832.000000</td>\n",
       "    </tr>\n",
       "    <tr>\n",
       "      <th>mean</th>\n",
       "      <td>0.654869</td>\n",
       "      <td>0.698631</td>\n",
       "      <td>5.374604</td>\n",
       "      <td>-6.718909</td>\n",
       "      <td>0.565698</td>\n",
       "      <td>0.107071</td>\n",
       "      <td>0.175339</td>\n",
       "      <td>0.084750</td>\n",
       "      <td>0.190182</td>\n",
       "      <td>0.510577</td>\n",
       "      <td>...</td>\n",
       "      <td>0.034509</td>\n",
       "      <td>0.033656</td>\n",
       "      <td>0.046205</td>\n",
       "      <td>0.034387</td>\n",
       "      <td>0.055099</td>\n",
       "      <td>0.028905</td>\n",
       "      <td>0.051017</td>\n",
       "      <td>0.039321</td>\n",
       "      <td>0.039230</td>\n",
       "      <td>0.042794</td>\n",
       "    </tr>\n",
       "    <tr>\n",
       "      <th>std</th>\n",
       "      <td>0.145043</td>\n",
       "      <td>0.180900</td>\n",
       "      <td>3.611632</td>\n",
       "      <td>2.986570</td>\n",
       "      <td>0.495673</td>\n",
       "      <td>0.101314</td>\n",
       "      <td>0.219634</td>\n",
       "      <td>0.224233</td>\n",
       "      <td>0.154316</td>\n",
       "      <td>0.233132</td>\n",
       "      <td>...</td>\n",
       "      <td>0.182535</td>\n",
       "      <td>0.180345</td>\n",
       "      <td>0.209932</td>\n",
       "      <td>0.182224</td>\n",
       "      <td>0.228176</td>\n",
       "      <td>0.167541</td>\n",
       "      <td>0.220036</td>\n",
       "      <td>0.194361</td>\n",
       "      <td>0.194145</td>\n",
       "      <td>0.202395</td>\n",
       "    </tr>\n",
       "    <tr>\n",
       "      <th>min</th>\n",
       "      <td>0.077100</td>\n",
       "      <td>0.000175</td>\n",
       "      <td>0.000000</td>\n",
       "      <td>-46.448000</td>\n",
       "      <td>0.000000</td>\n",
       "      <td>0.022400</td>\n",
       "      <td>0.000001</td>\n",
       "      <td>0.000000</td>\n",
       "      <td>0.009360</td>\n",
       "      <td>0.000010</td>\n",
       "      <td>...</td>\n",
       "      <td>0.000000</td>\n",
       "      <td>0.000000</td>\n",
       "      <td>0.000000</td>\n",
       "      <td>0.000000</td>\n",
       "      <td>0.000000</td>\n",
       "      <td>0.000000</td>\n",
       "      <td>0.000000</td>\n",
       "      <td>0.000000</td>\n",
       "      <td>0.000000</td>\n",
       "      <td>0.000000</td>\n",
       "    </tr>\n",
       "    <tr>\n",
       "      <th>25%</th>\n",
       "      <td>0.563000</td>\n",
       "      <td>0.581000</td>\n",
       "      <td>2.000000</td>\n",
       "      <td>-8.171000</td>\n",
       "      <td>0.000000</td>\n",
       "      <td>0.041000</td>\n",
       "      <td>0.015100</td>\n",
       "      <td>0.000000</td>\n",
       "      <td>0.092700</td>\n",
       "      <td>0.331000</td>\n",
       "      <td>...</td>\n",
       "      <td>0.000000</td>\n",
       "      <td>0.000000</td>\n",
       "      <td>0.000000</td>\n",
       "      <td>0.000000</td>\n",
       "      <td>0.000000</td>\n",
       "      <td>0.000000</td>\n",
       "      <td>0.000000</td>\n",
       "      <td>0.000000</td>\n",
       "      <td>0.000000</td>\n",
       "      <td>0.000000</td>\n",
       "    </tr>\n",
       "    <tr>\n",
       "      <th>50%</th>\n",
       "      <td>0.672000</td>\n",
       "      <td>0.721000</td>\n",
       "      <td>6.000000</td>\n",
       "      <td>-6.166000</td>\n",
       "      <td>1.000000</td>\n",
       "      <td>0.062500</td>\n",
       "      <td>0.080400</td>\n",
       "      <td>0.000016</td>\n",
       "      <td>0.127000</td>\n",
       "      <td>0.512000</td>\n",
       "      <td>...</td>\n",
       "      <td>0.000000</td>\n",
       "      <td>0.000000</td>\n",
       "      <td>0.000000</td>\n",
       "      <td>0.000000</td>\n",
       "      <td>0.000000</td>\n",
       "      <td>0.000000</td>\n",
       "      <td>0.000000</td>\n",
       "      <td>0.000000</td>\n",
       "      <td>0.000000</td>\n",
       "      <td>0.000000</td>\n",
       "    </tr>\n",
       "    <tr>\n",
       "      <th>75%</th>\n",
       "      <td>0.761000</td>\n",
       "      <td>0.840000</td>\n",
       "      <td>9.000000</td>\n",
       "      <td>-4.645000</td>\n",
       "      <td>1.000000</td>\n",
       "      <td>0.132000</td>\n",
       "      <td>0.255000</td>\n",
       "      <td>0.004830</td>\n",
       "      <td>0.248000</td>\n",
       "      <td>0.693000</td>\n",
       "      <td>...</td>\n",
       "      <td>0.000000</td>\n",
       "      <td>0.000000</td>\n",
       "      <td>0.000000</td>\n",
       "      <td>0.000000</td>\n",
       "      <td>0.000000</td>\n",
       "      <td>0.000000</td>\n",
       "      <td>0.000000</td>\n",
       "      <td>0.000000</td>\n",
       "      <td>0.000000</td>\n",
       "      <td>0.000000</td>\n",
       "    </tr>\n",
       "    <tr>\n",
       "      <th>max</th>\n",
       "      <td>0.983000</td>\n",
       "      <td>1.000000</td>\n",
       "      <td>11.000000</td>\n",
       "      <td>1.275000</td>\n",
       "      <td>1.000000</td>\n",
       "      <td>0.918000</td>\n",
       "      <td>0.994000</td>\n",
       "      <td>0.994000</td>\n",
       "      <td>0.996000</td>\n",
       "      <td>0.991000</td>\n",
       "      <td>...</td>\n",
       "      <td>1.000000</td>\n",
       "      <td>1.000000</td>\n",
       "      <td>1.000000</td>\n",
       "      <td>1.000000</td>\n",
       "      <td>1.000000</td>\n",
       "      <td>1.000000</td>\n",
       "      <td>1.000000</td>\n",
       "      <td>1.000000</td>\n",
       "      <td>1.000000</td>\n",
       "      <td>1.000000</td>\n",
       "    </tr>\n",
       "  </tbody>\n",
       "</table>\n",
       "<p>8 rows × 43 columns</p>\n",
       "</div>"
      ],
      "text/plain": [
       "       danceability        energy           key      loudness          mode  \\\n",
       "count  32832.000000  32832.000000  32832.000000  32832.000000  32832.000000   \n",
       "mean       0.654869      0.698631      5.374604     -6.718909      0.565698   \n",
       "std        0.145043      0.180900      3.611632      2.986570      0.495673   \n",
       "min        0.077100      0.000175      0.000000    -46.448000      0.000000   \n",
       "25%        0.563000      0.581000      2.000000     -8.171000      0.000000   \n",
       "50%        0.672000      0.721000      6.000000     -6.166000      1.000000   \n",
       "75%        0.761000      0.840000      9.000000     -4.645000      1.000000   \n",
       "max        0.983000      1.000000     11.000000      1.275000      1.000000   \n",
       "\n",
       "        speechiness  acousticness  instrumentalness      liveness  \\\n",
       "count  32832.000000  32832.000000      32832.000000  32832.000000   \n",
       "mean       0.107071      0.175339          0.084750      0.190182   \n",
       "std        0.101314      0.219634          0.224233      0.154316   \n",
       "min        0.022400      0.000001          0.000000      0.009360   \n",
       "25%        0.041000      0.015100          0.000000      0.092700   \n",
       "50%        0.062500      0.080400          0.000016      0.127000   \n",
       "75%        0.132000      0.255000          0.004830      0.248000   \n",
       "max        0.918000      0.994000          0.994000      0.996000   \n",
       "\n",
       "            valence  ...  playlist_subgenre_new jack swing  \\\n",
       "count  32832.000000  ...                      32832.000000   \n",
       "mean       0.510577  ...                          0.034509   \n",
       "std        0.233132  ...                          0.182535   \n",
       "min        0.000010  ...                          0.000000   \n",
       "25%        0.331000  ...                          0.000000   \n",
       "50%        0.512000  ...                          0.000000   \n",
       "75%        0.693000  ...                          0.000000   \n",
       "max        0.991000  ...                          1.000000   \n",
       "\n",
       "       playlist_subgenre_permanent wave  playlist_subgenre_pop edm  \\\n",
       "count                      32832.000000               32832.000000   \n",
       "mean                           0.033656                   0.046205   \n",
       "std                            0.180345                   0.209932   \n",
       "min                            0.000000                   0.000000   \n",
       "25%                            0.000000                   0.000000   \n",
       "50%                            0.000000                   0.000000   \n",
       "75%                            0.000000                   0.000000   \n",
       "max                            1.000000                   1.000000   \n",
       "\n",
       "       playlist_subgenre_post-teen pop  \\\n",
       "count                     32832.000000   \n",
       "mean                          0.034387   \n",
       "std                           0.182224   \n",
       "min                           0.000000   \n",
       "25%                           0.000000   \n",
       "50%                           0.000000   \n",
       "75%                           0.000000   \n",
       "max                           1.000000   \n",
       "\n",
       "       playlist_subgenre_progressive electro house  \\\n",
       "count                                 32832.000000   \n",
       "mean                                      0.055099   \n",
       "std                                       0.228176   \n",
       "min                                       0.000000   \n",
       "25%                                       0.000000   \n",
       "50%                                       0.000000   \n",
       "75%                                       0.000000   \n",
       "max                                       1.000000   \n",
       "\n",
       "       playlist_subgenre_reggaeton  playlist_subgenre_southern hip hop  \\\n",
       "count                 32832.000000                        32832.000000   \n",
       "mean                      0.028905                            0.051017   \n",
       "std                       0.167541                            0.220036   \n",
       "min                       0.000000                            0.000000   \n",
       "25%                       0.000000                            0.000000   \n",
       "50%                       0.000000                            0.000000   \n",
       "75%                       0.000000                            0.000000   \n",
       "max                       1.000000                            1.000000   \n",
       "\n",
       "       playlist_subgenre_trap  playlist_subgenre_tropical  \\\n",
       "count            32832.000000                32832.000000   \n",
       "mean                 0.039321                    0.039230   \n",
       "std                  0.194361                    0.194145   \n",
       "min                  0.000000                    0.000000   \n",
       "25%                  0.000000                    0.000000   \n",
       "50%                  0.000000                    0.000000   \n",
       "75%                  0.000000                    0.000000   \n",
       "max                  1.000000                    1.000000   \n",
       "\n",
       "       playlist_subgenre_urban contemporary  \n",
       "count                          32832.000000  \n",
       "mean                               0.042794  \n",
       "std                                0.202395  \n",
       "min                                0.000000  \n",
       "25%                                0.000000  \n",
       "50%                                0.000000  \n",
       "75%                                0.000000  \n",
       "max                                1.000000  \n",
       "\n",
       "[8 rows x 43 columns]"
      ]
     },
     "execution_count": 8,
     "metadata": {},
     "output_type": "execute_result"
    }
   ],
   "source": [
    "X.describe()"
   ]
  },
  {
   "cell_type": "markdown",
   "metadata": {},
   "source": [
    "##### Defining the numeric and dummy feats"
   ]
  },
  {
   "cell_type": "code",
   "execution_count": 9,
   "metadata": {},
   "outputs": [
    {
     "name": "stdout",
     "output_type": "stream",
     "text": [
      "Index(['danceability', 'energy', 'key', 'loudness', 'mode', 'speechiness',\n",
      "       'acousticness', 'instrumentalness', 'liveness', 'valence', 'tempo',\n",
      "       'duration_ms', 'year', 'playlist_genre_edm', 'playlist_genre_latin',\n",
      "       'playlist_genre_pop', 'playlist_genre_r&b', 'playlist_genre_rap',\n",
      "       'playlist_genre_rock', 'playlist_subgenre_album rock',\n",
      "       'playlist_subgenre_big room', 'playlist_subgenre_classic rock',\n",
      "       'playlist_subgenre_dance pop', 'playlist_subgenre_electro house',\n",
      "       'playlist_subgenre_electropop', 'playlist_subgenre_gangster rap',\n",
      "       'playlist_subgenre_hard rock', 'playlist_subgenre_hip hop',\n",
      "       'playlist_subgenre_hip pop', 'playlist_subgenre_indie poptimism',\n",
      "       'playlist_subgenre_latin hip hop', 'playlist_subgenre_latin pop',\n",
      "       'playlist_subgenre_neo soul', 'playlist_subgenre_new jack swing',\n",
      "       'playlist_subgenre_permanent wave', 'playlist_subgenre_pop edm',\n",
      "       'playlist_subgenre_post-teen pop',\n",
      "       'playlist_subgenre_progressive electro house',\n",
      "       'playlist_subgenre_reggaeton', 'playlist_subgenre_southern hip hop',\n",
      "       'playlist_subgenre_trap', 'playlist_subgenre_tropical',\n",
      "       'playlist_subgenre_urban contemporary'],\n",
      "      dtype='object')\n",
      "       danceability  energy  loudness  speechiness  acousticness  \\\n",
      "0             0.748   0.916    -2.634       0.0583      0.102000   \n",
      "1             0.726   0.815    -4.969       0.0373      0.072400   \n",
      "2             0.675   0.931    -3.432       0.0742      0.079400   \n",
      "3             0.718   0.930    -3.778       0.1020      0.028700   \n",
      "4             0.650   0.833    -4.672       0.0359      0.080300   \n",
      "...             ...     ...       ...          ...           ...   \n",
      "32828         0.428   0.922    -1.814       0.0936      0.076600   \n",
      "32829         0.522   0.786    -4.462       0.0420      0.001710   \n",
      "32830         0.529   0.821    -4.899       0.0481      0.108000   \n",
      "32831         0.626   0.888    -3.361       0.1090      0.007920   \n",
      "32832         0.603   0.884    -4.571       0.0385      0.000133   \n",
      "\n",
      "       instrumentalness  liveness  valence    tempo  duration_ms  \n",
      "0              0.000000    0.0653   0.5180  122.036       194754  \n",
      "1              0.004210    0.3570   0.6930   99.972       162600  \n",
      "2              0.000023    0.1100   0.6130  124.008       176616  \n",
      "3              0.000009    0.2040   0.2770  121.956       169093  \n",
      "4              0.000000    0.0833   0.7250  123.976       189052  \n",
      "...                 ...       ...      ...      ...          ...  \n",
      "32828          0.000000    0.0668   0.2100  128.170       204375  \n",
      "32829          0.004270    0.3750   0.4000  128.041       353120  \n",
      "32830          0.000001    0.1500   0.4360  127.989       210112  \n",
      "32831          0.127000    0.3430   0.3080  128.008       367432  \n",
      "32832          0.341000    0.7420   0.0894  127.984       337500  \n",
      "\n",
      "[32832 rows x 10 columns]\n"
     ]
    }
   ],
   "source": [
    "print(X.columns)\n",
    "\n",
    "numeric_feats = ['danceability', 'energy', 'loudness', 'speechiness', 'acousticness', 'instrumentalness', 'liveness', 'valence', 'tempo', 'duration_ms']\n",
    "dummy_feats = [feat for feat in X.columns if feat not in numeric_feats]\n",
    "\n",
    "print(X[numeric_feats])"
   ]
  },
  {
   "cell_type": "markdown",
   "metadata": {},
   "source": [
    "##### Correlation matrix"
   ]
  },
  {
   "cell_type": "code",
   "execution_count": 10,
   "metadata": {},
   "outputs": [
    {
     "data": {
      "text/plain": [
       "<Axes: >"
      ]
     },
     "execution_count": 10,
     "metadata": {},
     "output_type": "execute_result"
    },
    {
     "data": {
      "image/png": "[encoded data removed]",
      "text/plain": [
       "<Figure size 1000x800 with 2 Axes>"
      ]
     },
     "metadata": {},
     "output_type": "display_data"
    }
   ],
   "source": [
    "# Extracting the numeric values\n",
    "numeric_values = df[numeric_feats]\n",
    "\n",
    "# Plotting the matrix\n",
    "correlation_matrix = numeric_values.corr()\n",
    "plt.figure(figsize=(10,8))\n",
    "sns.heatmap(correlation_matrix, annot=True, cmap='coolwarm', fmt=\".2f\", linewidths=0.5)"
   ]
  },
  {
   "cell_type": "markdown",
   "metadata": {},
   "source": [
    "##### Model evaluation"
   ]
  },
  {
   "cell_type": "code",
   "execution_count": 11,
   "metadata": {},
   "outputs": [],
   "source": [
    "def model_evaluation(y_test, y_predicted, N, d):\n",
    "    mse = mean_squared_error(y_test, y_predicted)\n",
    "    mae = mean_absolute_error(y_test, y_predicted)\n",
    "    rmse = np.sqrt(mse)\n",
    "    r2 = r2_score(y_test, y_predicted)\n",
    "    r2_adj = 1 - ((1 - r2) * (N - 1)) / (N - d - 1)\n",
    "\n",
    "    # printing values\n",
    "    print('Mean squared error: ', mse)\n",
    "    print('Mean absolute error: ', mae)\n",
    "    print('Root mean squared error: ', rmse)\n",
    "    print('R2 score: ', r2)\n",
    "    print('R2 adjusted score: ', r2_adj)\n",
    "\n",
    "    res = pd.concat([pd.DataFrame(y_test.values),\n",
    "                    pd.DataFrame(y_predicted)], axis=1)\n",
    "    res.columns = ['y', 'y_pred']\n",
    "    print(res.head(20))\n",
    "    return mse, mae, rmse, r2, r2_adj"
   ]
  },
  {
   "cell_type": "markdown",
   "metadata": {},
   "source": [
    "##### Scaling the data"
   ]
  },
  {
   "cell_type": "code",
   "execution_count": 12,
   "metadata": {},
   "outputs": [
    {
     "data": {
      "text/html": [
       "<div>\n",
       "<style scoped>\n",
       "    .dataframe tbody tr th:only-of-type {\n",
       "        vertical-align: middle;\n",
       "    }\n",
       "\n",
       "    .dataframe tbody tr th {\n",
       "        vertical-align: top;\n",
       "    }\n",
       "\n",
       "    .dataframe thead th {\n",
       "        text-align: right;\n",
       "    }\n",
       "</style>\n",
       "<table border=\"1\" class=\"dataframe\">\n",
       "  <thead>\n",
       "    <tr style=\"text-align: right;\">\n",
       "      <th></th>\n",
       "      <th>danceability</th>\n",
       "      <th>energy</th>\n",
       "      <th>key</th>\n",
       "      <th>loudness</th>\n",
       "      <th>mode</th>\n",
       "      <th>speechiness</th>\n",
       "      <th>acousticness</th>\n",
       "      <th>instrumentalness</th>\n",
       "      <th>liveness</th>\n",
       "      <th>valence</th>\n",
       "      <th>...</th>\n",
       "      <th>playlist_subgenre_new jack swing</th>\n",
       "      <th>playlist_subgenre_permanent wave</th>\n",
       "      <th>playlist_subgenre_pop edm</th>\n",
       "      <th>playlist_subgenre_post-teen pop</th>\n",
       "      <th>playlist_subgenre_progressive electro house</th>\n",
       "      <th>playlist_subgenre_reggaeton</th>\n",
       "      <th>playlist_subgenre_southern hip hop</th>\n",
       "      <th>playlist_subgenre_trap</th>\n",
       "      <th>playlist_subgenre_tropical</th>\n",
       "      <th>playlist_subgenre_urban contemporary</th>\n",
       "    </tr>\n",
       "  </thead>\n",
       "  <tbody>\n",
       "    <tr>\n",
       "      <th>0</th>\n",
       "      <td>0.622867</td>\n",
       "      <td>-2.212089</td>\n",
       "      <td>-0.307576</td>\n",
       "      <td>-0.709015</td>\n",
       "      <td>2.267368</td>\n",
       "      <td>-0.377976</td>\n",
       "      <td>0.650536</td>\n",
       "      <td>-0.878447</td>\n",
       "      <td>-0.964504</td>\n",
       "      <td>-0.112134</td>\n",
       "      <td>...</td>\n",
       "      <td>0</td>\n",
       "      <td>0</td>\n",
       "      <td>0</td>\n",
       "      <td>0</td>\n",
       "      <td>0</td>\n",
       "      <td>0</td>\n",
       "      <td>0</td>\n",
       "      <td>0</td>\n",
       "      <td>0</td>\n",
       "      <td>0</td>\n",
       "    </tr>\n",
       "    <tr>\n",
       "      <th>1</th>\n",
       "      <td>-2.670088</td>\n",
       "      <td>1.406350</td>\n",
       "      <td>0.609448</td>\n",
       "      <td>-0.110755</td>\n",
       "      <td>-0.786554</td>\n",
       "      <td>-0.377986</td>\n",
       "      <td>0.598812</td>\n",
       "      <td>0.245905</td>\n",
       "      <td>-1.334977</td>\n",
       "      <td>0.696852</td>\n",
       "      <td>...</td>\n",
       "      <td>0</td>\n",
       "      <td>0</td>\n",
       "      <td>0</td>\n",
       "      <td>0</td>\n",
       "      <td>0</td>\n",
       "      <td>0</td>\n",
       "      <td>0</td>\n",
       "      <td>0</td>\n",
       "      <td>0</td>\n",
       "      <td>0</td>\n",
       "    </tr>\n",
       "    <tr>\n",
       "      <th>2</th>\n",
       "      <td>-1.168280</td>\n",
       "      <td>-1.033607</td>\n",
       "      <td>-0.116544</td>\n",
       "      <td>-0.722836</td>\n",
       "      <td>-0.758601</td>\n",
       "      <td>-0.377986</td>\n",
       "      <td>-0.564964</td>\n",
       "      <td>-0.775453</td>\n",
       "      <td>0.931639</td>\n",
       "      <td>-0.146528</td>\n",
       "      <td>...</td>\n",
       "      <td>0</td>\n",
       "      <td>1</td>\n",
       "      <td>0</td>\n",
       "      <td>0</td>\n",
       "      <td>0</td>\n",
       "      <td>0</td>\n",
       "      <td>0</td>\n",
       "      <td>0</td>\n",
       "      <td>0</td>\n",
       "      <td>0</td>\n",
       "    </tr>\n",
       "    <tr>\n",
       "      <th>3</th>\n",
       "      <td>-1.154502</td>\n",
       "      <td>-1.481762</td>\n",
       "      <td>-1.237313</td>\n",
       "      <td>-0.816622</td>\n",
       "      <td>-0.432978</td>\n",
       "      <td>-0.350407</td>\n",
       "      <td>0.049251</td>\n",
       "      <td>-1.238926</td>\n",
       "      <td>-1.190485</td>\n",
       "      <td>-0.252741</td>\n",
       "      <td>...</td>\n",
       "      <td>0</td>\n",
       "      <td>0</td>\n",
       "      <td>0</td>\n",
       "      <td>0</td>\n",
       "      <td>0</td>\n",
       "      <td>0</td>\n",
       "      <td>0</td>\n",
       "      <td>0</td>\n",
       "      <td>0</td>\n",
       "      <td>0</td>\n",
       "    </tr>\n",
       "    <tr>\n",
       "      <th>4</th>\n",
       "      <td>-1.120057</td>\n",
       "      <td>0.875203</td>\n",
       "      <td>1.367222</td>\n",
       "      <td>-0.411859</td>\n",
       "      <td>-0.413888</td>\n",
       "      <td>-0.377952</td>\n",
       "      <td>0.993203</td>\n",
       "      <td>-0.505093</td>\n",
       "      <td>0.338086</td>\n",
       "      <td>-0.053085</td>\n",
       "      <td>...</td>\n",
       "      <td>0</td>\n",
       "      <td>0</td>\n",
       "      <td>1</td>\n",
       "      <td>0</td>\n",
       "      <td>0</td>\n",
       "      <td>0</td>\n",
       "      <td>0</td>\n",
       "      <td>0</td>\n",
       "      <td>0</td>\n",
       "      <td>0</td>\n",
       "    </tr>\n",
       "  </tbody>\n",
       "</table>\n",
       "<p>5 rows × 43 columns</p>\n",
       "</div>"
      ],
      "text/plain": [
       "   danceability    energy       key  loudness      mode  speechiness  \\\n",
       "0      0.622867 -2.212089 -0.307576 -0.709015  2.267368    -0.377976   \n",
       "1     -2.670088  1.406350  0.609448 -0.110755 -0.786554    -0.377986   \n",
       "2     -1.168280 -1.033607 -0.116544 -0.722836 -0.758601    -0.377986   \n",
       "3     -1.154502 -1.481762 -1.237313 -0.816622 -0.432978    -0.350407   \n",
       "4     -1.120057  0.875203  1.367222 -0.411859 -0.413888    -0.377952   \n",
       "\n",
       "   acousticness  instrumentalness  liveness   valence  ...  \\\n",
       "0      0.650536         -0.878447 -0.964504 -0.112134  ...   \n",
       "1      0.598812          0.245905 -1.334977  0.696852  ...   \n",
       "2     -0.564964         -0.775453  0.931639 -0.146528  ...   \n",
       "3      0.049251         -1.238926 -1.190485 -0.252741  ...   \n",
       "4      0.993203         -0.505093  0.338086 -0.053085  ...   \n",
       "\n",
       "   playlist_subgenre_new jack swing  playlist_subgenre_permanent wave  \\\n",
       "0                                 0                                 0   \n",
       "1                                 0                                 0   \n",
       "2                                 0                                 1   \n",
       "3                                 0                                 0   \n",
       "4                                 0                                 0   \n",
       "\n",
       "   playlist_subgenre_pop edm  playlist_subgenre_post-teen pop  \\\n",
       "0                          0                                0   \n",
       "1                          0                                0   \n",
       "2                          0                                0   \n",
       "3                          0                                0   \n",
       "4                          1                                0   \n",
       "\n",
       "   playlist_subgenre_progressive electro house  playlist_subgenre_reggaeton  \\\n",
       "0                                            0                            0   \n",
       "1                                            0                            0   \n",
       "2                                            0                            0   \n",
       "3                                            0                            0   \n",
       "4                                            0                            0   \n",
       "\n",
       "   playlist_subgenre_southern hip hop  playlist_subgenre_trap  \\\n",
       "0                                   0                       0   \n",
       "1                                   0                       0   \n",
       "2                                   0                       0   \n",
       "3                                   0                       0   \n",
       "4                                   0                       0   \n",
       "\n",
       "   playlist_subgenre_tropical  playlist_subgenre_urban contemporary  \n",
       "0                           0                                     0  \n",
       "1                           0                                     0  \n",
       "2                           0                                     0  \n",
       "3                           0                                     0  \n",
       "4                           0                                     0  \n",
       "\n",
       "[5 rows x 43 columns]"
      ]
     },
     "execution_count": 12,
     "metadata": {},
     "output_type": "execute_result"
    }
   ],
   "source": [
    "s = StandardScaler()\n",
    "s.fit(X_train[numeric_feats])\n",
    "X_train_std = s.transform(X_train[numeric_feats])\n",
    "X_test_std = s.transform(X_test[numeric_feats])\n",
    "X_train_std = pd.DataFrame(X_train_std)\n",
    "X_test_std = pd.DataFrame(X_test_std)\n",
    "\n",
    "X_train_std = pd.concat([X_train_std, X_train[dummy_feats].reset_index(drop=True)], axis=1)\n",
    "X_test_std = pd.concat([X_test_std, X_test[dummy_feats].reset_index(drop=True)], axis=1)\n",
    "\n",
    "X_train_std.columns = list(X.columns)\n",
    "X_test_std.columns = list(X.columns)\n",
    "X_train_std.head()"
   ]
  },
  {
   "cell_type": "markdown",
   "metadata": {},
   "source": [
    "## Pre-PCA"
   ]
  },
  {
   "cell_type": "markdown",
   "metadata": {},
   "source": [
    "### Linear Regression"
   ]
  },
  {
   "cell_type": "markdown",
   "metadata": {},
   "source": [
    "##### Base LR"
   ]
  },
  {
   "cell_type": "code",
   "execution_count": 71,
   "metadata": {},
   "outputs": [
    {
     "name": "stdout",
     "output_type": "stream",
     "text": [
      "Best Parameters: {'fit_intercept': False}\n",
      "Best Score (MSE): 528.8904495687236\n"
     ]
    }
   ],
   "source": [
    "# Define the hyperparameters grid\n",
    "param_grid = {\n",
    "    'fit_intercept': [True, False],\n",
    "}\n",
    "\n",
    "# Instantiate the linear regression model\n",
    "lr = LinearRegression()\n",
    "\n",
    "# Instantiate GridSearchCV\n",
    "grid_search = GridSearchCV(estimator=lr, param_grid=param_grid, cv=5, scoring='neg_mean_squared_error')\n",
    "\n",
    "# Fit the grid search to the data\n",
    "grid_search.fit(X_train_std, y_train)\n",
    "\n",
    "# Get the best parameters and best score\n",
    "best_params = grid_search.best_params_\n",
    "best_score = grid_search.best_score_\n",
    "\n",
    "print(\"Best Parameters:\", best_params)\n",
    "print(\"Best Score (MSE):\", -best_score)\n",
    "\n",
    "best_lr_b = grid_search.best_estimator_"
   ]
  },
  {
   "cell_type": "markdown",
   "metadata": {},
   "source": [
    "#### Base Lasso"
   ]
  },
  {
   "cell_type": "code",
   "execution_count": 72,
   "metadata": {},
   "outputs": [
    {
     "name": "stdout",
     "output_type": "stream",
     "text": [
      "Best Parameters for Lasso: {'alpha': 0.1, 'fit_intercept': True}\n",
      "Best Score (MSE) for Lasso: 533.9165342446629\n"
     ]
    }
   ],
   "source": [
    "# Define the hyperparameters grid\n",
    "param_grid = {\n",
    "    'alpha': [0.1, 1.0, 5.0, 10.0],  # regularization strength\n",
    "    'fit_intercept': [True, False]\n",
    "}\n",
    "\n",
    "# Instantiate the Lasso regression model\n",
    "lasso = Lasso()\n",
    "\n",
    "# Instantiate GridSearchCV\n",
    "grid_search_lasso = GridSearchCV(estimator=lasso, param_grid=param_grid, cv=5, scoring='neg_mean_squared_error')\n",
    "\n",
    "# Fit the grid search to the data\n",
    "grid_search_lasso.fit(X_train_std, y_train)\n",
    "\n",
    "# Get the best parameters and best score\n",
    "best_params_lasso = grid_search_lasso.best_params_\n",
    "best_score_lasso = grid_search_lasso.best_score_\n",
    "\n",
    "print(\"Best Parameters for Lasso:\", best_params_lasso)\n",
    "print(\"Best Score (MSE) for Lasso:\", -best_score_lasso)\n",
    "\n",
    "best_lasso_b = grid_search_lasso.best_estimator_"
   ]
  },
  {
   "cell_type": "markdown",
   "metadata": {},
   "source": [
    "#### Base Ridge"
   ]
  },
  {
   "cell_type": "code",
   "execution_count": 75,
   "metadata": {},
   "outputs": [
    {
     "name": "stdout",
     "output_type": "stream",
     "text": [
      "Best Parameters for Ridge: {'alpha': 10.0, 'fit_intercept': True}\n",
      "Best Score (MSE) for Ridge: 528.8860811497022\n"
     ]
    }
   ],
   "source": [
    "# Define the hyperparameters grid\n",
    "param_grid = {\n",
    "    'alpha': [0.1, 1.0, 5.0, 10.0],  # regularization strength\n",
    "    'fit_intercept': [True, False]\n",
    "}\n",
    "\n",
    "# Instantiate the Ridge regression model\n",
    "ridge = Ridge()\n",
    "\n",
    "# Instantiate GridSearchCV\n",
    "grid_search_ridge = GridSearchCV(estimator=ridge, param_grid=param_grid, cv=5, scoring='neg_mean_squared_error')\n",
    "\n",
    "# Fit the grid search to the data\n",
    "grid_search_ridge.fit(X_train_std, y_train)\n",
    "\n",
    "# Get the best parameters and best score\n",
    "best_params_ridge = grid_search_ridge.best_params_\n",
    "best_score_ridge = grid_search_ridge.best_score_\n",
    "\n",
    "print(\"Best Parameters for Ridge:\", best_params_ridge)\n",
    "print(\"Best Score (MSE) for Ridge:\", -best_score_ridge)\n",
    "\n",
    "best_ridge_b = grid_search_ridge.best_estimator_"
   ]
  },
  {
   "cell_type": "markdown",
   "metadata": {},
   "source": [
    "### Poly hypothesis"
   ]
  },
  {
   "cell_type": "code",
   "execution_count": 53,
   "metadata": {},
   "outputs": [],
   "source": [
    "poly = PolynomialFeatures(interaction_only=False, degree=2, include_bias=True)\n",
    "X_inter_train = poly.fit_transform(X_train_std)\n",
    "X_inter_test = poly.transform(X_test_std)\n",
    "out_feat_names = PolynomialFeatures.get_feature_names_out(\n",
    "    poly, input_features=None)"
   ]
  },
  {
   "cell_type": "markdown",
   "metadata": {},
   "source": [
    "#### LR Poly"
   ]
  },
  {
   "cell_type": "code",
   "execution_count": 74,
   "metadata": {},
   "outputs": [
    {
     "name": "stdout",
     "output_type": "stream",
     "text": [
      "Best Parameters: {'fit_intercept': False}\n",
      "Best Score (MSE): 496.5013231365162\n"
     ]
    }
   ],
   "source": [
    "# Define the hyperparameters grid\n",
    "param_grid = {\n",
    "    'fit_intercept': [True, False],\n",
    "}\n",
    "\n",
    "# Instantiate the linear regression model\n",
    "lr = LinearRegression()\n",
    "\n",
    "# Instantiate GridSearchCV\n",
    "grid_search = GridSearchCV(estimator=lr, param_grid=param_grid, cv=5, scoring='neg_mean_squared_error')\n",
    "\n",
    "# Fit the grid search to the data\n",
    "grid_search.fit(X_inter_train, y_train)\n",
    "\n",
    "# Get the best parameters and best score\n",
    "best_params = grid_search.best_params_\n",
    "best_score = grid_search.best_score_\n",
    "\n",
    "print(\"Best Parameters:\", best_params)\n",
    "print(\"Best Score (MSE):\", -best_score)\n",
    "\n",
    "best_lr_p = grid_search.best_estimator_"
   ]
  },
  {
   "cell_type": "markdown",
   "metadata": {},
   "source": [
    "##### Lasso Poly"
   ]
  },
  {
   "cell_type": "code",
   "execution_count": 76,
   "metadata": {},
   "outputs": [
    {
     "name": "stderr",
     "output_type": "stream",
     "text": [
      "/home/srdjan/dev/python/spotify-prediction/venv/lib/python3.12/site-packages/sklearn/linear_model/_coordinate_descent.py:678: ConvergenceWarning: Objective did not converge. You might want to increase the number of iterations, check the scale of the features or consider increasing regularisation. Duality gap: 3.459e+06, tolerance: 1.476e+03\n",
      "  model = cd_fast.enet_coordinate_descent(\n",
      "/home/srdjan/dev/python/spotify-prediction/venv/lib/python3.12/site-packages/sklearn/linear_model/_coordinate_descent.py:678: ConvergenceWarning: Objective did not converge. You might want to increase the number of iterations, check the scale of the features or consider increasing regularisation. Duality gap: 4.275e+06, tolerance: 1.476e+03\n",
      "  model = cd_fast.enet_coordinate_descent(\n",
      "/home/srdjan/dev/python/spotify-prediction/venv/lib/python3.12/site-packages/sklearn/linear_model/_coordinate_descent.py:678: ConvergenceWarning: Objective did not converge. You might want to increase the number of iterations, check the scale of the features or consider increasing regularisation. Duality gap: 3.954e+06, tolerance: 1.481e+03\n",
      "  model = cd_fast.enet_coordinate_descent(\n",
      "/home/srdjan/dev/python/spotify-prediction/venv/lib/python3.12/site-packages/sklearn/linear_model/_coordinate_descent.py:678: ConvergenceWarning: Objective did not converge. You might want to increase the number of iterations, check the scale of the features or consider increasing regularisation. Duality gap: 4.459e+06, tolerance: 1.481e+03\n",
      "  model = cd_fast.enet_coordinate_descent(\n",
      "/home/srdjan/dev/python/spotify-prediction/venv/lib/python3.12/site-packages/sklearn/linear_model/_coordinate_descent.py:678: ConvergenceWarning: Objective did not converge. You might want to increase the number of iterations, check the scale of the features or consider increasing regularisation. Duality gap: 4.642e+06, tolerance: 1.484e+03\n",
      "  model = cd_fast.enet_coordinate_descent(\n",
      "/home/srdjan/dev/python/spotify-prediction/venv/lib/python3.12/site-packages/sklearn/linear_model/_coordinate_descent.py:678: ConvergenceWarning: Objective did not converge. You might want to increase the number of iterations, check the scale of the features or consider increasing regularisation. Duality gap: 6.121e+06, tolerance: 5.745e+03\n",
      "  model = cd_fast.enet_coordinate_descent(\n",
      "/home/srdjan/dev/python/spotify-prediction/venv/lib/python3.12/site-packages/sklearn/linear_model/_coordinate_descent.py:678: ConvergenceWarning: Objective did not converge. You might want to increase the number of iterations, check the scale of the features or consider increasing regularisation. Duality gap: 6.141e+06, tolerance: 5.742e+03\n",
      "  model = cd_fast.enet_coordinate_descent(\n",
      "/home/srdjan/dev/python/spotify-prediction/venv/lib/python3.12/site-packages/sklearn/linear_model/_coordinate_descent.py:678: ConvergenceWarning: Objective did not converge. You might want to increase the number of iterations, check the scale of the features or consider increasing regularisation. Duality gap: 6.166e+06, tolerance: 5.718e+03\n",
      "  model = cd_fast.enet_coordinate_descent(\n",
      "/home/srdjan/dev/python/spotify-prediction/venv/lib/python3.12/site-packages/sklearn/linear_model/_coordinate_descent.py:678: ConvergenceWarning: Objective did not converge. You might want to increase the number of iterations, check the scale of the features or consider increasing regularisation. Duality gap: 6.189e+06, tolerance: 5.737e+03\n",
      "  model = cd_fast.enet_coordinate_descent(\n",
      "/home/srdjan/dev/python/spotify-prediction/venv/lib/python3.12/site-packages/sklearn/linear_model/_coordinate_descent.py:678: ConvergenceWarning: Objective did not converge. You might want to increase the number of iterations, check the scale of the features or consider increasing regularisation. Duality gap: 6.191e+06, tolerance: 5.741e+03\n",
      "  model = cd_fast.enet_coordinate_descent(\n",
      "/home/srdjan/dev/python/spotify-prediction/venv/lib/python3.12/site-packages/sklearn/linear_model/_coordinate_descent.py:678: ConvergenceWarning: Objective did not converge. You might want to increase the number of iterations, check the scale of the features or consider increasing regularisation. Duality gap: 9.381e+03, tolerance: 1.476e+03\n",
      "  model = cd_fast.enet_coordinate_descent(\n",
      "/home/srdjan/dev/python/spotify-prediction/venv/lib/python3.12/site-packages/sklearn/linear_model/_coordinate_descent.py:678: ConvergenceWarning: Objective did not converge. You might want to increase the number of iterations, check the scale of the features or consider increasing regularisation. Duality gap: 9.383e+04, tolerance: 1.476e+03\n",
      "  model = cd_fast.enet_coordinate_descent(\n",
      "/home/srdjan/dev/python/spotify-prediction/venv/lib/python3.12/site-packages/sklearn/linear_model/_coordinate_descent.py:678: ConvergenceWarning: Objective did not converge. You might want to increase the number of iterations, check the scale of the features or consider increasing regularisation. Duality gap: 3.451e+03, tolerance: 1.481e+03\n",
      "  model = cd_fast.enet_coordinate_descent(\n",
      "/home/srdjan/dev/python/spotify-prediction/venv/lib/python3.12/site-packages/sklearn/linear_model/_coordinate_descent.py:678: ConvergenceWarning: Objective did not converge. You might want to increase the number of iterations, check the scale of the features or consider increasing regularisation. Duality gap: 9.205e+04, tolerance: 1.481e+03\n",
      "  model = cd_fast.enet_coordinate_descent(\n",
      "/home/srdjan/dev/python/spotify-prediction/venv/lib/python3.12/site-packages/sklearn/linear_model/_coordinate_descent.py:678: ConvergenceWarning: Objective did not converge. You might want to increase the number of iterations, check the scale of the features or consider increasing regularisation. Duality gap: 7.244e+03, tolerance: 1.484e+03\n",
      "  model = cd_fast.enet_coordinate_descent(\n",
      "/home/srdjan/dev/python/spotify-prediction/venv/lib/python3.12/site-packages/sklearn/linear_model/_coordinate_descent.py:678: ConvergenceWarning: Objective did not converge. You might want to increase the number of iterations, check the scale of the features or consider increasing regularisation. Duality gap: 6.207e+06, tolerance: 5.745e+03\n",
      "  model = cd_fast.enet_coordinate_descent(\n",
      "/home/srdjan/dev/python/spotify-prediction/venv/lib/python3.12/site-packages/sklearn/linear_model/_coordinate_descent.py:678: ConvergenceWarning: Objective did not converge. You might want to increase the number of iterations, check the scale of the features or consider increasing regularisation. Duality gap: 6.222e+06, tolerance: 5.742e+03\n",
      "  model = cd_fast.enet_coordinate_descent(\n",
      "/home/srdjan/dev/python/spotify-prediction/venv/lib/python3.12/site-packages/sklearn/linear_model/_coordinate_descent.py:678: ConvergenceWarning: Objective did not converge. You might want to increase the number of iterations, check the scale of the features or consider increasing regularisation. Duality gap: 6.248e+06, tolerance: 5.718e+03\n",
      "  model = cd_fast.enet_coordinate_descent(\n",
      "/home/srdjan/dev/python/spotify-prediction/venv/lib/python3.12/site-packages/sklearn/linear_model/_coordinate_descent.py:678: ConvergenceWarning: Objective did not converge. You might want to increase the number of iterations, check the scale of the features or consider increasing regularisation. Duality gap: 6.266e+06, tolerance: 5.737e+03\n",
      "  model = cd_fast.enet_coordinate_descent(\n",
      "/home/srdjan/dev/python/spotify-prediction/venv/lib/python3.12/site-packages/sklearn/linear_model/_coordinate_descent.py:678: ConvergenceWarning: Objective did not converge. You might want to increase the number of iterations, check the scale of the features or consider increasing regularisation. Duality gap: 6.270e+06, tolerance: 5.741e+03\n",
      "  model = cd_fast.enet_coordinate_descent(\n",
      "/home/srdjan/dev/python/spotify-prediction/venv/lib/python3.12/site-packages/sklearn/linear_model/_coordinate_descent.py:678: ConvergenceWarning: Objective did not converge. You might want to increase the number of iterations, check the scale of the features or consider increasing regularisation. Duality gap: 3.880e+06, tolerance: 5.745e+03\n",
      "  model = cd_fast.enet_coordinate_descent(\n",
      "/home/srdjan/dev/python/spotify-prediction/venv/lib/python3.12/site-packages/sklearn/linear_model/_coordinate_descent.py:678: ConvergenceWarning: Objective did not converge. You might want to increase the number of iterations, check the scale of the features or consider increasing regularisation. Duality gap: 4.402e+06, tolerance: 5.742e+03\n",
      "  model = cd_fast.enet_coordinate_descent(\n",
      "/home/srdjan/dev/python/spotify-prediction/venv/lib/python3.12/site-packages/sklearn/linear_model/_coordinate_descent.py:678: ConvergenceWarning: Objective did not converge. You might want to increase the number of iterations, check the scale of the features or consider increasing regularisation. Duality gap: 6.237e+06, tolerance: 5.718e+03\n",
      "  model = cd_fast.enet_coordinate_descent(\n",
      "/home/srdjan/dev/python/spotify-prediction/venv/lib/python3.12/site-packages/sklearn/linear_model/_coordinate_descent.py:678: ConvergenceWarning: Objective did not converge. You might want to increase the number of iterations, check the scale of the features or consider increasing regularisation. Duality gap: 6.261e+06, tolerance: 5.737e+03\n",
      "  model = cd_fast.enet_coordinate_descent(\n",
      "/home/srdjan/dev/python/spotify-prediction/venv/lib/python3.12/site-packages/sklearn/linear_model/_coordinate_descent.py:678: ConvergenceWarning: Objective did not converge. You might want to increase the number of iterations, check the scale of the features or consider increasing regularisation. Duality gap: 6.186e+06, tolerance: 5.741e+03\n",
      "  model = cd_fast.enet_coordinate_descent(\n",
      "/home/srdjan/dev/python/spotify-prediction/venv/lib/python3.12/site-packages/sklearn/linear_model/_coordinate_descent.py:678: ConvergenceWarning: Objective did not converge. You might want to increase the number of iterations, check the scale of the features or consider increasing regularisation. Duality gap: 5.879e+05, tolerance: 5.745e+03\n",
      "  model = cd_fast.enet_coordinate_descent(\n"
     ]
    },
    {
     "name": "stdout",
     "output_type": "stream",
     "text": [
      "Best Parameters for Lasso: {'alpha': 0.1, 'fit_intercept': True}\n",
      "Best Score (MSE) for Lasso: 518.2419710099323\n"
     ]
    },
    {
     "name": "stderr",
     "output_type": "stream",
     "text": [
      "/home/srdjan/dev/python/spotify-prediction/venv/lib/python3.12/site-packages/sklearn/linear_model/_coordinate_descent.py:678: ConvergenceWarning: Objective did not converge. You might want to increase the number of iterations, check the scale of the features or consider increasing regularisation. Duality gap: 5.382e+06, tolerance: 1.850e+03\n",
      "  model = cd_fast.enet_coordinate_descent(\n"
     ]
    }
   ],
   "source": [
    "# Define the hyperparameters grid\n",
    "param_grid = {\n",
    "    'alpha': [0.1, 1.0, 5.0, 10.0],  # regularization strength\n",
    "    'fit_intercept': [True, False]\n",
    "}\n",
    "\n",
    "# Instantiate the Lasso regression model\n",
    "lasso = Lasso()\n",
    "\n",
    "# Instantiate GridSearchCV\n",
    "grid_search_lasso = GridSearchCV(estimator=lasso, param_grid=param_grid, cv=5, scoring='neg_mean_squared_error')\n",
    "\n",
    "# Fit the grid search to the data\n",
    "grid_search_lasso.fit(X_inter_train, y_train)\n",
    "\n",
    "# Get the best parameters and best score\n",
    "best_params_lasso = grid_search_lasso.best_params_\n",
    "best_score_lasso = grid_search_lasso.best_score_\n",
    "\n",
    "print(\"Best Parameters for Lasso:\", best_params_lasso)\n",
    "print(\"Best Score (MSE) for Lasso:\", -best_score_lasso)\n",
    "\n",
    "best_lasso_p = grid_search_lasso.best_estimator_"
   ]
  },
  {
   "cell_type": "markdown",
   "metadata": {},
   "source": [
    "#### Ridge Poly"
   ]
  },
  {
   "cell_type": "code",
   "execution_count": 81,
   "metadata": {},
   "outputs": [
    {
     "name": "stdout",
     "output_type": "stream",
     "text": [
      "Best Parameters for Ridge: {'alpha': 10.0, 'fit_intercept': True}\n",
      "Best Score (MSE) for Ridge: 528.8860811497022\n"
     ]
    }
   ],
   "source": [
    "# Define the hyperparameters grid\n",
    "param_grid = {\n",
    "    'alpha': [0.1, 1.0, 5.0, 10.0],  # regularization strength\n",
    "    'fit_intercept': [True, False]\n",
    "}\n",
    "\n",
    "# Instantiate the Ridge regression model\n",
    "ridge = Ridge()\n",
    "\n",
    "# Instantiate GridSearchCV\n",
    "grid_search_ridge = GridSearchCV(estimator=ridge, param_grid=param_grid, cv=5, scoring='neg_mean_squared_error')\n",
    "\n",
    "# Fit the grid search to the data\n",
    "grid_search_ridge.fit(X_train_std, y_train)\n",
    "\n",
    "# Get the best parameters and best score\n",
    "best_params_ridge = grid_search_ridge.best_params_\n",
    "best_score_ridge = grid_search_ridge.best_score_\n",
    "\n",
    "print(\"Best Parameters for Ridge:\", best_params_ridge)\n",
    "print(\"Best Score (MSE) for Ridge:\", -best_score_ridge)\n",
    "\n",
    "best_ridge_p = grid_search_ridge.best_estimator_"
   ]
  },
  {
   "cell_type": "markdown",
   "metadata": {},
   "source": [
    "### SVR"
   ]
  },
  {
   "cell_type": "code",
   "execution_count": 69,
   "metadata": {},
   "outputs": [
    {
     "name": "stdout",
     "output_type": "stream",
     "text": [
      "Best Parameters for SVR: {'kernel': 'linear', 'epsilon': 0.1, 'degree': 3, 'C': 1}\n",
      "Best Score (MSE) for SVR: 536.9701303634046\n"
     ]
    }
   ],
   "source": [
    "# Define hyperparameter grid\n",
    "param_grid = {\n",
    "    'C': [0.1, 1, 10, 100],\n",
    "    'epsilon': [0.01, 0.1, 1],\n",
    "    'kernel': ['linear', 'rbf', 'sigmoid'],\n",
    "    'degree': [2, 3, 4]\n",
    "}\n",
    "\n",
    "# Instantiate SVR\n",
    "svr = SVR()\n",
    "\n",
    "# Instantiate RandomizedSearchCV\n",
    "random_search = RandomizedSearchCV(estimator=svr, param_distributions=param_grid, scoring='neg_mean_squared_error', cv=5, n_iter=20, n_jobs=-1)\n",
    "\n",
    "# Fit grid search to training data\n",
    "random_search.fit(X_train_std, y_train)\n",
    "\n",
    "# Get the best parameters and best score\n",
    "best_params_svr = random_search.best_params_\n",
    "best_score_svr = random_search.best_score_\n",
    "\n",
    "print(\"Best Parameters for SVR:\", best_params_svr)\n",
    "print(\"Best Score (MSE) for SVR:\", -best_score_svr)\n",
    "\n",
    "# Access best model\n",
    "best_svr = random_search.best_estimator_"
   ]
  },
  {
   "cell_type": "code",
   "execution_count": 24,
   "metadata": {},
   "outputs": [
    {
     "name": "stdout",
     "output_type": "stream",
     "text": [
      "Best Model Parameters: <bound method BaseEstimator.get_params of RandomizedSearchCV(cv=5, estimator=SVR(), n_iter=20, n_jobs=-1,\n",
      "                   param_distributions={'C': [0.1, 1, 10, 100],\n",
      "                                        'degree': [2, 3, 4],\n",
      "                                        'epsilon': [0.01, 0.1, 1],\n",
      "                                        'kernel': ['linear', 'rbf', 'sigmoid']},\n",
      "                   scoring='neg_mean_squared_error')>\n",
      "MSE: 517.6773419846639\n",
      "R-squared: 0.14804400310584365\n"
     ]
    }
   ],
   "source": [
    "# # Define hyperparameter grid\n",
    "# param_grid = {\n",
    "#     'C': [0.1, 1, 10, 100],\n",
    "#     'epsilon': [0.01, 0.1, 1],\n",
    "#     'kernel': ['linear', 'rbf', 'sigmoid'],\n",
    "#     'degree': [2, 3, 4]\n",
    "# }\n",
    "\n",
    "# # Instantiate SVR\n",
    "# svr = SVR()\n",
    "\n",
    "# # Instantiate RandomizedSearchCV\n",
    "# random_search = RandomizedSearchCV(estimator=svr, param_distributions=param_grid, scoring='neg_mean_squared_error', cv=5, n_iter=20, n_jobs=-1)\n",
    "\n",
    "# # Fit random search to training data\n",
    "# random_search.fit(X_train_std, y_train)\n",
    "\n",
    "# # Access best model and parameters\n",
    "# best_model = random_search.best_estimator_\n",
    "# best_params = random_search.get_params\n",
    "\n",
    "# # Evaluate best model on testing data\n",
    "# y_pred = best_model.predict(X_test_std)\n",
    "# mse = mean_squared_error(y_test, y_pred)\n",
    "# r2 = r2_score(y_test, y_pred)\n",
    "\n",
    "# print(\"Best Model Parameters:\", best_params)\n",
    "# print(\"MSE:\", mse)\n",
    "# print(\"R-squared:\", r2)"
   ]
  },
  {
   "cell_type": "markdown",
   "metadata": {},
   "source": [
    "### DTR"
   ]
  },
  {
   "cell_type": "code",
   "execution_count": 86,
   "metadata": {},
   "outputs": [
    {
     "name": "stdout",
     "output_type": "stream",
     "text": [
      "Best Parameters for Decision Tree: {'min_samples_split': 2, 'min_samples_leaf': 2, 'max_depth': 10}\n",
      "Best Score (MSE) for Decision Tree: 533.6375865307957\n"
     ]
    }
   ],
   "source": [
    "# Define hyperparameter grid\n",
    "param_grid = {\n",
    "    'max_depth': [None, 10, 20, 30],\n",
    "    'min_samples_split': [2, 5, 10],\n",
    "    'min_samples_leaf': [1, 2, 4]\n",
    "}\n",
    "\n",
    "# Instantiate Decision Tree Regressor\n",
    "dt = DecisionTreeRegressor(random_state=27)\n",
    "\n",
    "# Instantiate GridSearchCV\n",
    "random_search = RandomizedSearchCV(estimator=dt, param_distributions=param_grid, scoring='neg_mean_squared_error', cv=5, n_iter=20, n_jobs=-1)\n",
    "\n",
    "# Fit grid search to training data\n",
    "random_search.fit(X_train_std, y_train)\n",
    "\n",
    "# Get the best parameters and best score\n",
    "best_params_dt = random_search.best_params_\n",
    "best_score_dt = random_search.best_score_\n",
    "\n",
    "print(\"Best Parameters for Decision Tree:\", best_params_dt)\n",
    "print(\"Best Score (MSE) for Decision Tree:\", -best_score_dt)\n",
    "\n",
    "# Access best model\n",
    "best_dtr = random_search.best_estimator_"
   ]
  },
  {
   "cell_type": "code",
   "execution_count": 27,
   "metadata": {},
   "outputs": [
    {
     "name": "stdout",
     "output_type": "stream",
     "text": [
      "Best Model Parameters: {'min_samples_split': 10, 'min_samples_leaf': 4, 'max_depth': 10}\n",
      "MSE: 508.34183227728727\n",
      "R-squared: 0.16340771102624707\n"
     ]
    }
   ],
   "source": [
    "# # Define hyperparameter grid\n",
    "# param_grid = {\n",
    "#     'max_depth': [None, 10, 20, 30],\n",
    "#     'min_samples_split': [2, 5, 10],\n",
    "#     'min_samples_leaf': [1, 2, 4]\n",
    "# }\n",
    "\n",
    "# # Instantiate decision tree regressor\n",
    "# dt = DecisionTreeRegressor(random_state=27)\n",
    "\n",
    "# # Instantiate RandomizedSearchCV\n",
    "# random_search = RandomizedSearchCV(estimator=dt, param_distributions=param_grid, scoring='neg_mean_squared_error', cv=5, n_iter=20, n_jobs=-1)\n",
    "\n",
    "# # Fit random search to training data\n",
    "# random_search.fit(X_train_std, y_train)\n",
    "\n",
    "# # Access best model and parameters\n",
    "# best_model = random_search.best_estimator_\n",
    "# best_params = random_search.best_params_\n",
    "\n",
    "# # Evaluate best model on testing data\n",
    "# y_pred = best_model.predict(X_test_std)\n",
    "# mse = mean_squared_error(y_test, y_pred)\n",
    "# r2 = r2_score(y_test, y_pred)\n",
    "\n",
    "# print(\"Best Model Parameters:\", best_params)\n",
    "# print(\"MSE:\", mse)\n",
    "# print(\"R-squared:\", r2)"
   ]
  },
  {
   "cell_type": "markdown",
   "metadata": {},
   "source": [
    "## PCA\n",
    "The models are being re-trained the same way but with PCA train data"
   ]
  },
  {
   "cell_type": "code",
   "execution_count": 87,
   "metadata": {},
   "outputs": [
    {
     "name": "stdout",
     "output_type": "stream",
     "text": [
      "Explained variance ratio: [0.84076063 0.08409327 0.01391304 0.01019054 0.00726657 0.00653442\n",
      " 0.00628904 0.00564641 0.00510138 0.00399229 0.00319016 0.00154143\n",
      " 0.00149161]\n",
      "Cumulative explained variance ratio: [0.84076063 0.9248539  0.93876694 0.94895749 0.95622406 0.96275848\n",
      " 0.96904752 0.97469393 0.97979531 0.9837876  0.98697776 0.98851919\n",
      " 0.9900108 ]\n"
     ]
    }
   ],
   "source": [
    "# Applying the PCA\n",
    "pca = PCA(n_components=0.99)  # Specify the variance to be preserved\n",
    "X_train_pca = pca.fit_transform(X_train_std)\n",
    "X_test_pca = pca.transform(X_test_std)\n",
    "\n",
    "# Inspecting the explained variance ratio to decide the number of components\n",
    "print(\"Explained variance ratio:\", pca.explained_variance_ratio_)\n",
    "print(\"Cumulative explained variance ratio:\", np.cumsum(pca.explained_variance_ratio_))"
   ]
  },
  {
   "cell_type": "markdown",
   "metadata": {},
   "source": [
    "#### Linear Regression PCA"
   ]
  },
  {
   "cell_type": "code",
   "execution_count": 88,
   "metadata": {},
   "outputs": [
    {
     "name": "stdout",
     "output_type": "stream",
     "text": [
      "Best Parameters: {'fit_intercept': True}\n",
      "Best Score (MSE): 579.4818704323152\n"
     ]
    }
   ],
   "source": [
    "# Define the hyperparameters grid\n",
    "param_grid = {\n",
    "    'fit_intercept': [True, False],\n",
    "}\n",
    "\n",
    "# Instantiate the linear regression model\n",
    "lr = LinearRegression()\n",
    "\n",
    "# Instantiate GridSearchCV\n",
    "grid_search = GridSearchCV(estimator=lr, param_grid=param_grid, cv=5, scoring='neg_mean_squared_error')\n",
    "\n",
    "# Fit the grid search to the data\n",
    "grid_search.fit(X_train_pca, y_train)\n",
    "\n",
    "# Get the best parameters and best score\n",
    "best_params = grid_search.best_params_\n",
    "best_score = grid_search.best_score_\n",
    "\n",
    "print(\"Best Parameters:\", best_params)\n",
    "print(\"Best Score (MSE):\", -best_score)\n",
    "\n",
    "best_lr_pca = grid_search.best_estimator_"
   ]
  },
  {
   "cell_type": "markdown",
   "metadata": {},
   "source": [
    "#### Lasso PCA"
   ]
  },
  {
   "cell_type": "code",
   "execution_count": 89,
   "metadata": {},
   "outputs": [
    {
     "name": "stdout",
     "output_type": "stream",
     "text": [
      "Best Parameters for Lasso: {'alpha': 0.1, 'fit_intercept': True}\n",
      "Best Score (MSE) for Lasso: 579.6668131570975\n"
     ]
    }
   ],
   "source": [
    "# Define the hyperparameters grid\n",
    "param_grid = {\n",
    "    'alpha': [0.1, 1.0, 5.0, 10.0],  # regularization strength\n",
    "    'fit_intercept': [True, False]\n",
    "}\n",
    "\n",
    "# Instantiate the Lasso regression model\n",
    "lasso = Lasso()\n",
    "\n",
    "# Instantiate GridSearchCV\n",
    "grid_search_lasso = GridSearchCV(estimator=lasso, param_grid=param_grid, cv=5, scoring='neg_mean_squared_error')\n",
    "\n",
    "# Fit the grid search to the data\n",
    "grid_search_lasso.fit(X_train_pca, y_train)\n",
    "\n",
    "# Get the best parameters and best score\n",
    "best_params_lasso = grid_search_lasso.best_params_\n",
    "best_score_lasso = grid_search_lasso.best_score_\n",
    "\n",
    "print(\"Best Parameters for Lasso:\", best_params_lasso)\n",
    "print(\"Best Score (MSE) for Lasso:\", -best_score_lasso)\n",
    "\n",
    "best_lasso_pca = grid_search_lasso.best_estimator_"
   ]
  },
  {
   "cell_type": "markdown",
   "metadata": {},
   "source": [
    "#### Ridge PCA"
   ]
  },
  {
   "cell_type": "code",
   "execution_count": 90,
   "metadata": {},
   "outputs": [
    {
     "name": "stdout",
     "output_type": "stream",
     "text": [
      "Best Parameters for Ridge: {'alpha': 10.0, 'fit_intercept': True}\n",
      "Best Score (MSE) for Ridge: 579.48166264119\n"
     ]
    }
   ],
   "source": [
    "# Define the hyperparameters grid\n",
    "param_grid = {\n",
    "    'alpha': [0.1, 1.0, 5.0, 10.0],  # regularization strength\n",
    "    'fit_intercept': [True, False]\n",
    "}\n",
    "\n",
    "# Instantiate the Ridge regression model\n",
    "ridge = Ridge()\n",
    "\n",
    "# Instantiate GridSearchCV\n",
    "grid_search_ridge = GridSearchCV(estimator=ridge, param_grid=param_grid, cv=5, scoring='neg_mean_squared_error')\n",
    "\n",
    "# Fit the grid search to the data\n",
    "grid_search_ridge.fit(X_train_pca, y_train)\n",
    "\n",
    "# Get the best parameters and best score\n",
    "best_params_ridge = grid_search_ridge.best_params_\n",
    "best_score_ridge = grid_search_ridge.best_score_\n",
    "\n",
    "print(\"Best Parameters for Ridge:\", best_params_ridge)\n",
    "print(\"Best Score (MSE) for Ridge:\", -best_score_ridge)\n",
    "\n",
    "best_ridge_pca = grid_search_ridge.best_estimator_"
   ]
  },
  {
   "cell_type": "markdown",
   "metadata": {},
   "source": [
    "#### SVR PCA"
   ]
  },
  {
   "cell_type": "code",
   "execution_count": 93,
   "metadata": {},
   "outputs": [
    {
     "name": "stdout",
     "output_type": "stream",
     "text": [
      "Best Parameters for SVR: {'kernel': 'rbf', 'epsilon': 0.1, 'degree': 3, 'C': 100}\n",
      "Best Score (MSE) for SVR: 535.8715989342279\n"
     ]
    }
   ],
   "source": [
    "# Define hyperparameter grid\n",
    "param_grid = {\n",
    "    'C': [0.1, 1, 10, 100],\n",
    "    'epsilon': [0.01, 0.1, 1],\n",
    "    'kernel': ['linear', 'rbf', 'sigmoid'],\n",
    "    'degree': [2, 3, 4]\n",
    "}\n",
    "\n",
    "# Instantiate SVR\n",
    "svr = SVR()\n",
    "\n",
    "# Instantiate GridSearchCV\n",
    "random_search = RandomizedSearchCV(estimator=svr, param_distributions=param_grid, scoring='neg_mean_squared_error', cv=5, n_iter=20, n_jobs=-1)\n",
    "\n",
    "# Fit grid search to training data\n",
    "random_search.fit(X_train_pca, y_train)\n",
    "\n",
    "# Get the best parameters and best score\n",
    "best_params_svr = random_search.best_params_\n",
    "best_score_svr = random_search.best_score_\n",
    "\n",
    "print(\"Best Parameters for SVR:\", best_params_svr)\n",
    "print(\"Best Score (MSE) for SVR:\", -best_score_svr)\n",
    "\n",
    "# Access best model\n",
    "best_svr_pca = random_search.best_estimator_"
   ]
  },
  {
   "cell_type": "code",
   "execution_count": 32,
   "metadata": {},
   "outputs": [
    {
     "name": "stdout",
     "output_type": "stream",
     "text": [
      "Best Model Parameters: <bound method BaseEstimator.get_params of RandomizedSearchCV(cv=5, estimator=SVR(), n_iter=20, n_jobs=-1,\n",
      "                   param_distributions={'C': [0.1, 1, 10, 100],\n",
      "                                        'degree': [2, 3, 4],\n",
      "                                        'epsilon': [0.01, 0.1, 1],\n",
      "                                        'kernel': ['linear', 'rbf', 'sigmoid']},\n",
      "                   scoring='neg_mean_squared_error')>\n",
      "MSE: 523.2596508424714\n",
      "R-squared: 0.1388570421898193\n"
     ]
    }
   ],
   "source": [
    "# # Define hyperparameter grid\n",
    "# param_grid = {\n",
    "#     'C': [0.1, 1, 10, 100],\n",
    "#     'epsilon': [0.01, 0.1, 1],\n",
    "#     'kernel': ['linear', 'rbf', 'sigmoid'],\n",
    "#     'degree': [2, 3, 4]\n",
    "# }\n",
    "\n",
    "# # Instantiate SVR\n",
    "# svr = SVR()\n",
    "\n",
    "# # Instantiate RandomizedSearchCV\n",
    "# random_search = RandomizedSearchCV(estimator=svr, param_distributions=param_grid, scoring='neg_mean_squared_error', cv=5, n_iter=20, n_jobs=-1)\n",
    "\n",
    "# # Fit random search to training data\n",
    "# random_search.fit(X_train_pca, y_train)\n",
    "\n",
    "# # Access best model and parameters\n",
    "# best_model = random_search.best_estimator_\n",
    "# best_params = random_search.get_params\n",
    "\n",
    "# # Evaluate best model on testing data\n",
    "# y_pred = best_model.predict(X_test_pca)\n",
    "# mse = mean_squared_error(y_test, y_pred)\n",
    "# r2 = r2_score(y_test, y_pred)\n",
    "\n",
    "# print(\"Best Model Parameters:\", best_params)\n",
    "# print(\"MSE:\", mse)\n",
    "# print(\"R-squared:\", r2)"
   ]
  },
  {
   "cell_type": "markdown",
   "metadata": {},
   "source": [
    "### DTR PCA"
   ]
  },
  {
   "cell_type": "code",
   "execution_count": 91,
   "metadata": {},
   "outputs": [
    {
     "name": "stdout",
     "output_type": "stream",
     "text": [
      "Best Parameters for Decision Tree: {'min_samples_split': 5, 'min_samples_leaf': 4, 'max_depth': 10}\n",
      "Best Score (MSE) for Decision Tree: 531.6460545950537\n"
     ]
    }
   ],
   "source": [
    "# Define hyperparameter grid\n",
    "param_grid = {\n",
    "    'max_depth': [None, 10, 20, 30],\n",
    "    'min_samples_split': [2, 5, 10],\n",
    "    'min_samples_leaf': [1, 2, 4]\n",
    "}\n",
    "\n",
    "# Instantiate Decision Tree Regressor\n",
    "dt = DecisionTreeRegressor(random_state=27)\n",
    "\n",
    "# Instantiate GridSearchCV\n",
    "random_search = RandomizedSearchCV(estimator=dt, param_distributions=param_grid, scoring='neg_mean_squared_error', cv=5, n_iter=20, n_jobs=-1)\n",
    "\n",
    "# Fit grid search to training data\n",
    "random_search.fit(X_train_std, y_train)\n",
    "\n",
    "# Get the best parameters and best score\n",
    "best_params_dt = random_search.best_params_\n",
    "best_score_dt = random_search.best_score_\n",
    "\n",
    "print(\"Best Parameters for Decision Tree:\", best_params_dt)\n",
    "print(\"Best Score (MSE) for Decision Tree:\", -best_score_dt)\n",
    "\n",
    "# Access best model\n",
    "best_dtr_pca = random_search.best_estimator_"
   ]
  },
  {
   "cell_type": "code",
   "execution_count": 33,
   "metadata": {},
   "outputs": [
    {
     "name": "stdout",
     "output_type": "stream",
     "text": [
      "Best Model Parameters: {'min_samples_split': 2, 'min_samples_leaf': 4, 'max_depth': 10}\n",
      "MSE: 550.1582090903994\n",
      "R-squared: 0.09458933690592086\n"
     ]
    }
   ],
   "source": [
    "\n",
    "# # Define hyperparameter grid\n",
    "# param_grid = {\n",
    "#     'max_depth': [None, 10, 20, 30],\n",
    "#     'min_samples_split': [2, 5, 10],\n",
    "#     'min_samples_leaf': [1, 2, 4]\n",
    "# }\n",
    "\n",
    "# # Best Model Parameters: {'min_samples_split': 10, 'min_samples_leaf': 1, 'max_depth': 10}\n",
    "# # MSE: 405.1032771763682\n",
    "# # R-squared: 0.3134450286248275\n",
    "\n",
    "# # Instantiate decision tree regressor\n",
    "# dt = DecisionTreeRegressor(random_state=27)\n",
    "\n",
    "# # Instantiate RandomizedSearchCV\n",
    "# random_search = RandomizedSearchCV(estimator=dt, param_distributions=param_grid, scoring='neg_mean_squared_error', cv=5, n_iter=20, n_jobs=-1)\n",
    "\n",
    "# # Fit random search to training data\n",
    "# random_search.fit(X_train_pca, y_train)\n",
    "\n",
    "# # Access best model and parameters\n",
    "# best_model = random_search.best_estimator_\n",
    "# best_params = random_search.best_params_\n",
    "\n",
    "# # Evaluate best model on testing data\n",
    "# y_pred = best_model.predict(X_test_pca)\n",
    "# mse = mean_squared_error(y_test, y_pred)\n",
    "# r2 = r2_score(y_test, y_pred)\n",
    "\n",
    "# print(\"Best Model Parameters:\", best_params)\n",
    "# print(\"MSE:\", mse)\n",
    "# print(\"R-squared:\", r2)\n"
   ]
  },
  {
   "cell_type": "markdown",
   "metadata": {},
   "source": [
    "## Comparison"
   ]
  },
  {
   "cell_type": "code",
   "execution_count": 96,
   "metadata": {},
   "outputs": [
    {
     "data": {
      "image/png": "[encoded data removed]",
      "text/plain": [
       "<Figure size 1200x600 with 1 Axes>"
      ]
     },
     "metadata": {},
     "output_type": "display_data"
    }
   ],
   "source": [
    "import matplotlib.pyplot as plt\n",
    "import numpy as np\n",
    "from sklearn.metrics import mean_squared_error\n",
    "\n",
    "def evaluate_model(model, X_train, X_test, y_train, y_test):\n",
    "    # Fit the model\n",
    "    model.fit(X_train, y_train)\n",
    "    \n",
    "    # Predict\n",
    "    y_pred = model.predict(X_test)\n",
    "    \n",
    "    # Calculate MSE\n",
    "    mse = mean_squared_error(y_test, y_pred)\n",
    "    \n",
    "    return mse\n",
    "\n",
    "# Models before PCA\n",
    "models_before_pca = {\n",
    "    \"Linear Regression\": best_lr_b,\n",
    "    \"Lasso\": best_lasso_b,\n",
    "    \"Ridge\": best_ridge_b,\n",
    "    \"SVR\": best_svr,\n",
    "    \"Decision Tree\": best_dtr\n",
    "}\n",
    "\n",
    "mse_scores_before_pca = {}\n",
    "for name, model in models_before_pca.items():\n",
    "    mse_scores_before_pca[name] = evaluate_model(model, X_train_std, X_test_std, y_train, y_test)\n",
    "\n",
    "# Models after PCA\n",
    "models_after_pca = {\n",
    "    \"Linear Regression PCA\": best_lr_pca,\n",
    "    \"Lasso PCA\": best_lasso_pca,\n",
    "    \"Ridge PCA\": best_ridge_pca,\n",
    "    \"SVR PCA\": best_svr_pca,\n",
    "    \"Decision Tree PCA\": best_dtr_pca\n",
    "}\n",
    "\n",
    "mse_scores_after_pca = {}\n",
    "for name, model in models_after_pca.items():\n",
    "    mse_scores_after_pca[name] = evaluate_model(model, X_train_pca, X_test_pca, y_train, y_test)\n",
    "\n",
    "# Plotting\n",
    "fig, ax = plt.subplots(figsize=(12, 6))\n",
    "\n",
    "models = list(models_before_pca.keys())\n",
    "mse_before = list(mse_scores_before_pca.values())\n",
    "mse_after = list(mse_scores_after_pca.values())\n",
    "\n",
    "bar_width = 0.35\n",
    "index = np.arange(len(models))\n",
    "\n",
    "bar1 = ax.bar(index, mse_before, bar_width, label='Before PCA')\n",
    "bar2 = ax.bar(index + bar_width, mse_after, bar_width, label='After PCA')\n",
    "\n",
    "ax.set_xlabel('Models')\n",
    "ax.set_ylabel('Mean Squared Error (MSE)')\n",
    "ax.set_title('MSE comparison before and after PCA')\n",
    "ax.set_xticks(index + bar_width / 2)\n",
    "ax.set_xticklabels(models, rotation=45, ha=\"right\")\n",
    "ax.legend(loc='upper left')\n",
    "\n",
    "plt.tight_layout()\n",
    "plt.show()\n"
   ]
  },
  {
   "cell_type": "markdown",
   "metadata": {},
   "source": [
    "## Final training and comparison"
   ]
  },
  {
   "cell_type": "markdown",
   "metadata": {},
   "source": [
    "### Final training on the test subset"
   ]
  },
  {
   "cell_type": "code",
   "execution_count": 103,
   "metadata": {},
   "outputs": [],
   "source": [
    "import matplotlib.pyplot as plt\n",
    "import numpy as np\n",
    "from sklearn.metrics import mean_squared_error, r2_score\n",
    "\n",
    "def evaluate_model(model, X_train, X_test, y_train, y_test):\n",
    "    # Fit the model\n",
    "    model.fit(X_train, y_train)\n",
    "    \n",
    "    # Predict\n",
    "    y_pred = model.predict(X_test)\n",
    "    \n",
    "    # Calculate MSE and R2\n",
    "    mse = mean_squared_error(y_test, y_pred)\n",
    "    r2 = r2_score(y_test, y_pred)\n",
    "    \n",
    "    return mse, r2\n",
    "\n",
    "# Models before PCA\n",
    "models_before_pca = {\n",
    "    \"Linear Regression\": best_lr_b,\n",
    "    \"Lasso\": best_lasso_b,\n",
    "    \"Ridge\": best_ridge_b,\n",
    "    \"SVR\": best_svr,\n",
    "    \"Decision Tree\": best_dtr\n",
    "}\n",
    "\n",
    "mse_scores_before_pca = {}\n",
    "r2_scores_before_pca = {}\n",
    "for name, model in models_before_pca.items():\n",
    "    mse_scores_before_pca[name], r2_scores_before_pca[name] = evaluate_model(model, X_train_std, X_test_std, y_train, y_test)\n",
    "\n",
    "# Models after PCA\n",
    "models_after_pca = {\n",
    "    \"Linear Regression PCA\": best_lr_pca,\n",
    "    \"Lasso PCA\": best_lasso_pca,\n",
    "    \"Ridge PCA\": best_ridge_pca,\n",
    "    \"SVR PCA\": best_svr_pca,\n",
    "    \"Decision Tree PCA\": best_dtr_pca\n",
    "}\n",
    "\n",
    "mse_scores_after_pca = {}\n",
    "r2_scores_after_pca = {}\n",
    "for name, model in models_after_pca.items():\n",
    "    mse_scores_after_pca[name], r2_scores_after_pca[name] = evaluate_model(model, X_train_pca, X_test_pca, y_train, y_test)\n"
   ]
  },
  {
   "cell_type": "markdown",
   "metadata": {},
   "source": [
    "### MSE"
   ]
  },
  {
   "cell_type": "code",
   "execution_count": 109,
   "metadata": {},
   "outputs": [
    {
     "name": "stdout",
     "output_type": "stream",
     "text": [
      "MSE scores before PCA:\n",
      "Linear Regression: 510.103\n",
      "Lasso: 516.102\n",
      "Ridge: 510.113\n",
      "SVR: 518.556\n",
      "Decision Tree: 510.808\n",
      "\n",
      "MSE scores after PCA:\n",
      "Linear Regression PCA: 561.289\n",
      "Lasso PCA: 561.270\n",
      "Ridge PCA: 561.289\n",
      "SVR PCA: 523.417\n",
      "Decision Tree PCA: 550.158\n"
     ]
    },
    {
     "data": {
      "image/png": "[encoded data removed]",
      "text/plain": [
       "<Figure size 1200x600 with 1 Axes>"
      ]
     },
     "metadata": {},
     "output_type": "display_data"
    }
   ],
   "source": [
    "# Print MSE scores before and after PCA\n",
    "print(\"MSE scores before PCA:\")\n",
    "for name, mse_score in mse_scores_before_pca.items():\n",
    "    print(f\"{name}: {mse_score:.3f}\")\n",
    "\n",
    "print(\"\\nMSE scores after PCA:\")\n",
    "for name, mse_score in mse_scores_after_pca.items():\n",
    "    print(f\"{name}: {mse_score:.3f}\")\n",
    "\n",
    "# Plot MSE comparison before and after PCA\n",
    "fig, ax = plt.subplots(figsize=(12, 6))\n",
    "\n",
    "models = list(models_before_pca.keys())\n",
    "mse_before = list(mse_scores_before_pca.values())\n",
    "mse_after = list(mse_scores_after_pca.values())\n",
    "\n",
    "bar_width = 0.35\n",
    "index = np.arange(len(models))\n",
    "\n",
    "bar1 = ax.bar(index, mse_before, bar_width, label='Before PCA')\n",
    "bar2 = ax.bar(index + bar_width, mse_after, bar_width, label='After PCA')\n",
    "\n",
    "ax.set_xlabel('Models')\n",
    "ax.set_ylabel('Mean Squared Error (MSE)')\n",
    "ax.set_title('MSE comparison before and after PCA')\n",
    "ax.set_xticks(index + bar_width / 2)\n",
    "ax.set_xticklabels(models, rotation=45, ha=\"right\")\n",
    "ax.legend()\n",
    "\n",
    "plt.tight_layout()\n",
    "plt.show()\n"
   ]
  },
  {
   "cell_type": "markdown",
   "metadata": {},
   "source": [
    "### R2"
   ]
  },
  {
   "cell_type": "code",
   "execution_count": 108,
   "metadata": {},
   "outputs": [
    {
     "name": "stdout",
     "output_type": "stream",
     "text": [
      "R2 scores before PCA:\n",
      "Linear Regression: 0.161\n",
      "Lasso: 0.151\n",
      "Ridge: 0.160\n",
      "SVR: 0.147\n",
      "Decision Tree: 0.159\n",
      "\n",
      "R2 scores after PCA:\n",
      "Linear Regression PCA: 0.076\n",
      "Lasso PCA: 0.076\n",
      "Ridge PCA: 0.076\n",
      "SVR PCA: 0.139\n",
      "Decision Tree PCA: 0.095\n"
     ]
    },
    {
     "data": {
      "image/png": "[encoded data removed]",
      "text/plain": [
       "<Figure size 1200x600 with 1 Axes>"
      ]
     },
     "metadata": {},
     "output_type": "display_data"
    }
   ],
   "source": [
    "# Print R2 scores before and after PCA\n",
    "print(\"R2 scores before PCA:\")\n",
    "for name, r2_score in r2_scores_before_pca.items():\n",
    "    print(f\"{name}: {r2_score:.3f}\")\n",
    "\n",
    "print(\"\\nR2 scores after PCA:\")\n",
    "for name, r2_score in r2_scores_after_pca.items():\n",
    "    print(f\"{name}: {r2_score:.3f}\")\n",
    "\n",
    "# Plot R2 comparison before and after PCA\n",
    "fig, ax = plt.subplots(figsize=(12, 6))\n",
    "\n",
    "r2_before = list(r2_scores_before_pca.values())\n",
    "r2_after = list(r2_scores_after_pca.values())\n",
    "\n",
    "bar1 = ax.bar(index, r2_before, bar_width, label='Before PCA')\n",
    "bar2 = ax.bar(index + bar_width, r2_after, bar_width, label='After PCA')\n",
    "\n",
    "ax.set_xlabel('Models')\n",
    "ax.set_ylabel('R-squared')\n",
    "ax.set_title('R-squared comparison before and after PCA')\n",
    "ax.set_xticks(index + bar_width / 2)\n",
    "ax.set_xticklabels(models, rotation=45, ha=\"right\")\n",
    "ax.legend()\n",
    "\n",
    "plt.tight_layout()\n",
    "plt.show()\n"
   ]
  }
 ],
 "metadata": {
  "kernelspec": {
   "display_name": "venv",
   "language": "python",
   "name": "python3"
  },
  "language_info": {
   "codemirror_mode": {
    "name": "ipython",
    "version": 3
   },
   "file_extension": ".py",
   "mimetype": "text/x-python",
   "name": "python",
   "nbconvert_exporter": "python",
   "pygments_lexer": "ipython3",
   "version": "3.12.2"
  }
 },
 "nbformat": 4,
 "nbformat_minor": 2
}
