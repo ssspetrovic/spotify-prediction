{
 "cells": [
  {
   "cell_type": "markdown",
   "metadata": {},
   "source": [
    "# Spotify Song Prediction"
   ]
  },
  {
   "cell_type": "markdown",
   "metadata": {},
   "source": [
    "##### Dependencies"
   ]
  },
  {
   "cell_type": "code",
   "execution_count": 409,
   "metadata": {},
   "outputs": [],
   "source": [
    "# Ucitavanje biblioteka i funkcija\n",
    "import numpy as np\n",
    "import pandas as pd\n",
    "import seaborn as sns\n",
    "import matplotlib.pyplot as plt\n",
    "from sklearn.model_selection import train_test_split\n",
    "from sklearn.preprocessing import StandardScaler, PolynomialFeatures\n",
    "from sklearn.linear_model import LinearRegression, Ridge, Lasso\n",
    "from sklearn.model_selection import GridSearchCV, KFold\n",
    "from sklearn.feature_selection import RFE\n",
    "from sklearn.metrics import mean_squared_error, mean_absolute_error, r2_score\n",
    "from sklearn.model_selection import GridSearchCV"
   ]
  },
  {
   "cell_type": "markdown",
   "metadata": {},
   "source": [
    "##### Loading the dataset"
   ]
  },
  {
   "cell_type": "code",
   "execution_count": 410,
   "metadata": {},
   "outputs": [
    {
     "name": "stdout",
     "output_type": "stream",
     "text": [
      "Index(['acousticness', 'artists', 'danceability', 'duration_ms', 'energy',\n",
      "       'explicit', 'id', 'instrumentalness', 'key', 'liveness', 'loudness',\n",
      "       'mode', 'name', 'popularity', 'release_date', 'speechiness', 'tempo',\n",
      "       'valence', 'year'],\n",
      "      dtype='object')\n"
     ]
    }
   ],
   "source": [
    "df = pd.read_csv('Datasets/data.csv')\n",
    "df.head()\n",
    "print(df.columns)"
   ]
  },
  {
   "cell_type": "markdown",
   "metadata": {},
   "source": []
  },
  {
   "cell_type": "code",
   "execution_count": 411,
   "metadata": {},
   "outputs": [
    {
     "data": {
      "text/plain": [
       "<bound method NDFrame.describe of 0         0.6340\n",
       "1         0.9500\n",
       "2         0.6890\n",
       "3         0.0422\n",
       "4         0.2990\n",
       "           ...  \n",
       "174384    0.1860\n",
       "174385    0.2280\n",
       "174386    0.7140\n",
       "174387    0.3200\n",
       "174388    0.7470\n",
       "Name: valence, Length: 174389, dtype: float64>"
      ]
     },
     "execution_count": 411,
     "metadata": {},
     "output_type": "execute_result"
    }
   ],
   "source": [
    "df['valence'].describe"
   ]
  },
  {
   "cell_type": "markdown",
   "metadata": {},
   "source": [
    "##### Dropping invalid and missing values"
   ]
  },
  {
   "cell_type": "code",
   "execution_count": 412,
   "metadata": {},
   "outputs": [],
   "source": [
    "# columns_to_drop = ['track_id', 'track_artist', 'track_name', 'track_album_id', 'track_album_name', 'playlist_name', 'playlist_id']\n",
    "columns_to_drop = ['artists', 'id', 'name', 'release_date']\n",
    "df.drop(columns=columns_to_drop, inplace=True)\n",
    "df.dropna(axis=0, inplace=True)\n",
    "\n",
    "# # df = df[df['track_popularity'] < 15]\n",
    "\n",
    "# rows_to_drop = df.loc[df['duration_ms'] < 20000].index\n",
    "# df.drop(rows_to_drop, inplace=True)\n",
    "\n",
    "# new_df = df.__deepcopy__()\n",
    "\n",
    "# # # Assuming 'date' is a string column in the format 'YYYY-MM-DD'\n",
    "# df['year'] = df['year'].str.split('-', expand=True)['year']\n",
    "\n",
    "# # Convert the columns to numeric (to handle missing values during median calculation)\n",
    "# new_df['year'] = pd.to_numeric(new_df['year'], errors='coerce', downcast='integer')\n",
    "# # new_df['month'] = pd.to_numeric(new_df['month'], errors='coerce', downcast='integer')\n",
    "# # new_df['day'] = pd.to_numeric(new_df['day'], errors='coerce', downcast='integer')\n",
    "\n",
    "# # Calculate median values for year, month, and day\n",
    "# median_year = int(new_df['year'].median())\n",
    "# # median_month = int(new_df['month'].median())\n",
    "# # median_day = int(new_df['day'].median())\n",
    "\n",
    "# # Fill missing values with median values\n",
    "# new_df['year'] = new_df['year'].fillna(median_year).astype(int)\n",
    "# # new_df['month'] = new_df['month'].fillna(median_month).astype(int)\n",
    "# # new_df['day'] = new_df['day'].fillna(median_day).astype(int)\n",
    "\n",
    "# X = new_df.drop(['track_popularity', 'track_album_release_date', 'year', 'month', 'day'], axis=1)\n",
    "# # X.columns\n",
    "\n",
    "# X = pd.get_dummies(X, dtype=int)\n",
    "# X['year'] = new_df['year']\n",
    "# y = new_df['track_popularity']\n",
    "X = df\n"
   ]
  },
  {
   "cell_type": "code",
   "execution_count": 413,
   "metadata": {},
   "outputs": [],
   "source": [
    "y = df['popularity']\n",
    "X = df.drop(columns=['popularity'])"
   ]
  },
  {
   "cell_type": "code",
   "execution_count": 414,
   "metadata": {},
   "outputs": [],
   "source": [
    "X = pd.read_csv('Datasets/data_merged.csv')"
   ]
  },
  {
   "cell_type": "code",
   "execution_count": 415,
   "metadata": {},
   "outputs": [],
   "source": [
    "# X.tail()\n",
    "y = X['popularity']\n",
    "X = X.drop(columns=['popularity'])"
   ]
  },
  {
   "cell_type": "code",
   "execution_count": 416,
   "metadata": {},
   "outputs": [
    {
     "data": {
      "text/plain": [
       "acousticness         0.994\n",
       "danceability         0.765\n",
       "duration_ms     155093.000\n",
       "energy               0.398\n",
       "explicit             0.000\n",
       "                   ...    \n",
       "key_2_yr             0.000\n",
       "key_3_yr             0.000\n",
       "key_4_yr             1.000\n",
       "key_5_yr             0.000\n",
       "key_6_yr             0.000\n",
       "Name: 3446, Length: 71, dtype: float64"
      ]
     },
     "execution_count": 416,
     "metadata": {},
     "output_type": "execute_result"
    }
   ],
   "source": [
    "df.iloc[3446]\n",
    "X.iloc[3446]"
   ]
  },
  {
   "cell_type": "markdown",
   "metadata": {},
   "source": [
    "##### Splitting the dataset"
   ]
  },
  {
   "cell_type": "code",
   "execution_count": 417,
   "metadata": {},
   "outputs": [],
   "source": [
    "X_train, X_test, y_train, y_test = train_test_split(X, y, test_size=0.05, random_state=42)"
   ]
  },
  {
   "cell_type": "code",
   "execution_count": 418,
   "metadata": {},
   "outputs": [
    {
     "data": {
      "text/plain": [
       "(array([4.7506e+04, 6.3260e+03, 6.3620e+03, 5.8390e+03, 5.9340e+03,\n",
       "        8.5310e+03, 1.0041e+04, 1.0233e+04, 1.1038e+04, 1.0537e+04,\n",
       "        9.2690e+03, 8.1170e+03, 7.4910e+03, 6.4340e+03, 5.3100e+03,\n",
       "        4.3440e+03, 3.3500e+03, 2.4420e+03, 1.6510e+03, 8.7600e+02,\n",
       "        3.8700e+02, 1.3600e+02, 5.8000e+01, 1.5000e+01, 3.0000e+00]),\n",
       " array([  0.,   4.,   8.,  12.,  16.,  20.,  24.,  28.,  32.,  36.,  40.,\n",
       "         44.,  48.,  52.,  56.,  60.,  64.,  68.,  72.,  76.,  80.,  84.,\n",
       "         88.,  92.,  96., 100.]),\n",
       " <BarContainer object of 25 artists>)"
      ]
     },
     "execution_count": 418,
     "metadata": {},
     "output_type": "execute_result"
    },
    {
     "data": {
      "image/png": "[encoded data removed]",
      "text/plain": [
       "<Figure size 640x480 with 1 Axes>"
      ]
     },
     "metadata": {},
     "output_type": "display_data"
    }
   ],
   "source": [
    "plt.hist(y, bins=25)"
   ]
  },
  {
   "cell_type": "code",
   "execution_count": 419,
   "metadata": {},
   "outputs": [
    {
     "data": {
      "text/html": [
       "<div>\n",
       "<style scoped>\n",
       "    .dataframe tbody tr th:only-of-type {\n",
       "        vertical-align: middle;\n",
       "    }\n",
       "\n",
       "    .dataframe tbody tr th {\n",
       "        vertical-align: top;\n",
       "    }\n",
       "\n",
       "    .dataframe thead th {\n",
       "        text-align: right;\n",
       "    }\n",
       "</style>\n",
       "<table border=\"1\" class=\"dataframe\">\n",
       "  <thead>\n",
       "    <tr style=\"text-align: right;\">\n",
       "      <th></th>\n",
       "      <th>acousticness</th>\n",
       "      <th>danceability</th>\n",
       "      <th>duration_ms</th>\n",
       "      <th>energy</th>\n",
       "      <th>explicit</th>\n",
       "      <th>instrumentalness</th>\n",
       "      <th>liveness</th>\n",
       "      <th>loudness</th>\n",
       "      <th>speechiness</th>\n",
       "      <th>tempo</th>\n",
       "      <th>...</th>\n",
       "      <th>valence_yr</th>\n",
       "      <th>popularity_yr</th>\n",
       "      <th>mode</th>\n",
       "      <th>key_0_yr</th>\n",
       "      <th>key_1_yr</th>\n",
       "      <th>key_2_yr</th>\n",
       "      <th>key_3_yr</th>\n",
       "      <th>key_4_yr</th>\n",
       "      <th>key_5_yr</th>\n",
       "      <th>key_6_yr</th>\n",
       "    </tr>\n",
       "  </thead>\n",
       "  <tbody>\n",
       "    <tr>\n",
       "      <th>count</th>\n",
       "      <td>172230.000000</td>\n",
       "      <td>172230.000000</td>\n",
       "      <td>1.722300e+05</td>\n",
       "      <td>172230.000000</td>\n",
       "      <td>172230.000000</td>\n",
       "      <td>172230.000000</td>\n",
       "      <td>172230.000000</td>\n",
       "      <td>172230.000000</td>\n",
       "      <td>172230.000000</td>\n",
       "      <td>172230.000000</td>\n",
       "      <td>...</td>\n",
       "      <td>172230.000000</td>\n",
       "      <td>172230.000000</td>\n",
       "      <td>172230.0</td>\n",
       "      <td>172230.000000</td>\n",
       "      <td>172230.000000</td>\n",
       "      <td>172230.000000</td>\n",
       "      <td>172230.000000</td>\n",
       "      <td>172230.000000</td>\n",
       "      <td>172230.000000</td>\n",
       "      <td>172230.000000</td>\n",
       "    </tr>\n",
       "    <tr>\n",
       "      <th>mean</th>\n",
       "      <td>0.501914</td>\n",
       "      <td>0.536246</td>\n",
       "      <td>2.326718e+05</td>\n",
       "      <td>0.480989</td>\n",
       "      <td>0.067956</td>\n",
       "      <td>0.194968</td>\n",
       "      <td>0.211396</td>\n",
       "      <td>-11.777780</td>\n",
       "      <td>0.105896</td>\n",
       "      <td>116.937762</td>\n",
       "      <td>...</td>\n",
       "      <td>0.525269</td>\n",
       "      <td>25.711704</td>\n",
       "      <td>1.0</td>\n",
       "      <td>0.365111</td>\n",
       "      <td>0.058857</td>\n",
       "      <td>0.096325</td>\n",
       "      <td>0.052262</td>\n",
       "      <td>0.329356</td>\n",
       "      <td>0.092243</td>\n",
       "      <td>0.005847</td>\n",
       "    </tr>\n",
       "    <tr>\n",
       "      <th>std</th>\n",
       "      <td>0.379394</td>\n",
       "      <td>0.175858</td>\n",
       "      <td>1.471768e+05</td>\n",
       "      <td>0.272032</td>\n",
       "      <td>0.251670</td>\n",
       "      <td>0.332974</td>\n",
       "      <td>0.180661</td>\n",
       "      <td>5.690105</td>\n",
       "      <td>0.183053</td>\n",
       "      <td>30.290836</td>\n",
       "      <td>...</td>\n",
       "      <td>0.055638</td>\n",
       "      <td>15.219180</td>\n",
       "      <td>0.0</td>\n",
       "      <td>0.481463</td>\n",
       "      <td>0.235358</td>\n",
       "      <td>0.295037</td>\n",
       "      <td>0.222555</td>\n",
       "      <td>0.469981</td>\n",
       "      <td>0.289369</td>\n",
       "      <td>0.076241</td>\n",
       "    </tr>\n",
       "    <tr>\n",
       "      <th>min</th>\n",
       "      <td>0.000000</td>\n",
       "      <td>0.000000</td>\n",
       "      <td>4.937000e+03</td>\n",
       "      <td>0.000000</td>\n",
       "      <td>0.000000</td>\n",
       "      <td>0.000000</td>\n",
       "      <td>0.000000</td>\n",
       "      <td>-60.000000</td>\n",
       "      <td>0.000000</td>\n",
       "      <td>0.000000</td>\n",
       "      <td>...</td>\n",
       "      <td>0.378276</td>\n",
       "      <td>0.090909</td>\n",
       "      <td>1.0</td>\n",
       "      <td>0.000000</td>\n",
       "      <td>0.000000</td>\n",
       "      <td>0.000000</td>\n",
       "      <td>0.000000</td>\n",
       "      <td>0.000000</td>\n",
       "      <td>0.000000</td>\n",
       "      <td>0.000000</td>\n",
       "    </tr>\n",
       "    <tr>\n",
       "      <th>25%</th>\n",
       "      <td>0.091300</td>\n",
       "      <td>0.414000</td>\n",
       "      <td>1.662000e+05</td>\n",
       "      <td>0.248000</td>\n",
       "      <td>0.000000</td>\n",
       "      <td>0.000000</td>\n",
       "      <td>0.099300</td>\n",
       "      <td>-14.935750</td>\n",
       "      <td>0.035200</td>\n",
       "      <td>93.834000</td>\n",
       "      <td>...</td>\n",
       "      <td>0.478115</td>\n",
       "      <td>7.750543</td>\n",
       "      <td>1.0</td>\n",
       "      <td>0.000000</td>\n",
       "      <td>0.000000</td>\n",
       "      <td>0.000000</td>\n",
       "      <td>0.000000</td>\n",
       "      <td>0.000000</td>\n",
       "      <td>0.000000</td>\n",
       "      <td>0.000000</td>\n",
       "    </tr>\n",
       "    <tr>\n",
       "      <th>50%</th>\n",
       "      <td>0.523000</td>\n",
       "      <td>0.547000</td>\n",
       "      <td>2.057175e+05</td>\n",
       "      <td>0.463000</td>\n",
       "      <td>0.000000</td>\n",
       "      <td>0.000498</td>\n",
       "      <td>0.138000</td>\n",
       "      <td>-10.867000</td>\n",
       "      <td>0.045400</td>\n",
       "      <td>115.657000</td>\n",
       "      <td>...</td>\n",
       "      <td>0.538017</td>\n",
       "      <td>31.149276</td>\n",
       "      <td>1.0</td>\n",
       "      <td>0.000000</td>\n",
       "      <td>0.000000</td>\n",
       "      <td>0.000000</td>\n",
       "      <td>0.000000</td>\n",
       "      <td>0.000000</td>\n",
       "      <td>0.000000</td>\n",
       "      <td>0.000000</td>\n",
       "    </tr>\n",
       "    <tr>\n",
       "      <th>75%</th>\n",
       "      <td>0.896000</td>\n",
       "      <td>0.668000</td>\n",
       "      <td>2.656000e+05</td>\n",
       "      <td>0.708000</td>\n",
       "      <td>0.000000</td>\n",
       "      <td>0.238000</td>\n",
       "      <td>0.270000</td>\n",
       "      <td>-7.532000</td>\n",
       "      <td>0.076000</td>\n",
       "      <td>134.991000</td>\n",
       "      <td>...</td>\n",
       "      <td>0.563010</td>\n",
       "      <td>36.556552</td>\n",
       "      <td>1.0</td>\n",
       "      <td>1.000000</td>\n",
       "      <td>0.000000</td>\n",
       "      <td>0.000000</td>\n",
       "      <td>0.000000</td>\n",
       "      <td>1.000000</td>\n",
       "      <td>0.000000</td>\n",
       "      <td>0.000000</td>\n",
       "    </tr>\n",
       "    <tr>\n",
       "      <th>max</th>\n",
       "      <td>0.996000</td>\n",
       "      <td>0.988000</td>\n",
       "      <td>5.338302e+06</td>\n",
       "      <td>1.000000</td>\n",
       "      <td>1.000000</td>\n",
       "      <td>1.000000</td>\n",
       "      <td>1.000000</td>\n",
       "      <td>3.855000</td>\n",
       "      <td>0.971000</td>\n",
       "      <td>243.507000</td>\n",
       "      <td>...</td>\n",
       "      <td>0.669676</td>\n",
       "      <td>50.873598</td>\n",
       "      <td>1.0</td>\n",
       "      <td>1.000000</td>\n",
       "      <td>1.000000</td>\n",
       "      <td>1.000000</td>\n",
       "      <td>1.000000</td>\n",
       "      <td>1.000000</td>\n",
       "      <td>1.000000</td>\n",
       "      <td>1.000000</td>\n",
       "    </tr>\n",
       "  </tbody>\n",
       "</table>\n",
       "<p>8 rows × 71 columns</p>\n",
       "</div>"
      ],
      "text/plain": [
       "        acousticness   danceability   duration_ms         energy  \\\n",
       "count  172230.000000  172230.000000  1.722300e+05  172230.000000   \n",
       "mean        0.501914       0.536246  2.326718e+05       0.480989   \n",
       "std         0.379394       0.175858  1.471768e+05       0.272032   \n",
       "min         0.000000       0.000000  4.937000e+03       0.000000   \n",
       "25%         0.091300       0.414000  1.662000e+05       0.248000   \n",
       "50%         0.523000       0.547000  2.057175e+05       0.463000   \n",
       "75%         0.896000       0.668000  2.656000e+05       0.708000   \n",
       "max         0.996000       0.988000  5.338302e+06       1.000000   \n",
       "\n",
       "            explicit  instrumentalness       liveness       loudness  \\\n",
       "count  172230.000000     172230.000000  172230.000000  172230.000000   \n",
       "mean        0.067956          0.194968       0.211396     -11.777780   \n",
       "std         0.251670          0.332974       0.180661       5.690105   \n",
       "min         0.000000          0.000000       0.000000     -60.000000   \n",
       "25%         0.000000          0.000000       0.099300     -14.935750   \n",
       "50%         0.000000          0.000498       0.138000     -10.867000   \n",
       "75%         0.000000          0.238000       0.270000      -7.532000   \n",
       "max         1.000000          1.000000       1.000000       3.855000   \n",
       "\n",
       "         speechiness          tempo  ...     valence_yr  popularity_yr  \\\n",
       "count  172230.000000  172230.000000  ...  172230.000000  172230.000000   \n",
       "mean        0.105896     116.937762  ...       0.525269      25.711704   \n",
       "std         0.183053      30.290836  ...       0.055638      15.219180   \n",
       "min         0.000000       0.000000  ...       0.378276       0.090909   \n",
       "25%         0.035200      93.834000  ...       0.478115       7.750543   \n",
       "50%         0.045400     115.657000  ...       0.538017      31.149276   \n",
       "75%         0.076000     134.991000  ...       0.563010      36.556552   \n",
       "max         0.971000     243.507000  ...       0.669676      50.873598   \n",
       "\n",
       "           mode       key_0_yr       key_1_yr       key_2_yr       key_3_yr  \\\n",
       "count  172230.0  172230.000000  172230.000000  172230.000000  172230.000000   \n",
       "mean        1.0       0.365111       0.058857       0.096325       0.052262   \n",
       "std         0.0       0.481463       0.235358       0.295037       0.222555   \n",
       "min         1.0       0.000000       0.000000       0.000000       0.000000   \n",
       "25%         1.0       0.000000       0.000000       0.000000       0.000000   \n",
       "50%         1.0       0.000000       0.000000       0.000000       0.000000   \n",
       "75%         1.0       1.000000       0.000000       0.000000       0.000000   \n",
       "max         1.0       1.000000       1.000000       1.000000       1.000000   \n",
       "\n",
       "            key_4_yr       key_5_yr       key_6_yr  \n",
       "count  172230.000000  172230.000000  172230.000000  \n",
       "mean        0.329356       0.092243       0.005847  \n",
       "std         0.469981       0.289369       0.076241  \n",
       "min         0.000000       0.000000       0.000000  \n",
       "25%         0.000000       0.000000       0.000000  \n",
       "50%         0.000000       0.000000       0.000000  \n",
       "75%         1.000000       0.000000       0.000000  \n",
       "max         1.000000       1.000000       1.000000  \n",
       "\n",
       "[8 rows x 71 columns]"
      ]
     },
     "execution_count": 419,
     "metadata": {},
     "output_type": "execute_result"
    }
   ],
   "source": [
    "X.describe()"
   ]
  },
  {
   "cell_type": "code",
   "execution_count": null,
   "metadata": {},
   "outputs": [],
   "source": []
  },
  {
   "cell_type": "code",
   "execution_count": 420,
   "metadata": {},
   "outputs": [
    {
     "name": "stdout",
     "output_type": "stream",
     "text": [
      "Index(['acousticness', 'danceability', 'duration_ms', 'energy', 'explicit',\n",
      "       'instrumentalness', 'liveness', 'loudness', 'speechiness', 'tempo',\n",
      "       'valence', 'year', 'key_0', 'key_1', 'key_2', 'key_3', 'key_4', 'key_5',\n",
      "       'key_6', 'key_7', 'key_8', 'key_9', 'key_10', 'key_11', 'minor',\n",
      "       'major', 'acousticness_ar', 'danceability_ar', 'duration_ms_ar',\n",
      "       'energy_ar', 'instrumentalness_ar', 'liveness_ar', 'loudness_ar',\n",
      "       'speechiness_ar', 'tempo_ar', 'valence_ar', 'popularity_ar', 'count',\n",
      "       'key_0_ar', 'key_1_ar', 'key_2_ar', 'key_3_ar', 'key_4_ar', 'key_5_ar',\n",
      "       'key_6_ar', 'key_7_ar', 'key_8_ar', 'key_9_ar', 'key_10_ar',\n",
      "       'key_11_ar', 'minor_ar', 'major_ar', 'acousticness_yr',\n",
      "       'danceability_yr', 'duration_ms_yr', 'energy_yr', 'instrumentalness_yr',\n",
      "       'liveness_yr', 'loudness_yr', 'speechiness_yr', 'tempo_yr',\n",
      "       'valence_yr', 'popularity_yr', 'mode', 'key_0_yr', 'key_1_yr',\n",
      "       'key_2_yr', 'key_3_yr', 'key_4_yr', 'key_5_yr', 'key_6_yr'],\n",
      "      dtype='object')\n",
      "        danceability  energy  loudness  speechiness  acousticness  \\\n",
      "0             0.2560   0.895    -4.860       0.0707      0.013100   \n",
      "1             0.2770   0.145   -19.898       0.0845      0.980000   \n",
      "2             0.6850   0.483   -10.202       0.0337      0.795000   \n",
      "3             0.7880   0.808    -6.590       0.0395      0.656000   \n",
      "4             0.0753   0.150   -16.705       0.0371      0.302000   \n",
      "...              ...     ...       ...          ...           ...   \n",
      "172225        0.5670   0.862    -5.617       0.0670      0.000067   \n",
      "172226        0.3960   0.979    -9.138       0.0878      0.000994   \n",
      "172227        0.6380   0.156   -17.372       0.0741      0.864000   \n",
      "172228        0.5330   0.547    -9.290       0.0326      0.029900   \n",
      "172229        0.5260   0.432   -11.197       0.0306      0.141000   \n",
      "\n",
      "        instrumentalness  liveness  valence    tempo  duration_ms  \n",
      "0               0.000106    0.0821   0.5550  191.307       182347  \n",
      "1               0.879000    0.1110   0.4940   75.644       206972  \n",
      "2               0.878000    0.1130   0.8540   97.694       314667  \n",
      "3               0.000000    0.1540   0.9690  113.046       179747  \n",
      "4               0.884000    0.1210   0.0351   76.558       498560  \n",
      "...                  ...       ...      ...      ...          ...  \n",
      "172225          0.875000    0.4810   0.7800  102.828        37000  \n",
      "172226          0.609000    0.1360   0.2590  161.461       501824  \n",
      "172227          0.000000    0.1830   0.4430  103.905       161560  \n",
      "172228          0.011300    0.0723   0.6690   72.506       342827  \n",
      "172229          0.000120    0.1340   0.7930  114.362       139514  \n",
      "\n",
      "[172230 rows x 10 columns]\n"
     ]
    }
   ],
   "source": [
    "print(X.columns)\n",
    "\n",
    "numeric_feats = ['danceability', 'energy', 'loudness', 'speechiness', 'acousticness', 'instrumentalness', 'liveness', 'valence', 'tempo', 'duration_ms']\n",
    "dummy_feats = [feat for feat in X.columns if feat not in numeric_feats]\n",
    "\n",
    "print(X[numeric_feats])"
   ]
  },
  {
   "cell_type": "code",
   "execution_count": 421,
   "metadata": {},
   "outputs": [
    {
     "data": {
      "text/plain": [
       "<Axes: >"
      ]
     },
     "execution_count": 421,
     "metadata": {},
     "output_type": "execute_result"
    },
    {
     "data": {
      "image/png": "[encoded data removed]",
      "text/plain": [
       "<Figure size 1000x800 with 2 Axes>"
      ]
     },
     "metadata": {},
     "output_type": "display_data"
    }
   ],
   "source": [
    "numeric_values = df[numeric_feats]\n",
    "correlation_matrix = numeric_values.corr()\n",
    "plt.figure(figsize=(10,8))\n",
    "sns.heatmap(correlation_matrix, annot=True, cmap='coolwarm', fmt=\".2f\", linewidths=0.5)"
   ]
  },
  {
   "cell_type": "code",
   "execution_count": 422,
   "metadata": {},
   "outputs": [],
   "source": [
    "def model_evaluation(y_test, y_predicted, N, d):\n",
    "    mse = mean_squared_error(y_test, y_predicted)\n",
    "    mae = mean_absolute_error(y_test, y_predicted)\n",
    "    rmse = np.sqrt(mse)\n",
    "    r2 = r2_score(y_test, y_predicted)\n",
    "    r2_adj = 1 - ((1 - r2) * (N - 1)) / (N - d - 1)\n",
    "\n",
    "    # printing values\n",
    "    print('Mean squared error: ', mse)\n",
    "    print('Mean absolute error: ', mae)\n",
    "    print('Root mean squared error: ', rmse)\n",
    "    print('R2 score: ', r2)\n",
    "    print('R2 adjusted score: ', r2_adj)\n",
    "\n",
    "    # Uporedni prikaz nekoliko pravih i predvidjenih vrednosti\n",
    "    res = pd.concat([pd.DataFrame(y_test.values),\n",
    "                    pd.DataFrame(y_predicted)], axis=1)\n",
    "    res.columns = ['y', 'y_pred']\n",
    "    print(res.head(20))\n",
    "    return mse, mae, rmse, r2, r2_adj"
   ]
  },
  {
   "cell_type": "code",
   "execution_count": null,
   "metadata": {},
   "outputs": [],
   "source": []
  },
  {
   "cell_type": "markdown",
   "metadata": {},
   "source": [
    "##### Scaling the data"
   ]
  },
  {
   "cell_type": "code",
   "execution_count": 423,
   "metadata": {},
   "outputs": [
    {
     "data": {
      "text/html": [
       "<div>\n",
       "<style scoped>\n",
       "    .dataframe tbody tr th:only-of-type {\n",
       "        vertical-align: middle;\n",
       "    }\n",
       "\n",
       "    .dataframe tbody tr th {\n",
       "        vertical-align: top;\n",
       "    }\n",
       "\n",
       "    .dataframe thead th {\n",
       "        text-align: right;\n",
       "    }\n",
       "</style>\n",
       "<table border=\"1\" class=\"dataframe\">\n",
       "  <thead>\n",
       "    <tr style=\"text-align: right;\">\n",
       "      <th></th>\n",
       "      <th>acousticness</th>\n",
       "      <th>danceability</th>\n",
       "      <th>duration_ms</th>\n",
       "      <th>energy</th>\n",
       "      <th>explicit</th>\n",
       "      <th>instrumentalness</th>\n",
       "      <th>liveness</th>\n",
       "      <th>loudness</th>\n",
       "      <th>speechiness</th>\n",
       "      <th>tempo</th>\n",
       "      <th>...</th>\n",
       "      <th>valence_yr</th>\n",
       "      <th>popularity_yr</th>\n",
       "      <th>mode</th>\n",
       "      <th>key_0_yr</th>\n",
       "      <th>key_1_yr</th>\n",
       "      <th>key_2_yr</th>\n",
       "      <th>key_3_yr</th>\n",
       "      <th>key_4_yr</th>\n",
       "      <th>key_5_yr</th>\n",
       "      <th>key_6_yr</th>\n",
       "    </tr>\n",
       "  </thead>\n",
       "  <tbody>\n",
       "    <tr>\n",
       "      <th>0</th>\n",
       "      <td>-0.558491</td>\n",
       "      <td>-0.062616</td>\n",
       "      <td>0.464918</td>\n",
       "      <td>-0.427005</td>\n",
       "      <td>0.733870</td>\n",
       "      <td>-0.586025</td>\n",
       "      <td>-0.279478</td>\n",
       "      <td>-0.897127</td>\n",
       "      <td>-0.330549</td>\n",
       "      <td>0.599954</td>\n",
       "      <td>...</td>\n",
       "      <td>0.545356</td>\n",
       "      <td>44.645782</td>\n",
       "      <td>1</td>\n",
       "      <td>0</td>\n",
       "      <td>0</td>\n",
       "      <td>0</td>\n",
       "      <td>0</td>\n",
       "      <td>1</td>\n",
       "      <td>0</td>\n",
       "      <td>0</td>\n",
       "    </tr>\n",
       "    <tr>\n",
       "      <th>1</th>\n",
       "      <td>1.329151</td>\n",
       "      <td>-0.709629</td>\n",
       "      <td>-0.465205</td>\n",
       "      <td>2.675894</td>\n",
       "      <td>1.189820</td>\n",
       "      <td>-0.586033</td>\n",
       "      <td>3.172283</td>\n",
       "      <td>1.345996</td>\n",
       "      <td>-1.243968</td>\n",
       "      <td>-1.057324</td>\n",
       "      <td>...</td>\n",
       "      <td>0.512847</td>\n",
       "      <td>0.221074</td>\n",
       "      <td>1</td>\n",
       "      <td>1</td>\n",
       "      <td>0</td>\n",
       "      <td>0</td>\n",
       "      <td>0</td>\n",
       "      <td>0</td>\n",
       "      <td>0</td>\n",
       "      <td>0</td>\n",
       "    </tr>\n",
       "    <tr>\n",
       "      <th>2</th>\n",
       "      <td>0.089675</td>\n",
       "      <td>0.488816</td>\n",
       "      <td>0.115639</td>\n",
       "      <td>-0.357118</td>\n",
       "      <td>-1.031946</td>\n",
       "      <td>1.994546</td>\n",
       "      <td>-0.705969</td>\n",
       "      <td>-0.269204</td>\n",
       "      <td>1.750931</td>\n",
       "      <td>-0.170220</td>\n",
       "      <td>...</td>\n",
       "      <td>0.538017</td>\n",
       "      <td>36.973094</td>\n",
       "      <td>1</td>\n",
       "      <td>1</td>\n",
       "      <td>0</td>\n",
       "      <td>0</td>\n",
       "      <td>0</td>\n",
       "      <td>0</td>\n",
       "      <td>0</td>\n",
       "      <td>0</td>\n",
       "    </tr>\n",
       "    <tr>\n",
       "      <th>3</th>\n",
       "      <td>-1.178229</td>\n",
       "      <td>0.308682</td>\n",
       "      <td>-0.232938</td>\n",
       "      <td>-0.395337</td>\n",
       "      <td>-1.160033</td>\n",
       "      <td>-0.585974</td>\n",
       "      <td>-0.473086</td>\n",
       "      <td>-1.358613</td>\n",
       "      <td>-0.266500</td>\n",
       "      <td>-0.146447</td>\n",
       "      <td>...</td>\n",
       "      <td>0.555559</td>\n",
       "      <td>42.348064</td>\n",
       "      <td>1</td>\n",
       "      <td>0</td>\n",
       "      <td>0</td>\n",
       "      <td>0</td>\n",
       "      <td>0</td>\n",
       "      <td>1</td>\n",
       "      <td>0</td>\n",
       "      <td>0</td>\n",
       "    </tr>\n",
       "    <tr>\n",
       "      <th>4</th>\n",
       "      <td>-0.694947</td>\n",
       "      <td>-1.356642</td>\n",
       "      <td>-1.422385</td>\n",
       "      <td>-0.390970</td>\n",
       "      <td>1.184548</td>\n",
       "      <td>-0.585757</td>\n",
       "      <td>-0.658950</td>\n",
       "      <td>-1.506138</td>\n",
       "      <td>0.434601</td>\n",
       "      <td>0.093228</td>\n",
       "      <td>...</td>\n",
       "      <td>0.593672</td>\n",
       "      <td>33.923039</td>\n",
       "      <td>1</td>\n",
       "      <td>0</td>\n",
       "      <td>0</td>\n",
       "      <td>1</td>\n",
       "      <td>0</td>\n",
       "      <td>0</td>\n",
       "      <td>0</td>\n",
       "      <td>0</td>\n",
       "    </tr>\n",
       "  </tbody>\n",
       "</table>\n",
       "<p>5 rows × 71 columns</p>\n",
       "</div>"
      ],
      "text/plain": [
       "   acousticness  danceability  duration_ms    energy  explicit  \\\n",
       "0     -0.558491     -0.062616     0.464918 -0.427005  0.733870   \n",
       "1      1.329151     -0.709629    -0.465205  2.675894  1.189820   \n",
       "2      0.089675      0.488816     0.115639 -0.357118 -1.031946   \n",
       "3     -1.178229      0.308682    -0.232938 -0.395337 -1.160033   \n",
       "4     -0.694947     -1.356642    -1.422385 -0.390970  1.184548   \n",
       "\n",
       "   instrumentalness  liveness  loudness  speechiness     tempo  ...  \\\n",
       "0         -0.586025 -0.279478 -0.897127    -0.330549  0.599954  ...   \n",
       "1         -0.586033  3.172283  1.345996    -1.243968 -1.057324  ...   \n",
       "2          1.994546 -0.705969 -0.269204     1.750931 -0.170220  ...   \n",
       "3         -0.585974 -0.473086 -1.358613    -0.266500 -0.146447  ...   \n",
       "4         -0.585757 -0.658950 -1.506138     0.434601  0.093228  ...   \n",
       "\n",
       "   valence_yr  popularity_yr  mode  key_0_yr  key_1_yr  key_2_yr  key_3_yr  \\\n",
       "0    0.545356      44.645782     1         0         0         0         0   \n",
       "1    0.512847       0.221074     1         1         0         0         0   \n",
       "2    0.538017      36.973094     1         1         0         0         0   \n",
       "3    0.555559      42.348064     1         0         0         0         0   \n",
       "4    0.593672      33.923039     1         0         0         1         0   \n",
       "\n",
       "   key_4_yr  key_5_yr  key_6_yr  \n",
       "0         1         0         0  \n",
       "1         0         0         0  \n",
       "2         0         0         0  \n",
       "3         1         0         0  \n",
       "4         0         0         0  \n",
       "\n",
       "[5 rows x 71 columns]"
      ]
     },
     "execution_count": 423,
     "metadata": {},
     "output_type": "execute_result"
    }
   ],
   "source": [
    "s = StandardScaler()\n",
    "s.fit(X_train[numeric_feats])\n",
    "X_train_std = s.transform(X_train[numeric_feats])\n",
    "X_test_std = s.transform(X_test[numeric_feats])\n",
    "X_train_std = pd.DataFrame(X_train_std)\n",
    "X_test_std = pd.DataFrame(X_test_std)\n",
    "\n",
    "X_train_std = pd.concat([X_train_std, X_train[dummy_feats].reset_index(drop=True)], axis=1)\n",
    "X_test_std = pd.concat([X_test_std, X_test[dummy_feats].reset_index(drop=True)], axis=1)\n",
    "\n",
    "X_train_std.columns = list(X.columns)\n",
    "X_test_std.columns = list(X.columns)\n",
    "X_train_std.head()"
   ]
  },
  {
   "cell_type": "code",
   "execution_count": 424,
   "metadata": {},
   "outputs": [],
   "source": [
    "# folds = KFold(n_splits=5, shuffle=True, random_state=42)\n",
    "# hyper_params = [{'n_features_to_select': list(range(1, 16))}]\n",
    "\n",
    "# lm = LinearRegression()\n",
    "# lm.fit(X_train_std, y_train)\n",
    "# rfe = RFE(lm)\n",
    "\n",
    "# model_cv = GridSearchCV(\n",
    "#     estimator=rfe,\n",
    "#     param_grid=hyper_params,\n",
    "#     scoring='r2',\n",
    "#     cv=folds,\n",
    "#     verbose=1,\n",
    "#     return_train_score=True\n",
    "# )\n",
    "\n",
    "# model_cv.fit(X_train_std, y_train)\n",
    "# cv_results = pd.DataFrame(model_cv.cv_results_)\n",
    "# cv_results"
   ]
  },
  {
   "cell_type": "code",
   "execution_count": 425,
   "metadata": {},
   "outputs": [],
   "source": [
    "# # plotting cv results\n",
    "# plt.figure(figsize=(16,6))\n",
    "\n",
    "# plt.plot(cv_results[\"param_n_features_to_select\"], cv_results[\"mean_test_score\"])\n",
    "# plt.plot(cv_results[\"param_n_features_to_select\"], cv_results[\"mean_train_score\"])\n",
    "# plt.xlabel('number of features')\n",
    "# plt.ylabel('r-squared')\n",
    "# plt.title(\"Optimal Number of Features\")\n",
    "# plt.legend(['test score', 'train score'], loc='upper left')"
   ]
  },
  {
   "cell_type": "markdown",
   "metadata": {},
   "source": [
    "Optimal number of features is 13"
   ]
  },
  {
   "cell_type": "code",
   "execution_count": 426,
   "metadata": {},
   "outputs": [
    {
     "name": "stdout",
     "output_type": "stream",
     "text": [
      "r2: 0.8298596707098379\n",
      "mse 80.64295679395921\n"
     ]
    }
   ],
   "source": [
    "# final model\n",
    "n_features_optimal = 12\n",
    "\n",
    "lrm = LinearRegression()\n",
    "lrm.fit(X_train, y_train)\n",
    "\n",
    "rfe = RFE(lrm, n_features_to_select=n_features_optimal)             \n",
    "rfe = rfe.fit(X_train, y_train)\n",
    "\n",
    "# predict prices of X_test\n",
    "y_pred = lrm.predict(X_test)\n",
    "r2 = r2_score(y_test, y_pred)\n",
    "mse = mean_squared_error(y_test, y_pred)\n",
    "print(\"r2:\", r2)\n",
    "print(\"mse\", mse)"
   ]
  },
  {
   "cell_type": "code",
   "execution_count": 427,
   "metadata": {},
   "outputs": [],
   "source": [
    "def standardizacija(x_train, x_test, numeric_feats, dummy_feats):\n",
    "    # Save the original order of columns\n",
    "    cols = x_train.columns\n",
    "    \n",
    "    # Standardize numeric features\n",
    "    s = StandardScaler()\n",
    "    s.fit(x_train[numeric_feats])\n",
    "    \n",
    "    x_train_std_numeric = s.transform(x_train[numeric_feats])\n",
    "    x_test_std_numeric = s.transform(x_test[numeric_feats])\n",
    "    \n",
    "    x_train_std_numeric = pd.DataFrame(x_train_std_numeric, columns=numeric_feats)\n",
    "    x_test_std_numeric = pd.DataFrame(x_test_std_numeric, columns=numeric_feats)\n",
    "\n",
    "    # Concatenate standardized numeric features with dummy features\n",
    "    x_train_std = pd.concat([x_train_std_numeric, x_train[dummy_feats]], axis=1)\n",
    "    x_test_std = pd.concat([x_test_std_numeric, x_test[dummy_feats]], axis=1)\n",
    "\n",
    "    return x_train_std_numeric, x_test_std_numeric"
   ]
  },
  {
   "cell_type": "code",
   "execution_count": 428,
   "metadata": {},
   "outputs": [],
   "source": [
    "# from sklearn.model_selection import KFold\n",
    "# from sklearn.metrics import mean_squared_error, r2_score\n",
    "\n",
    "# # Define number of folds\n",
    "# k = 5\n",
    "# kf = KFold(n_splits=k, shuffle=True, random_state=42)\n",
    "\n",
    "# # Initialize lists to store performance metrics\n",
    "# mse_scores = []\n",
    "# r2_scores = []\n",
    "\n",
    "# model = Lasso(alpha=0.01)\n",
    "\n",
    "# # Iterate over each fold\n",
    "# for train_index, test_index in kf.split(X_train_std):\n",
    "#     # Split data into train and test sets for this fold\n",
    "#     X_train_fold, X_val_fold = X_train_std.iloc[train_index], X_train_std.iloc[test_index]\n",
    "#     y_train_fold, y_val_fold = y_train.iloc[train_index], y_train.iloc[test_index]\n",
    "\n",
    "#     # Train your model on the training fold\n",
    "#     model.fit(X_train_fold, y_train_fold)\n",
    "    \n",
    "#     # Make predictions on the validation fold\n",
    "#     y_pred = model.predict(X_val_fold)\n",
    "    \n",
    "#     # Compute performance metrics for this fold\n",
    "#     mse = mean_squared_error(y_val_fold, y_pred)\n",
    "#     r2 = r2_score(y_val_fold, y_pred)\n",
    "    \n",
    "#     # Append scores to lists\n",
    "#     mse_scores.append(mse)\n",
    "#     r2_scores.append(r2)\n",
    "\n",
    "# # Compute average performance metrics over all folds\n",
    "# avg_mse = np.mean(mse_scores)\n",
    "# avg_r2 = np.mean(r2_scores)\n",
    "\n",
    "# print(\"Average MSE:\", avg_mse)\n",
    "# print(\"Average R-squared:\", avg_r2)\n"
   ]
  },
  {
   "cell_type": "markdown",
   "metadata": {},
   "source": [
    "##### Lasso with poly features"
   ]
  },
  {
   "cell_type": "code",
   "execution_count": 429,
   "metadata": {},
   "outputs": [],
   "source": [
    "# poly = PolynomialFeatures(interaction_only=False, degree=2, include_bias=True)\n",
    "# X_inter_train = poly.fit_transform(X_train_std)\n",
    "# X_inter_test = poly.transform(X_test_std)\n",
    "# out_feat_names = PolynomialFeatures.get_feature_names_out(\n",
    "#     poly, input_features=None)"
   ]
  },
  {
   "cell_type": "code",
   "execution_count": 430,
   "metadata": {},
   "outputs": [],
   "source": [
    "# X_train_std, X_test_std = standardizacija(X_train, X_test, numeric_feats, dummy_feats)\n",
    "# poly = PolynomialFeatures(interaction_only=False, degree=3, include_bias=False)\n",
    "# X_inter_train = poly.fit_transform(X_train_std)\n",
    "# X_inter_test = poly.transform(X_test_std)"
   ]
  },
  {
   "cell_type": "code",
   "execution_count": 431,
   "metadata": {},
   "outputs": [],
   "source": [
    "# # Inicijalizacija modela\n",
    "# lm = Ridge(alpha=0.001)\n",
    "\n",
    "# #Obuka\n",
    "# lm.fit(X_train, y_train)\n",
    "\n",
    "# # Testiranje\n",
    "# y_predicted = lm.predict(X_test)\n",
    "\n",
    "# # Evaluacija (racunanje mera uspesnosti)\n",
    "# model_evaluation(y_test, y_predicted, X_train.shape[0], X_train.shape[1])\n",
    "\n",
    "# # Ilustracija koeficijenata\n",
    "# plt.figure(figsize=(10,5))\n",
    "# plt.bar(range(len(lm.coef_)),lm.coef_)\n",
    "# print(\"koeficijenti: \", lm.coef_)"
   ]
  },
  {
   "cell_type": "code",
   "execution_count": 432,
   "metadata": {},
   "outputs": [],
   "source": [
    "# # Inicijalizacija modela\n",
    "# rm = Ridge(alpha=5)\n",
    "\n",
    "# #Obuka\n",
    "# rm.fit(X_inter_train, y_train)\n",
    "\n",
    "# # Testiranje\n",
    "# y_predicted = rm.predict(X_inter_test)\n",
    "\n",
    "# # Evaluacija (racunanje mera uspesnosti)\n",
    "# model_evaluation(y_test, y_predicted, X_inter_train.shape[0], X_inter_train.shape[1])\n",
    "\n",
    "# # Ilustracija koeficijenata\n",
    "# plt.figure(figsize=(10,5))\n",
    "# plt.bar(range(len(rm.coef_)),rm.coef_)\n",
    "# print(\"koeficijenti: \", rm.coef_)"
   ]
  },
  {
   "cell_type": "markdown",
   "metadata": {},
   "source": [
    "#### Poly set"
   ]
  },
  {
   "cell_type": "code",
   "execution_count": 433,
   "metadata": {},
   "outputs": [],
   "source": [
    "# # Define polynomial features\n",
    "# poly = PolynomialFeatures(degree=2, include_bias=True, interaction_only=False)\n",
    "# X_inter_train = poly.fit_transform(X_train_std)\n",
    "# X_inter_test = poly.transform(X_test_std)"
   ]
  },
  {
   "cell_type": "markdown",
   "metadata": {},
   "source": [
    "##### Lasso Poly + GridSearch\n"
   ]
  },
  {
   "cell_type": "code",
   "execution_count": 434,
   "metadata": {},
   "outputs": [],
   "source": [
    "# # Define hyperparameter grid\n",
    "# param_grid = {'alpha': [0.001, 0.01, 0.1, 1.0, 10.0, 100.0]}\n",
    "\n",
    "# # Instantiate Lasso regression model\n",
    "# lasso = Lasso()\n",
    "\n",
    "# # Instantiate GridSearchCV\n",
    "# grid_search = GridSearchCV(estimator=lasso, param_grid=param_grid, scoring='neg_mean_squared_error', cv=5)\n",
    "\n",
    "# # Fit grid search to training data\n",
    "# grid_search.fit(X_inter_train, y_train)\n",
    "\n",
    "# # Access best model and parameters\n",
    "# best_model = grid_search.best_estimator_\n",
    "# best_params = grid_search.best_params_\n",
    "\n",
    "# # Evaluate best model on testing data\n",
    "# y_pred = best_model.predict(X_inter_test)\n",
    "# mse = mean_squared_error(y_test, y_pred)\n",
    "# r2 = r2_score(y_test, y_pred)\n",
    "\n",
    "# print(\"Best Model Parameters:\", best_params)\n",
    "# print(\"MSE:\", mse)\n",
    "# print(\"R-squared:\", r2)"
   ]
  },
  {
   "cell_type": "markdown",
   "metadata": {},
   "source": [
    "##### Ridge Poly + GridSearch"
   ]
  },
  {
   "cell_type": "code",
   "execution_count": 435,
   "metadata": {},
   "outputs": [],
   "source": [
    "# # Define hyperparameter grid\n",
    "# param_grid = {'alpha': [0.001, 0.01, 0.1, 1.0, 5, 10.0, 100.0]}\n",
    "\n",
    "# # Instantiate ridge regression model\n",
    "# ridge = Ridge()\n",
    "\n",
    "# # Instantiate GridSearchCV\n",
    "# grid_search = GridSearchCV(estimator=ridge, param_grid=param_grid, scoring='neg_mean_squared_error', cv=5)\n",
    "\n",
    "# # Fit grid search to training data\n",
    "# grid_search.fit(X_inter_train, y_train)\n",
    "\n",
    "# # Access best model and parameters\n",
    "# best_model = grid_search.best_estimator_\n",
    "# best_params = grid_search.best_params_\n",
    "\n",
    "# # Evaluate best model on testing data\n",
    "# y_pred = best_model.predict(X_inter_test)\n",
    "# mse = mean_squared_error(y_test, y_pred)\n",
    "# r2 = r2_score(y_test, y_pred)\n",
    "\n",
    "# print(\"Best Model Parameters:\", best_params)\n",
    "# print(\"MSE:\", mse)\n",
    "# print(\"R-squared:\", r2)"
   ]
  },
  {
   "cell_type": "markdown",
   "metadata": {},
   "source": [
    "##### SVR"
   ]
  },
  {
   "cell_type": "code",
   "execution_count": 436,
   "metadata": {},
   "outputs": [],
   "source": [
    "# from sklearn.svm import SVR\n",
    "# from sklearn.model_selection import GridSearchCV\n",
    "# from sklearn.preprocessing import PolynomialFeatures, StandardScaler\n",
    "# from sklearn.pipeline import make_pipeline\n",
    "# from sklearn.metrics import mean_squared_error, r2_score\n",
    "# # Define hyperparameter grid for SVR\n",
    "# from sklearn.model_selection import RandomizedSearchCV\n",
    "# from scipy.stats import uniform, randint\n",
    "\n",
    "# # Define polynomial features\n",
    "# # poly = PolynomialFeatures(degree=2, include_bias=True, interaction_only=False)\n",
    "\n",
    "# # Define SVR model\n",
    "# svr = SVR(kernel='rbf')\n",
    "\n",
    "# # Create a pipeline with polynomial features and SVR\n",
    "# pipeline = make_pipeline(StandardScaler(), svr)\n",
    "\n",
    "\n",
    "# # Define hyperparameter distributions for RandomizedSearchCV\n",
    "# # param_dist = {\n",
    "# #     'svr__C': uniform(0.001, 10),  # Example distribution for C\n",
    "# #     'svr__gamma': ['scale', 'auto'],\n",
    "# #     'svr__kernel': ['poly', 'rbf', 'sigmoid'],\n",
    "# #     'svr__degree': randint(2, 5),  # Example distribution for degree\n",
    "# #     'svr__epsilon': uniform(0.1, 0.4)  # Example distribution for epsilon\n",
    "# # }\n",
    "\n",
    "# # # Instantiate RandomizedSearchCV\n",
    "# # random_search = RandomizedSearchCV(estimator=pipeline, param_distributions=param_dist, n_iter=10,\n",
    "# #                                    scoring='neg_mean_squared_error', cv=5, random_state=42, n_jobs=-1)\n",
    "\n",
    "# # Fit randomized search to training dabta\n",
    "\n",
    "# best_model = pipeline.fit(X_train, y_train)\n",
    "\n",
    "# # # Access best model and parameters\n",
    "# # best_model = random_search.best_estimator_\n",
    "# # best_params = random_search.best_params_\n",
    "\n",
    "# # Evaluate best model on testing data\n",
    "# y_pred = best_model.predict(X_test)\n",
    "# mse = mean_squared_error(y_test, y_pred)\n",
    "# r2 = r2_score(y_test, y_pred)\n",
    "\n",
    "# print(\"MSE:\", mse)\n",
    "# print(\"R-squared:\", r2)"
   ]
  },
  {
   "cell_type": "markdown",
   "metadata": {},
   "source": [
    "## Smanjenje dimenzionalnosti"
   ]
  },
  {
   "cell_type": "markdown",
   "metadata": {},
   "source": [
    "### PCA"
   ]
  },
  {
   "cell_type": "code",
   "execution_count": 437,
   "metadata": {},
   "outputs": [],
   "source": [
    "from sklearn.decomposition import PCA"
   ]
  },
  {
   "cell_type": "code",
   "execution_count": 438,
   "metadata": {},
   "outputs": [],
   "source": [
    "#Do not uncomment if using Grid Search\n",
    "# c = 10\n",
    "# pca = PCA(n_components=c)\n",
    "\n",
    "# df_names = [f'PCA_{i}' for i in range(c)]\n",
    "# print(df_names)\n",
    "\n",
    "# princ_components = pca.fit_transform(X)\n",
    "# X = pd.DataFrame(data = princ_components, columns = df_names)\n",
    "# print(X.shape)\n"
   ]
  },
  {
   "cell_type": "code",
   "execution_count": null,
   "metadata": {},
   "outputs": [],
   "source": []
  },
  {
   "cell_type": "markdown",
   "metadata": {},
   "source": [
    "#### Search for best parameters"
   ]
  },
  {
   "cell_type": "code",
   "execution_count": 439,
   "metadata": {},
   "outputs": [
    {
     "name": "stdout",
     "output_type": "stream",
     "text": [
      "Fitting 5 folds for each of 7 candidates, totalling 35 fits\n",
      "[CV 1/5] END ..............pca__n_components=1;, score=-0.021 total time=   2.7s\n",
      "[CV 2/5] END ..............pca__n_components=1;, score=-0.002 total time=   3.2s\n",
      "[CV 5/5] END ..............pca__n_components=1;, score=-0.016 total time=   3.2s\n",
      "[CV 3/5] END ...............pca__n_components=1;, score=0.001 total time=   3.3s\n",
      "[CV 4/5] END ..............pca__n_components=1;, score=-0.004 total time=   3.4s\n",
      "[CV 2/5] END ...............pca__n_components=5;, score=0.258 total time=   4.2s\n",
      "[CV 1/5] END ...............pca__n_components=5;, score=0.245 total time=   4.2s\n",
      "[CV 3/5] END ...............pca__n_components=5;, score=0.236 total time=   4.2s\n",
      "[CV 4/5] END ...............pca__n_components=5;, score=0.217 total time=   4.4s\n",
      "[CV 1/5] END ..............pca__n_components=10;, score=0.842 total time=   4.4s\n",
      "[CV 2/5] END ..............pca__n_components=10;, score=0.832 total time=   4.6s\n",
      "[CV 3/5] END ..............pca__n_components=10;, score=0.826 total time=   4.6s\n",
      "[CV 5/5] END ..............pca__n_components=10;, score=0.811 total time=   4.3s\n",
      "[CV 5/5] END ...............pca__n_components=5;, score=0.179 total time=   5.8s\n",
      "[CV 4/5] END ..............pca__n_components=10;, score=0.815 total time=   4.7s\n"
     ]
    },
    {
     "name": "stdout",
     "output_type": "stream",
     "text": [
      "[CV 1/5] END ..............pca__n_components=60;, score=0.845 total time=  12.4s\n",
      "[CV 3/5] END ..............pca__n_components=60;, score=0.829 total time=  13.6s\n",
      "[CV 2/5] END ..............pca__n_components=60;, score=0.835 total time=  14.6s\n",
      "[CV 4/5] END ..............pca__n_components=60;, score=0.819 total time=  14.3s\n",
      "[CV 2/5] END ..............pca__n_components=65;, score=0.836 total time=  13.8s\n",
      "[CV 5/5] END ..............pca__n_components=60;, score=0.814 total time=  15.7s\n",
      "[CV 3/5] END ..............pca__n_components=65;, score=0.830 total time=  16.7s\n",
      "[CV 1/5] END ..............pca__n_components=65;, score=0.846 total time=  17.9s\n",
      "[CV 4/5] END ..............pca__n_components=65;, score=0.819 total time=  15.8s\n",
      "[CV 5/5] END ..............pca__n_components=65;, score=0.814 total time=  15.6s\n",
      "[CV 4/5] END ..............pca__n_components=70;, score=0.820 total time=  14.4s\n",
      "[CV 1/5] END ..............pca__n_components=70;, score=0.846 total time=  16.5s\n",
      "[CV 3/5] END ..............pca__n_components=70;, score=0.830 total time=  16.0s\n",
      "[CV 2/5] END ..............pca__n_components=70;, score=0.836 total time=  16.9s\n",
      "[CV 1/5] END ..............pca__n_components=71;, score=0.846 total time=  14.5s\n",
      "[CV 5/5] END ..............pca__n_components=70;, score=0.814 total time=  16.1s\n",
      "[CV 2/5] END ..............pca__n_components=71;, score=0.836 total time=  12.3s\n",
      "[CV 3/5] END ..............pca__n_components=71;, score=0.830 total time=   9.2s\n",
      "[CV 4/5] END ..............pca__n_components=71;, score=0.820 total time=   8.2s\n",
      "[CV 5/5] END ..............pca__n_components=71;, score=0.814 total time=   8.1s\n",
      "Best parameters: {'pca__n_components': 70}\n"
     ]
    }
   ],
   "source": [
    "from sklearn.decomposition import PCA\n",
    "from sklearn.pipeline import Pipeline\n",
    "from sklearn.model_selection import GridSearchCV\n",
    "from sklearn.linear_model import LinearRegression\n",
    "\n",
    "pipeline = Pipeline([\n",
    "    ('pca', PCA()), \n",
    "    ('lr', LinearRegression()) \n",
    "])\n",
    "\n",
    "\n",
    "param_grid = {\n",
    "    'pca__n_components': [1, 5, 10, 60, 65, 70, 71]  # Num of components to test\n",
    "}\n",
    "\n",
    "grid_search = GridSearchCV(pipeline, param_grid, cv=5, verbose=3, n_jobs=-1)\n",
    "\n",
    "grid_search.fit(X, y)\n",
    "\n",
    "print(\"Best parameters:\", grid_search.best_params_)"
   ]
  },
  {
   "cell_type": "code",
   "execution_count": 440,
   "metadata": {},
   "outputs": [],
   "source": [
    "results = grid_search.cv_results_\n",
    "param_values = results['param_pca__n_components'].data.astype(int)\n",
    "mean_test_scores = results['mean_test_score']"
   ]
  },
  {
   "cell_type": "code",
   "execution_count": 441,
   "metadata": {},
   "outputs": [
    {
     "data": {
      "image/png": "[encoded data removed]",
      "text/plain": [
       "<Figure size 1000x600 with 1 Axes>"
      ]
     },
     "metadata": {},
     "output_type": "display_data"
    }
   ],
   "source": [
    "plt.figure(figsize=(10, 6))\n",
    "plt.plot(param_values, mean_test_scores, marker='o')\n",
    "plt.title('Change in Score vs. Number of Components')\n",
    "plt.xlabel('Number of Components')\n",
    "plt.ylabel('Mean Test Score')\n",
    "plt.grid(True)\n",
    "plt.show()"
   ]
  }
 ],
 "metadata": {
  "kernelspec": {
   "display_name": "venv",
   "language": "python",
   "name": "python3"
  },
  "language_info": {
   "codemirror_mode": {
    "name": "ipython",
    "version": 3
   },
   "file_extension": ".py",
   "mimetype": "text/x-python",
   "name": "python",
   "nbconvert_exporter": "python",
   "pygments_lexer": "ipython3",
   "version": "3.10.12"
  }
 },
 "nbformat": 4,
 "nbformat_minor": 2
}
